{
  "cells": [
    {
      "cell_type": "markdown",
      "metadata": {
        "id": "yXgpw6ESCsOE"
      },
      "source": [
        "# การ Prompting พื้นฐาน\n",
        "สวัสดีครับทุกคน ยินดีต้อนรับสู่คอร์ส Prompt Engineering and LangChain โดย Stackpython ครับ\n",
        "\n",
        "ในบทนี้ ซึ่งเป็นบทแรกของเนื้อหาเราจะมาเรียนรู้เกี่ยวกับเทคนิคการ Prompting หรือ Prompting Principle ที่จะช่วยให้เราสามารถใช้งาน Large Language Model หรือ LLM ได้ effective และมีประสิทธิภาพมากขึ้นนั่นเอง\n",
        "\n",
        "## ติดตั้งโปรแกรมที่จำเป็น\n",
        "แต่ก่อนอื่นใด เราจำเป็นที่จะต้องติดตั้งโปรแกรมที่จำเป็นก่อนครับ ซึ่งเราจำเป็นที่จะต้องมี library ของ openai และอย่างที่ 2 คือ API Key ของ OpenAI นั่นเอง"
      ]
    },
    {
      "cell_type": "markdown",
      "metadata": {
        "id": "HjgpyB3lCxAE"
      },
      "source": [
        "ถ้าหากเรามีทั้งคู่แล้ว ก็สามารถที่จะใช้งาน OpenAI ได้ทันทีเลยครับ"
      ]
    },
    {
      "cell_type": "code",
      "execution_count": 9,
      "metadata": {
        "colab": {
          "base_uri": "https://localhost:8080/",
          "height": 567
        },
        "id": "Vn3KaF3Jox9X",
        "outputId": "d23366ee-e33c-4a54-cf0f-b5bd88f7aa4d"
      },
      "outputs": [
        {
          "name": "stdout",
          "output_type": "stream",
          "text": [
            "Collecting openai==0.28\n",
            "  Downloading openai-0.28.0-py3-none-any.whl.metadata (13 kB)\n",
            "Requirement already satisfied: requests>=2.20 in /usr/local/lib/python3.12/dist-packages (from openai==0.28) (2.32.4)\n",
            "Requirement already satisfied: tqdm in /usr/local/lib/python3.12/dist-packages (from openai==0.28) (4.67.1)\n",
            "Requirement already satisfied: aiohttp in /usr/local/lib/python3.12/dist-packages (from openai==0.28) (3.12.15)\n",
            "Requirement already satisfied: charset_normalizer<4,>=2 in /usr/local/lib/python3.12/dist-packages (from requests>=2.20->openai==0.28) (3.4.3)\n",
            "Requirement already satisfied: idna<4,>=2.5 in /usr/local/lib/python3.12/dist-packages (from requests>=2.20->openai==0.28) (3.10)\n",
            "Requirement already satisfied: urllib3<3,>=1.21.1 in /usr/local/lib/python3.12/dist-packages (from requests>=2.20->openai==0.28) (2.5.0)\n",
            "Requirement already satisfied: certifi>=2017.4.17 in /usr/local/lib/python3.12/dist-packages (from requests>=2.20->openai==0.28) (2025.8.3)\n",
            "Requirement already satisfied: aiohappyeyeballs>=2.5.0 in /usr/local/lib/python3.12/dist-packages (from aiohttp->openai==0.28) (2.6.1)\n",
            "Requirement already satisfied: aiosignal>=1.4.0 in /usr/local/lib/python3.12/dist-packages (from aiohttp->openai==0.28) (1.4.0)\n",
            "Requirement already satisfied: attrs>=17.3.0 in /usr/local/lib/python3.12/dist-packages (from aiohttp->openai==0.28) (25.3.0)\n",
            "Requirement already satisfied: frozenlist>=1.1.1 in /usr/local/lib/python3.12/dist-packages (from aiohttp->openai==0.28) (1.7.0)\n",
            "Requirement already satisfied: multidict<7.0,>=4.5 in /usr/local/lib/python3.12/dist-packages (from aiohttp->openai==0.28) (6.6.4)\n",
            "Requirement already satisfied: propcache>=0.2.0 in /usr/local/lib/python3.12/dist-packages (from aiohttp->openai==0.28) (0.3.2)\n",
            "Requirement already satisfied: yarl<2.0,>=1.17.0 in /usr/local/lib/python3.12/dist-packages (from aiohttp->openai==0.28) (1.20.1)\n",
            "Requirement already satisfied: typing-extensions>=4.2 in /usr/local/lib/python3.12/dist-packages (from aiosignal>=1.4.0->aiohttp->openai==0.28) (4.15.0)\n",
            "Downloading openai-0.28.0-py3-none-any.whl (76 kB)\n",
            "\u001b[2K   \u001b[90m━━━━━━━━━━━━━━━━━━━━━━━━━━━━━━━━━━━━━━━━\u001b[0m \u001b[32m76.5/76.5 kB\u001b[0m \u001b[31m2.6 MB/s\u001b[0m eta \u001b[36m0:00:00\u001b[0m\n",
            "\u001b[?25hInstalling collected packages: openai\n",
            "  Attempting uninstall: openai\n",
            "    Found existing installation: openai 1.108.0\n",
            "    Uninstalling openai-1.108.0:\n",
            "      Successfully uninstalled openai-1.108.0\n",
            "Successfully installed openai-0.28.0\n"
          ]
        },
        {
          "data": {
            "application/vnd.colab-display-data+json": {
              "id": "008a176a44ed4e20bb87792176874e60",
              "pip_warning": {
                "packages": [
                  "openai"
                ]
              }
            }
          },
          "metadata": {},
          "output_type": "display_data"
        }
      ],
      "source": [
        "# !pip install openai\n",
        "!pip install openai==0.28"
      ]
    },
    {
      "cell_type": "code",
      "execution_count": null,
      "metadata": {},
      "outputs": [],
      "source": [
        "from google.colab import userdata\n",
        "userdata.get('OPENAI_KEY')"
      ]
    },
    {
      "cell_type": "code",
      "execution_count": 2,
      "metadata": {
        "id": "htQdqnQ3Cfxx"
      },
      "outputs": [],
      "source": [
        "import openai\n",
        "\n",
        "openai.api_key  = userdata.get('OPENAI_KEY') # ใส่ API Key ตรงนี้"
      ]
    },
    {
      "cell_type": "markdown",
      "metadata": {
        "id": "XP1H6ZNwC1eR"
      },
      "source": [
        "#### helper function\n",
        "แม้ว่าวันนี้จะมี GPT-4 เปิดให้ใช้แล้ว แต่ปัจจุบันยังไม่ได้ Open Access ให้ใช้ทุกคน ในคอร์สนี้เราจึงยังจะสอนแค่ `gpt-3.5-turbo` ซึ่งเป็นโมเดลที่ Open Access สำหรับทุกคนแทน\n",
        "\n",
        "(`gpt-3.5-turbo` เป็นโมเดลที่ใช้ใน ChatGPT เวอร์ชันฟรี ซึ่งมันก็ทรงพลังมากๆในตัวมันเอง)\n",
        "\n",
        "แต่ทั้งนี้ทั้งนั้น การใช้งาน GPT-3.5 หรือ GPT-4 ก็มีความคล้ายคลึงกันในเชิง Technique ต่างๆที่ใช้งาน ถ้าหากท่านใช้งาน GPT-3.5-Turbo จนคล่อง ก็สามารถที่จะนำทักษะตรงนี้ไปใช้งาน GPT-4 ได้เมื่อ Open Access สำหรับทุกคน\n",
        "\n",
        "ในที่นี้ผมจะขอเขียน Helper function ขึ้นมาตัวนึงเพื่อให้ใช้งาน API ของ OpenAI ได้สะดวกยิ่งขึ้นครับ\n",
        "(https://platform.openai.com/docs/guides/chat)"
      ]
    },
    {
      "cell_type": "code",
      "execution_count": 3,
      "metadata": {
        "id": "6eVWHcQ7oARg"
      },
      "outputs": [],
      "source": [
        "def get_completion(prompt, model=\"gpt-3.5-turbo\", temperature=0):\n",
        "    messages = [{\"role\":\"user\",\"content\":prompt}]\n",
        "    response = openai.ChatCompletion.create(\n",
        "        model = model,\n",
        "        messages = messages,\n",
        "        temperature = temperature, # this is the degree of randomness of the model's output\n",
        "    )\n",
        "    return response.choices[0].message[\"content\"]"
      ]
    },
    {
      "cell_type": "markdown",
      "metadata": {
        "id": "lqC4BjDHC5Xw"
      },
      "source": [
        "## Prompting Principles\n",
        "หลักการการ Prompt มีอยู่ 2 ข้อหลักๆด้วยกันที่เราควรปรับใช้ การใช้งาน LLM ผมอยากให้ลองนึกว่า AI ไม่ใช่โปรแกรม แต่มันเป็นคนคนนึง ซึ่งการที่เราจะสั่งให้คนคนนึงทำงานให้เรา ก็ต้องประกอบไปด้วย 2 อย่าง\n",
        "\n",
        "- **หลักการที่ 1: เขียน Prompt ให้เคลียร์ ชัดเจนและเข้าใจง่าย**\n",
        "- **หลักการที่ 2: ให้เวลาโมเดล \"คิด\" ด้วย**\n"
      ]
    },
    {
      "cell_type": "markdown",
      "metadata": {
        "id": "xUbK6BE5nb7R"
      },
      "source": [
        "\n",
        "### **หลักการที่ 1 เขียน Prompt ให้เคลียร์ ชัดเจนและเข้าใจง่าย**\n",
        "\n",
        "#### เทคนิค 1: ใช้สัญลักษณ์พิเศษ เพื่อแบ่งแต่ละส่วนของคำสั่งให้ชัดเจน\n",
        "- อักษรพิเศษต่าง ๆ เช่น: ```, \"\"\", < >, `<tag> </tag>`, `:`"
      ]
    },
    {
      "cell_type": "code",
      "execution_count": 5,
      "metadata": {
        "colab": {
          "base_uri": "https://localhost:8080/"
        },
        "id": "KE1U3PREC9yD",
        "outputId": "1c604957-39c7-45be-9907-910364a2b39e"
      },
      "outputs": [
        {
          "name": "stdout",
          "output_type": "stream",
          "text": [
            "Providing clear and specific instructions to a model is essential for guiding it towards the desired output and reducing the chances of receiving irrelevant or incorrect responses, with longer prompts often providing more clarity and context for more detailed and relevant outputs.\n"
          ]
        }
      ],
      "source": [
        "text = f\"\"\"\n",
        "You should express what you want a model to do by \\\n",
        "providing instructions that are as clear and \\\n",
        "specific as you can possibly make them. \\\n",
        "This will guide the model towards the desired output, \\\n",
        "and reduce the chances of receiving irrelevant \\\n",
        "or incorrect responses. Don't confuse writing a \\\n",
        "clear prompt with writing a short prompt. \\\n",
        "In many cases, longer prompts provide more clarity \\\n",
        "and context for the model, which can lead to \\\n",
        "more detailed and relevant outputs.\n",
        "\"\"\"\n",
        "prompt = f\"\"\"\n",
        "Summarize the text delimited by triple backticks \\\n",
        "into a single sentence.\n",
        "```{text}```\n",
        "\"\"\"\n",
        "response = get_completion(prompt)\n",
        "print(response)"
      ]
    },
    {
      "cell_type": "markdown",
      "metadata": {
        "id": "C_jtPUDtC_xa"
      },
      "source": [
        "#### เทคนิค 2: ระบุ Pattern ที่ชัดเจนว่าอยากให้ผลลัพท์เป็นอย่างไร\n",
        "- JSON, HTML"
      ]
    },
    {
      "cell_type": "code",
      "execution_count": 6,
      "metadata": {
        "colab": {
          "base_uri": "https://localhost:8080/"
        },
        "id": "qBIApPLEDAW6",
        "outputId": "e48b7b09-bd24-4092-96e7-a517d4adb7b8"
      },
      "outputs": [
        {
          "name": "stdout",
          "output_type": "stream",
          "text": [
            "[\n",
            "    {\n",
            "        \"book_id\": 1,\n",
            "        \"title\": \"The Midnight Garden\",\n",
            "        \"author\": \"Elena Rivers\",\n",
            "        \"genre\": \"Fantasy\"\n",
            "    },\n",
            "    {\n",
            "        \"book_id\": 2,\n",
            "        \"title\": \"Echoes of the Past\",\n",
            "        \"author\": \"Nathan Black\",\n",
            "        \"genre\": \"Mystery\"\n",
            "    },\n",
            "    {\n",
            "        \"book_id\": 3,\n",
            "        \"title\": \"Whispers in the Wind\",\n",
            "        \"author\": \"Samantha Reed\",\n",
            "        \"genre\": \"Romance\"\n",
            "    }\n",
            "]\n"
          ]
        }
      ],
      "source": [
        "prompt = f\"\"\"\n",
        "Generate a list of three made-up book titles along \\\n",
        "with their authors and genres.\n",
        "Provide them in JSON format with the following keys:\n",
        "book_id, title, author, genre.\n",
        "\"\"\"\n",
        "response = get_completion(prompt)\n",
        "print(response)"
      ]
    },
    {
      "cell_type": "markdown",
      "metadata": {
        "id": "IdgGwE_8DB8N"
      },
      "source": [
        "#### เทคนิค 3: ใส่เงื่อนไขว่าต้องการผลลัพท์อย่างไร\n",
        "- If, Elif, Else"
      ]
    },
    {
      "cell_type": "code",
      "execution_count": 7,
      "metadata": {
        "colab": {
          "base_uri": "https://localhost:8080/"
        },
        "id": "0K-DLGuUDO0u",
        "outputId": "5c4769e5-9ea8-4aea-e8cc-f7bbb76395a4"
      },
      "outputs": [
        {
          "name": "stdout",
          "output_type": "stream",
          "text": [
            "Completion for Text 1:\n",
            "Step 1 - Get some water boiling.\n",
            "Step 2 - Grab a cup and put a tea bag in it.\n",
            "Step 3 - Pour the hot water over the tea bag.\n",
            "Step 4 - Let the tea steep for a few minutes.\n",
            "Step 5 - Remove the tea bag.\n",
            "Step 6 - Add sugar or milk to taste.\n",
            "Step 7 - Enjoy your delicious cup of tea.\n"
          ]
        }
      ],
      "source": [
        "text_1 = f\"\"\"\n",
        "Making a cup of tea is easy! First, you need to get some \\\n",
        "water boiling. While that's happening, \\\n",
        "grab a cup and put a tea bag in it. Once the water is \\\n",
        "hot enough, just pour it over the tea bag. \\\n",
        "Let it sit for a bit so the tea can steep. After a \\\n",
        "few minutes, take out the tea bag. If you \\\n",
        "like, you can add some sugar or milk to taste. \\\n",
        "And that's it! You've got yourself a delicious \\\n",
        "cup of tea to enjoy.\n",
        "\"\"\"\n",
        "prompt = f\"\"\"\n",
        "You will be provided with text delimited by triple quotes.\n",
        "If it contains a sequence of instructions, \\\n",
        "re-write those instructions in the following format:\n",
        "\n",
        "Step 1 - ...\n",
        "Step 2 - …\n",
        "…\n",
        "Step N - …\n",
        "\n",
        "If the text does not contain a sequence of instructions, \\\n",
        "then simply write \\\"No steps provided.\\\"\n",
        "\n",
        "\\\"\\\"\\\"{text_1}\\\"\\\"\\\"\n",
        "\"\"\"\n",
        "response = get_completion(prompt)\n",
        "print(\"Completion for Text 1:\")\n",
        "print(response)"
      ]
    },
    {
      "cell_type": "code",
      "execution_count": 8,
      "metadata": {
        "colab": {
          "base_uri": "https://localhost:8080/"
        },
        "id": "-If5MQC3DQZP",
        "outputId": "cb7b2865-435d-4452-ef90-dd48ace3aa0d"
      },
      "outputs": [
        {
          "name": "stdout",
          "output_type": "stream",
          "text": [
            "Completion for Text 2:\n",
            "No steps provided.\n"
          ]
        }
      ],
      "source": [
        "text_2 = f\"\"\"\n",
        "The sun is shining brightly today, and the birds are \\\n",
        "singing. It's a beautiful day to go for a \\\n",
        "walk in the park. The flowers are blooming, and the \\\n",
        "trees are swaying gently in the breeze. People \\\n",
        "are out and about, enjoying the lovely weather. \\\n",
        "Some are having picnics, while others are playing \\\n",
        "games or simply relaxing on the grass. It's a \\\n",
        "perfect day to spend time outdoors and appreciate the \\\n",
        "beauty of nature.\n",
        "\"\"\"\n",
        "prompt = f\"\"\"\n",
        "You will be provided with text delimited by triple quotes.\n",
        "If it contains a sequence of instructions, \\\n",
        "re-write those instructions in the following format:\n",
        "\n",
        "Step 1 - ...\n",
        "Step 2 - …\n",
        "…\n",
        "Step N - …\n",
        "\n",
        "If the text does not contain a sequence of instructions, \\\n",
        "then simply write \\\"No steps provided.\\\"\n",
        "\n",
        "\\\"\\\"\\\"{text_2}\\\"\\\"\\\"\n",
        "\"\"\"\n",
        "response = get_completion(prompt)\n",
        "print(\"Completion for Text 2:\")\n",
        "print(response)"
      ]
    },
    {
      "cell_type": "markdown",
      "metadata": {
        "id": "LQWdVD4nDS_O"
      },
      "source": [
        "#### เทคนิค 4: \"Few-shot\" prompting\n",
        "เป็นเทคนิคที่ยกตัวอย่างผลลัพท์ที่ต้องการให้โมเดลก่อน จากนั้นจึงให้โมเดลลอกเลียนแบบจากสิ่งที่เราทำ (เป็นหนึ่งในเทคนิคที่ทรงพลังที่สุด)"
      ]
    },
    {
      "cell_type": "code",
      "execution_count": 9,
      "metadata": {
        "colab": {
          "base_uri": "https://localhost:8080/"
        },
        "id": "Zr46HFN_DUGA",
        "outputId": "4aee14ce-053c-487a-bcb4-32a551626d75"
      },
      "outputs": [
        {
          "name": "stdout",
          "output_type": "stream",
          "text": [
            "<grandparent>: Resilience is like a mighty oak tree that withstands the fiercest storms, bending but never breaking. It is the ability to bounce back from adversity, to find strength in the face of challenges, and to keep moving forward no matter what obstacles may come your way. Just like the oak tree, resilience grows stronger with each trial it endures.\n"
          ]
        }
      ],
      "source": [
        "prompt = f\"\"\"\n",
        "Your task is to answer in a consistent style.\n",
        "\n",
        "<child>: Teach me about patience.\n",
        "\n",
        "<grandparent>: The river that carves the deepest \\\n",
        "valley flows from a modest spring; the \\\n",
        "grandest symphony originates from a single note; \\\n",
        "the most intricate tapestry begins with a solitary thread.\n",
        "\n",
        "<child>: Teach me about resilience.\n",
        "\"\"\"\n",
        "response = get_completion(prompt)\n",
        "print(response)"
      ]
    },
    {
      "cell_type": "markdown",
      "metadata": {
        "id": "ZX6yBSnVDVz1"
      },
      "source": [
        "### **หลักการที่ 2: ให้เวลาโมเดล \"คิด\" ด้วย**\n",
        "\n",
        "#### เทคนิค 1: บอกโมเดลว่า Step-by-Step เป็นยังไง"
      ]
    },
    {
      "cell_type": "code",
      "execution_count": 10,
      "metadata": {
        "colab": {
          "base_uri": "https://localhost:8080/"
        },
        "id": "77KjGN63DW4k",
        "outputId": "8dbe6065-40ee-4b10-d2ec-84936ff24fdf"
      },
      "outputs": [
        {
          "name": "stdout",
          "output_type": "stream",
          "text": [
            "Completion for prompt 1:\n",
            "1 - Jack and Jill go on a quest to fetch water from a well, but encounter misfortune on the way back home.\n",
            "\n",
            "2 - Jack et Jill partent en quête d'eau d'un puits, mais rencontrent un malheur sur le chemin du retour.\n",
            "\n",
            "3 - Jack, Jill\n",
            "\n",
            "4 - \n",
            "{\n",
            "  \"french_summary\": \"Jack et Jill partent en quête d'eau d'un puits, mais rencontrent un malheur sur le chemin du retour.\",\n",
            "  \"num_names\": 2\n",
            "}\n"
          ]
        }
      ],
      "source": [
        "text = f\"\"\"\n",
        "In a charming village, siblings Jack and Jill set out on \\\n",
        "a quest to fetch water from a hilltop \\\n",
        "well. As they climbed, singing joyfully, misfortune \\\n",
        "struck—Jack tripped on a stone and tumbled \\\n",
        "down the hill, with Jill following suit. \\\n",
        "Though slightly battered, the pair returned home to \\\n",
        "comforting embraces. Despite the mishap, \\\n",
        "their adventurous spirits remained undimmed, and they \\\n",
        "continued exploring with delight.\n",
        "\"\"\"\n",
        "# example 1\n",
        "prompt_1 = f\"\"\"\n",
        "Perform the following actions:\n",
        "1 - Summarize the following text delimited by triple \\\n",
        "backticks with 1 sentence.\n",
        "2 - Translate the summary into French.\n",
        "3 - List each name in the French summary.\n",
        "4 - Output a json object that contains the following \\\n",
        "keys: french_summary, num_names.\n",
        "\n",
        "Separate your answers with line breaks.\n",
        "\n",
        "Text:\n",
        "```{text}```\n",
        "\"\"\"\n",
        "response = get_completion(prompt_1)\n",
        "print(\"Completion for prompt 1:\")\n",
        "print(response)"
      ]
    },
    {
      "cell_type": "markdown",
      "metadata": {
        "id": "RsC7P2e8Dc_7"
      },
      "source": [
        "#### อันนี้เรามีแอบใช้เทคนิคจากหลักการข้อแรกด้วยครับ เป็นการ Specify ว่า Output ที่อยากได้เป็นยังไง"
      ]
    },
    {
      "cell_type": "code",
      "execution_count": null,
      "metadata": {
        "colab": {
          "base_uri": "https://localhost:8080/"
        },
        "id": "RsBOr31CDemA",
        "outputId": "cf96e19c-d43c-42c7-8e24-225ba6a9a091"
      },
      "outputs": [
        {
          "name": "stdout",
          "output_type": "stream",
          "text": [
            "\n",
            "Completion for prompt 2:\n",
            "Summary: Jack and Jill go on a quest to fetch water from a hilltop well, but they both fall down the hill and return home slightly battered but with undimmed adventurous spirits.\n",
            "\n",
            "Translation: Jack et Jill partent à la recherche d'eau d'un puits au sommet d'une colline, mais ils tombent tous les deux et rentrent chez eux légèrement blessés mais avec des esprits aventureux intacts.\n",
            "\n",
            "Names: Jack, Jill\n",
            "\n",
            "Output JSON: {\"french_summary\": \"Jack et Jill partent à la recherche d'eau d'un puits au sommet d'une colline, mais ils tombent tous les deux et rentrent chez eux légèrement blessés mais avec des esprits aventureux intacts.\", \"num_names\": 2}\n"
          ]
        }
      ],
      "source": [
        "prompt_2 = f\"\"\"\n",
        "Your task is to perform the following actions:\n",
        "1 - Summarize the following text delimited by\n",
        "  <> with 1 sentence.\n",
        "2 - Translate the summary into French.\n",
        "3 - List each name in the French summary.\n",
        "4 - Output a json object that contains the\n",
        "  following keys: french_summary, num_names.\n",
        "\n",
        "Use the following format:\n",
        "Text: <text to summarize>\n",
        "Summary: <summary>\n",
        "Translation: <summary translation>\n",
        "Names: <list of names in Italian summary>\n",
        "Output JSON: <json with summary and num_names>\n",
        "\n",
        "Text: <{text}>\n",
        "\"\"\"\n",
        "response = get_completion(prompt_2)\n",
        "print(\"\\nCompletion for prompt 2:\")\n",
        "print(response)"
      ]
    },
    {
      "cell_type": "markdown",
      "metadata": {
        "id": "ORk1mSSQDnv9"
      },
      "source": [
        "## ข้อจำกัด: Hallucinations\n",
        "ถ้าหากเราถามคำถามที่ uncommon หรือโมเดลไม่สามารถตอบได้ ตัวโมเดลอาจจะโกหกแล้วตอบคำถามด้วยสิ่งที่เป็นเท็จ\n",
        "\n",
        "- Boie เป็นบริษัทที่มีอยู่จริง แต่ผลิตภัณฑ์ที่ GPT-3.5 ตอบไม่ใช่ของจริง"
      ]
    },
    {
      "cell_type": "code",
      "execution_count": null,
      "metadata": {
        "colab": {
          "base_uri": "https://localhost:8080/"
        },
        "id": "y8mEdreuDpK2",
        "outputId": "62300116-3acc-4f6a-ae0d-bb11cd7b2c1a"
      },
      "outputs": [
        {
          "name": "stdout",
          "output_type": "stream",
          "text": [
            "The AeroGlide UltraSlim Smart Toothbrush by Boie is a technologically advanced toothbrush designed to provide a superior brushing experience. Boie is a company known for its innovative oral care products, and the AeroGlide UltraSlim Smart Toothbrush is no exception.\n",
            "\n",
            "One of the standout features of this toothbrush is its ultra-slim design. The brush head is only 2mm thick, making it much thinner than traditional toothbrushes. This slim profile allows for better access to hard-to-reach areas of the mouth, ensuring a thorough and effective clean.\n",
            "\n",
            "The AeroGlide UltraSlim Smart Toothbrush also incorporates smart technology. It connects to a mobile app via Bluetooth, allowing users to track their brushing habits and receive personalized recommendations for improving their oral hygiene routine. The app provides real-time feedback on brushing technique, duration, and coverage, helping users to achieve optimal oral health.\n",
            "\n",
            "The toothbrush features soft, antimicrobial bristles made from a durable thermoplastic elastomer. These bristles are gentle on the gums and teeth, while also being effective at removing plaque and debris. The antimicrobial properties of the bristles help to inhibit the growth of bacteria, keeping the brush clean and hygienic.\n",
            "\n",
            "In terms of battery life, the AeroGlide UltraSlim Smart Toothbrush boasts an impressive 30-day battery life on a single charge. This makes it convenient for travel and ensures that users don't have to worry about constantly recharging their toothbrush.\n",
            "\n",
            "Overall, the AeroGlide UltraSlim Smart Toothbrush by Boie offers a combination of advanced technology, slim design, and effective cleaning capabilities. It is a great option for those looking to upgrade their oral care routine and achieve a healthier smile.\n"
          ]
        }
      ],
      "source": [
        "prompt = f\"\"\"\n",
        "Tell me about AeroGlide UltraSlim Smart Toothbrush by Boie\n",
        "\"\"\"\n",
        "response = get_completion(prompt)\n",
        "print(response)"
      ]
    },
    {
      "cell_type": "markdown",
      "metadata": {
        "id": "kzSX-AdKDvEu"
      },
      "source": [
        "\n",
        "\n",
        "---\n",
        "\n"
      ]
    },
    {
      "cell_type": "markdown",
      "metadata": {
        "id": "IoslbqRjDxlq"
      },
      "source": [
        "# Iterative Prompt Development\n",
        "ในบทเรียนนี้ เราจะใช้เทคนิค Iterative Prompt Development เพื่อวิเคราะห์ และสร้าง Prompt ที่สมบูรณ์ที่สุด ในการเขียน marketing copy จาก fact sheet ของสินค้า"
      ]
    },
    {
      "cell_type": "markdown",
      "metadata": {
        "id": "nzqxdEo3D3Re"
      },
      "source": [
        "## Attempt 1. Generate จาก Factsheet ตรงๆ"
      ]
    },
    {
      "cell_type": "code",
      "execution_count": null,
      "metadata": {
        "id": "B0ZUs9uyD4sG"
      },
      "outputs": [],
      "source": [
        "fact_sheet_chair = \"\"\"\n",
        "OVERVIEW\n",
        "- Part of a beautiful family of mid-century inspired office furniture,\n",
        "including filing cabinets, desks, bookcases, meeting tables, and more.\n",
        "- Several options of shell color and base finishes.\n",
        "- Available with plastic back and front upholstery (SWC-100)\n",
        "or full upholstery (SWC-110) in 10 fabric and 6 leather options.\n",
        "- Base finish options are: stainless steel, matte black,\n",
        "gloss white, or chrome.\n",
        "- Chair is available with or without armrests.\n",
        "- Suitable for home or business settings.\n",
        "- Qualified for contract use.\n",
        "\n",
        "CONSTRUCTION\n",
        "- 5-wheel plastic coated aluminum base.\n",
        "- Pneumatic chair adjust for easy raise/lower action.\n",
        "\n",
        "DIMENSIONS\n",
        "- WIDTH 53 CM | 20.87”\n",
        "- DEPTH 51 CM | 20.08”\n",
        "- HEIGHT 80 CM | 31.50”\n",
        "- SEAT HEIGHT 44 CM | 17.32”\n",
        "- SEAT DEPTH 41 CM | 16.14”\n",
        "\n",
        "OPTIONS\n",
        "- Soft or hard-floor caster options.\n",
        "- Two choices of seat foam densities:\n",
        " medium (1.8 lb/ft3) or high (2.8 lb/ft3)\n",
        "- Armless or 8 position PU armrests\n",
        "\n",
        "MATERIALS\n",
        "SHELL BASE GLIDER\n",
        "- Cast Aluminum with modified nylon PA6/PA66 coating.\n",
        "- Shell thickness: 10 mm.\n",
        "SEAT\n",
        "- HD36 foam\n",
        "\n",
        "COUNTRY OF ORIGIN\n",
        "- Italy\n",
        "\"\"\""
      ]
    },
    {
      "cell_type": "code",
      "execution_count": null,
      "metadata": {
        "colab": {
          "base_uri": "https://localhost:8080/"
        },
        "id": "N6FXt0hDD6Mu",
        "outputId": "2bb787f1-1af8-4ceb-ed66-f2a97a1dc012"
      },
      "outputs": [
        {
          "name": "stdout",
          "output_type": "stream",
          "text": [
            "Introducing our stunning mid-century inspired office chair, the SWC-100. This chair is part of a beautiful family of office furniture that includes filing cabinets, desks, bookcases, meeting tables, and more. With its sleek design and multiple customization options, it is the perfect addition to any home or business setting.\n",
            "\n",
            "The SWC-100 comes in several options of shell color and base finishes, allowing you to choose the perfect combination to match your style. You can opt for plastic back and front upholstery or go for the luxurious full upholstery in a choice of 10 fabric and 6 leather options. The base finish options include stainless steel, matte black, gloss white, or chrome.\n",
            "\n",
            "This chair is available with or without armrests, giving you the flexibility to choose the configuration that suits your needs. It is also designed for easy raise/lower action with its pneumatic chair adjust feature.\n",
            "\n",
            "With its 5-wheel plastic coated aluminum base, the SWC-100 offers stability and mobility. You can choose between soft or hard-floor caster options to ensure smooth movement on any surface. The seat is made with high-quality HD36 foam, providing optimal comfort and support.\n",
            "\n",
            "The dimensions of the SWC-100 are as follows: width 53 cm (20.87\"), depth 51 cm (20.08\"), height 80 cm (31.50\"), seat height 44 cm (17.32\"), and seat depth 41 cm (16.14\").\n",
            "\n",
            "We understand that every individual has unique preferences, which is why we offer additional options for customization. You can choose between two seat foam densities: medium (1.8 lb/ft3) or high (2.8 lb/ft3). Additionally, you have the choice of armless or 8 position PU armrests.\n",
            "\n",
            "Rest assured that the SWC-100 is built to last. The shell base glider is made of cast aluminum with a modified nylon PA6/PA66 coating, ensuring durability and stability. The shell thickness is 10 mm, providing a sturdy foundation.\n",
            "\n",
            "We take pride in the quality of our products, and the SWC-100 is no exception. It is made in Italy, a country renowned for its craftsmanship and attention to detail.\n",
            "\n",
            "Upgrade your office space with the SWC-100 office chair and experience the perfect blend of style, comfort, and functionality.\n"
          ]
        }
      ],
      "source": [
        "prompt = f\"\"\"\n",
        "Your task is to help a marketing team create a\n",
        "description for a retail website of a product based\n",
        "on a technical fact sheet.\n",
        "\n",
        "Write a product description based on the information\n",
        "provided in the technical specifications delimited by\n",
        "triple backticks.\n",
        "\n",
        "Technical specifications: ```{fact_sheet_chair}```\n",
        "\"\"\"\n",
        "response = get_completion(prompt)\n",
        "print(response)\n"
      ]
    },
    {
      "cell_type": "markdown",
      "metadata": {
        "id": "1gBiehjvD8vx"
      },
      "source": [
        "## ปัญหา 1: ข้อความยาวไปหน่อย\n",
        "- กำหนดความยาวของ Text\n",
        "- LLM ไม่เก่งในการกำหนดคำเป็นตัวอักษร (Character) เนื่องจากเบื้องหลังทำงานเป็น Token"
      ]
    },
    {
      "cell_type": "code",
      "execution_count": null,
      "metadata": {
        "colab": {
          "base_uri": "https://localhost:8080/"
        },
        "id": "jWkTkGe1D9-Z",
        "outputId": "bd6bbe21-b9bd-4441-e54b-7e866e79b4af"
      },
      "outputs": [
        {
          "name": "stdout",
          "output_type": "stream",
          "text": [
            "Introducing our mid-century inspired office chair, part of a stunning furniture collection. With various color and finish options, choose between plastic or full upholstery in fabric or leather. The chair features a durable base, adjustable height, and is suitable for both home and business use. Made in Italy.\n"
          ]
        }
      ],
      "source": [
        "prompt = f\"\"\"\n",
        "Your task is to help a marketing team create a\n",
        "description for a retail website of a product based\n",
        "on a technical fact sheet.\n",
        "\n",
        "Write a product description based on the information\n",
        "provided in the technical specifications delimited by\n",
        "triple backticks.\n",
        "\n",
        "Use at most 50 words.\n",
        "\n",
        "Technical specifications: ```{fact_sheet_chair}```\n",
        "\"\"\"\n",
        "response = get_completion(prompt)\n",
        "print(response)\n"
      ]
    },
    {
      "cell_type": "code",
      "execution_count": null,
      "metadata": {
        "colab": {
          "base_uri": "https://localhost:8080/"
        },
        "id": "Rp4wiTfzEAxU",
        "outputId": "b470ba19-7980-44d8-c7d7-26028fc9c365"
      },
      "outputs": [
        {
          "data": {
            "text/plain": [
              "311"
            ]
          },
          "execution_count": 36,
          "metadata": {},
          "output_type": "execute_result"
        }
      ],
      "source": [
        "len(response)"
      ]
    },
    {
      "cell_type": "markdown",
      "metadata": {
        "id": "k3-5mhf0EBOx"
      },
      "source": [
        "## ปัญหา 2. ข้อความโฟกัสผิดจุด\n",
        "- สั่งให้โมเดลโฟกัสข้อมูล โดยอ้างอิงจากผู้อ่าน"
      ]
    },
    {
      "cell_type": "code",
      "execution_count": null,
      "metadata": {
        "colab": {
          "base_uri": "https://localhost:8080/"
        },
        "id": "o5PaYDr5EFmt",
        "outputId": "62e118a3-84bb-4d1d-8764-5626defaf7cd"
      },
      "outputs": [
        {
          "name": "stdout",
          "output_type": "stream",
          "text": [
            "Introducing our mid-century inspired office chair, perfect for both home and business settings. Constructed with a durable cast aluminum shell and a 5-wheel plastic coated aluminum base, this chair offers easy raise/lower action with its pneumatic chair adjust. Choose from a variety of shell colors, base finishes, and upholstery options. Made in Italy.\n"
          ]
        }
      ],
      "source": [
        "prompt = f\"\"\"\n",
        "Your task is to help a marketing team create a\n",
        "description for a retail website of a product based\n",
        "on a technical fact sheet.\n",
        "\n",
        "Write a product description based on the information\n",
        "provided in the technical specifications delimited by\n",
        "triple backticks.\n",
        "\n",
        "The description is intended for furniture retailers,\n",
        "so should be technical in nature and focus on the\n",
        "materials the product is constructed from.\n",
        "\n",
        "Use at most 50 words.\n",
        "\n",
        "Technical specifications: ```{fact_sheet_chair}```\n",
        "\"\"\"\n",
        "response = get_completion(prompt)\n",
        "print(response)"
      ]
    },
    {
      "cell_type": "code",
      "execution_count": null,
      "metadata": {
        "colab": {
          "base_uri": "https://localhost:8080/"
        },
        "id": "Of3SKBOXEIEQ",
        "outputId": "efc44b67-e722-4d79-fc59-c79da0723f28"
      },
      "outputs": [
        {
          "name": "stdout",
          "output_type": "stream",
          "text": [
            "Introducing our mid-century inspired office chair, perfect for both home and business settings. Constructed with a durable cast aluminum shell and a 5-wheel plastic coated aluminum base, this chair offers stability and mobility. Choose from a variety of shell colors and base finishes, as well as upholstery options in fabric or leather. With its adjustable height and comfortable seat, this chair is designed for maximum comfort and functionality. Available with or without armrests, and qualified for contract use. Product ID: SWC-100, SWC-110. Made in Italy.\n"
          ]
        }
      ],
      "source": [
        "prompt = f\"\"\"\n",
        "Your task is to help a marketing team create a\n",
        "description for a retail website of a product based\n",
        "on a technical fact sheet.\n",
        "\n",
        "Write a product description based on the information\n",
        "provided in the technical specifications delimited by\n",
        "triple backticks.\n",
        "\n",
        "The description is intended for furniture retailers,\n",
        "so should be technical in nature and focus on the\n",
        "materials the product is constructed from.\n",
        "\n",
        "At the end of the description, include every 7-character\n",
        "Product ID in the technical specification.\n",
        "\n",
        "Use at most 50 words.\n",
        "\n",
        "Technical specifications: ```{fact_sheet_chair}```\n",
        "\"\"\"\n",
        "response = get_completion(prompt)\n",
        "print(response)"
      ]
    },
    {
      "cell_type": "markdown",
      "metadata": {
        "id": "PfXs-A5OELiN"
      },
      "source": [
        "## ปัญหา 3. ต้องการขนาดของสินค้า (ก x ย x ส)\n",
        "- ขอให้โมเดล extract ข้อมูลที่ต้องการออกมา"
      ]
    },
    {
      "cell_type": "code",
      "execution_count": null,
      "metadata": {
        "colab": {
          "base_uri": "https://localhost:8080/"
        },
        "id": "VyMhep7NEM7v",
        "outputId": "8c569f00-c1f3-4beb-a122-1703ed92b7f3"
      },
      "outputs": [
        {
          "name": "stdout",
          "output_type": "stream",
          "text": [
            "<div>\n",
            "  <h2>Product Description</h2>\n",
            "  <p>\n",
            "    Introducing our mid-century inspired office chair, a perfect addition to any home or business setting. This chair is part of a beautiful family of furniture that includes filing cabinets, desks, bookcases, meeting tables, and more. With several options for shell color and base finishes, you can customize this chair to fit your unique style. Choose between plastic back and front upholstery or full upholstery in a variety of fabric and leather options. The base finish options include stainless steel, matte black, gloss white, or chrome. You also have the choice of adding armrests or keeping the chair armless. \n",
            "  </p>\n",
            "  <p>\n",
            "    The chair is constructed with a 5-wheel plastic coated aluminum base, providing stability and mobility. The pneumatic chair adjust allows for easy raise and lower action, ensuring optimal comfort and support. With its sleek design and durable construction, this chair is suitable for both home and business use. It is also qualified for contract use, making it a reliable choice for any professional environment.\n",
            "  </p>\n",
            "  <p>\n",
            "    The dimensions of the chair are as follows:\n",
            "  </p>\n",
            "  <table>\n",
            "    <caption>Product Dimensions</caption>\n",
            "    <tr>\n",
            "      <th>Width</th>\n",
            "      <td>53 cm | 20.87\"</td>\n",
            "    </tr>\n",
            "    <tr>\n",
            "      <th>Depth</th>\n",
            "      <td>51 cm | 20.08\"</td>\n",
            "    </tr>\n",
            "    <tr>\n",
            "      <th>Height</th>\n",
            "      <td>80 cm | 31.50\"</td>\n",
            "    </tr>\n",
            "    <tr>\n",
            "      <th>Seat Height</th>\n",
            "      <td>44 cm | 17.32\"</td>\n",
            "    </tr>\n",
            "    <tr>\n",
            "      <th>Seat Depth</th>\n",
            "      <td>41 cm | 16.14\"</td>\n",
            "    </tr>\n",
            "  </table>\n",
            "  <p>\n",
            "    Additional options for this chair include soft or hard-floor caster options, as well as two choices of seat foam densities: medium (1.8 lb/ft3) or high (2.8 lb/ft3). You can also choose between armless or 8 position PU armrests, allowing you to customize the chair to your specific needs and preferences.\n",
            "  </p>\n",
            "  <p>\n",
            "    The materials used in the construction of this chair are of the highest quality. The shell base glider is made of cast aluminum with a modified nylon PA6/PA66 coating, ensuring durability and longevity. The shell thickness is 10 mm, providing stability and support. The seat is made of HD36 foam, offering comfort and resilience.\n",
            "  </p>\n",
            "  <p>\n",
            "    This chair is proudly made in Italy, known for its exceptional craftsmanship and attention to detail.\n",
            "  </p>\n",
            "  <p>\n",
            "    Product IDs: SWC-100, SWC-110\n",
            "  </p>\n",
            "</div>\n"
          ]
        }
      ],
      "source": [
        "prompt = f\"\"\"\n",
        "Your task is to help a marketing team create a\n",
        "description for a retail website of a product based\n",
        "on a technical fact sheet.\n",
        "\n",
        "Write a product description based on the information\n",
        "provided in the technical specifications delimited by\n",
        "triple backticks.\n",
        "\n",
        "The description is intended for furniture retailers,\n",
        "so should be technical in nature and focus on the\n",
        "materials the product is constructed from.\n",
        "\n",
        "At the end of the description, include every 7-character\n",
        "Product ID in the technical specification.\n",
        "\n",
        "After the description, include a table that gives the\n",
        "product's dimensions. The table should have two columns.\n",
        "In the first column include the name of the dimension.\n",
        "In the second column include the measurements in inches only.\n",
        "\n",
        "Give the table the title 'Product Dimensions'.\n",
        "\n",
        "Format everything as HTML that can be used in a website.\n",
        "Place the description in a <div> element.\n",
        "\n",
        "Technical specifications: ```{fact_sheet_chair}```\n",
        "\"\"\"\n",
        "\n",
        "response = get_completion(prompt)\n",
        "print(response)"
      ]
    },
    {
      "cell_type": "markdown",
      "metadata": {
        "id": "tgudqoI4EPc7"
      },
      "source": [
        "## ลองแสดงด้วย HTML"
      ]
    },
    {
      "cell_type": "code",
      "execution_count": null,
      "metadata": {
        "colab": {
          "base_uri": "https://localhost:8080/",
          "height": 449
        },
        "id": "3I5p49_XEQhJ",
        "outputId": "c4eb1786-79ab-4b3f-da4d-251736f6518a"
      },
      "outputs": [
        {
          "data": {
            "text/html": [
              "<div>\n",
              "  <h2>Product Description</h2>\n",
              "  <p>\n",
              "    Introducing our mid-century inspired office chair, a perfect addition to any home or business setting. This chair is part of a beautiful family of furniture that includes filing cabinets, desks, bookcases, meeting tables, and more. With several options for shell color and base finishes, you can customize this chair to fit your unique style. Choose between plastic back and front upholstery or full upholstery in a variety of fabric and leather options. The base finish options include stainless steel, matte black, gloss white, or chrome. You also have the choice of adding armrests or keeping the chair armless. \n",
              "  </p>\n",
              "  <p>\n",
              "    The chair is constructed with a 5-wheel plastic coated aluminum base, providing stability and mobility. The pneumatic chair adjust allows for easy raise and lower action, ensuring optimal comfort and support. With its sleek design and durable construction, this chair is suitable for both home and business use. It is also qualified for contract use, making it a reliable choice for any professional environment.\n",
              "  </p>\n",
              "  <p>\n",
              "    The dimensions of the chair are as follows:\n",
              "  </p>\n",
              "  <table>\n",
              "    <caption>Product Dimensions</caption>\n",
              "    <tr>\n",
              "      <th>Width</th>\n",
              "      <td>53 cm | 20.87\"</td>\n",
              "    </tr>\n",
              "    <tr>\n",
              "      <th>Depth</th>\n",
              "      <td>51 cm | 20.08\"</td>\n",
              "    </tr>\n",
              "    <tr>\n",
              "      <th>Height</th>\n",
              "      <td>80 cm | 31.50\"</td>\n",
              "    </tr>\n",
              "    <tr>\n",
              "      <th>Seat Height</th>\n",
              "      <td>44 cm | 17.32\"</td>\n",
              "    </tr>\n",
              "    <tr>\n",
              "      <th>Seat Depth</th>\n",
              "      <td>41 cm | 16.14\"</td>\n",
              "    </tr>\n",
              "  </table>\n",
              "  <p>\n",
              "    Additional options for this chair include soft or hard-floor caster options, as well as two choices of seat foam densities: medium (1.8 lb/ft3) or high (2.8 lb/ft3). You can also choose between armless or 8 position PU armrests, allowing you to customize the chair to your specific needs and preferences.\n",
              "  </p>\n",
              "  <p>\n",
              "    The materials used in the construction of this chair are of the highest quality. The shell base glider is made of cast aluminum with a modified nylon PA6/PA66 coating, ensuring durability and longevity. The shell thickness is 10 mm, providing stability and support. The seat is made of HD36 foam, offering comfort and resilience.\n",
              "  </p>\n",
              "  <p>\n",
              "    This chair is proudly made in Italy, known for its exceptional craftsmanship and attention to detail.\n",
              "  </p>\n",
              "  <p>\n",
              "    Product IDs: SWC-100, SWC-110\n",
              "  </p>\n",
              "</div>"
            ],
            "text/plain": [
              "<IPython.core.display.HTML object>"
            ]
          },
          "metadata": {},
          "output_type": "display_data"
        }
      ],
      "source": [
        "from IPython.display import display, HTML\n",
        "display(HTML(response))"
      ]
    },
    {
      "cell_type": "markdown",
      "metadata": {
        "id": "MEC-R6F_EUdB"
      },
      "source": [
        "\n",
        "\n",
        "---\n",
        "\n"
      ]
    },
    {
      "cell_type": "markdown",
      "metadata": {
        "id": "j5RS6CRvEVrJ"
      },
      "source": [
        "# การย่อความ\n",
        "ในบทเรียนนี้ เราจะได้เรียนรู้ทักษะที่สำคัญมากของ ChatGPT คือ การย่อเนื้อหาของข้อความ โดยเราจะได้เรียนรู้เทคนิคต่าง ๆ ในการสั่งการให้โมเดลสรุปเนื้อหาออกมาเป็นสิ่งที่ต้องการ"
      ]
    },
    {
      "cell_type": "code",
      "execution_count": null,
      "metadata": {
        "id": "Zgxe_OgQE1MY"
      },
      "outputs": [],
      "source": [
        "prod_review = \"\"\"\n",
        "Got this panda plush toy for my daughter's birthday, \\\n",
        "who loves it and takes it everywhere. It's soft and \\\n",
        "super cute, and its face has a friendly look. It's \\\n",
        "a bit small for what I paid though. I think there \\\n",
        "might be other options that are bigger for the \\\n",
        "same price. It arrived a day earlier than expected, \\\n",
        "so I got to play with it myself before I gave it \\\n",
        "to her.\n",
        "\"\"\""
      ]
    },
    {
      "cell_type": "markdown",
      "metadata": {
        "id": "FLyNgJIvE6Q3"
      },
      "source": [
        "## ย่อความโดยมี คำ/ประโยค/ตัวอักษร เป็น limit"
      ]
    },
    {
      "cell_type": "code",
      "execution_count": null,
      "metadata": {
        "colab": {
          "base_uri": "https://localhost:8080/"
        },
        "id": "Hls1nGvfE95L",
        "outputId": "c8bd9602-4c0c-4ca0-93c5-3e5ce4cf92ef"
      },
      "outputs": [
        {
          "name": "stdout",
          "output_type": "stream",
          "text": [
            "This review praises the panda plush toy for being soft, cute, and having a friendly face. However, the reviewer feels it is small for the price and suggests there may be larger options available. The toy arrived earlier than expected.\n"
          ]
        }
      ],
      "source": [
        "prompt = f\"\"\"\n",
        "Your task is to generate a short summary of a product \\\n",
        "review from an ecommerce site.\n",
        "\n",
        "Summarize the review below, delimited by triple\n",
        "backticks, in at most 30 words.\n",
        "\n",
        "Review: ```{prod_review}```\n",
        "\"\"\"\n",
        "\n",
        "response = get_completion(prompt)\n",
        "print(response)\n"
      ]
    },
    {
      "cell_type": "markdown",
      "metadata": {
        "id": "5fibu6sVFACr"
      },
      "source": [
        "## ย่อความโดยโฟกัสที่เนื้อหาของการจัดส่ง"
      ]
    },
    {
      "cell_type": "code",
      "execution_count": null,
      "metadata": {
        "colab": {
          "base_uri": "https://localhost:8080/"
        },
        "id": "V5SeEg7JFB8l",
        "outputId": "d34a0475-705d-443d-c532-92160373fc0a"
      },
      "outputs": [
        {
          "name": "stdout",
          "output_type": "stream",
          "text": [
            "The customer is happy with the product but mentions that it is smaller than expected. They also mention that the shipping was faster than expected.\n"
          ]
        }
      ],
      "source": [
        "prompt = f\"\"\"\n",
        "Your task is to generate a short summary of a product \\\n",
        "review from an ecommerce site to give feedback to the \\\n",
        "Shipping deparmtment.\n",
        "\n",
        "Summarize the review below, delimited by triple\n",
        "backticks, in at most 30 words, and focusing on any aspects \\\n",
        "that mention shipping and delivery of the product.\n",
        "\n",
        "Review: ```{prod_review}```\n",
        "\"\"\"\n",
        "\n",
        "response = get_completion(prompt)\n",
        "print(response)\n"
      ]
    },
    {
      "cell_type": "markdown",
      "metadata": {
        "id": "CTNkGFPxFD7Z"
      },
      "source": [
        "## ย่อความโดยโฟกัสที่ราคา และความคุ้มค่า"
      ]
    },
    {
      "cell_type": "code",
      "execution_count": null,
      "metadata": {
        "colab": {
          "base_uri": "https://localhost:8080/"
        },
        "id": "3Iy8OZwSFHp7",
        "outputId": "8fee717b-ea69-4f45-8feb-6893f93068e9"
      },
      "outputs": [
        {
          "name": "stdout",
          "output_type": "stream",
          "text": [
            "The customer loves the panda plush toy for its softness and cuteness, but feels it is overpriced compared to other options available.\n"
          ]
        }
      ],
      "source": [
        "prompt = f\"\"\"\n",
        "Your task is to generate a short summary of a product \\\n",
        "review from an ecommerce site to give feedback to the \\\n",
        "pricing department, responsible for determining the \\\n",
        "price of the product.\n",
        "\n",
        "Summarize the review below, delimited by triple\n",
        "backticks, in at most 30 words, and focusing on any aspects \\\n",
        "that are relevant to the price and perceived value.\n",
        "\n",
        "Review: ```{prod_review}```\n",
        "\"\"\"\n",
        "\n",
        "response = get_completion(prompt)\n",
        "print(response)\n"
      ]
    },
    {
      "cell_type": "markdown",
      "metadata": {
        "id": "k-IRoPHJFK7F"
      },
      "source": [
        "## ลองสกัดข้อมูล แทนที่จะสรุปเฉย ๆ"
      ]
    },
    {
      "cell_type": "code",
      "execution_count": null,
      "metadata": {
        "colab": {
          "base_uri": "https://localhost:8080/"
        },
        "id": "opJwnNRsFLef",
        "outputId": "5a5d7835-8370-4a14-c99b-5f29a491b2f3"
      },
      "outputs": [
        {
          "name": "stdout",
          "output_type": "stream",
          "text": [
            "The relevant information for the Shipping department is: \"It arrived a day earlier than expected.\"\n"
          ]
        }
      ],
      "source": [
        "prompt = f\"\"\"\n",
        "Your task is to extract relevant information from \\\n",
        "a product review from an ecommerce site to give \\\n",
        "feedback to the Shipping department.\n",
        "\n",
        "From the review below, delimited by triple quotes \\\n",
        "extract the information relevant to shipping and \\\n",
        "delivery. Limit to 30 words.\n",
        "\n",
        "Review: ```{prod_review}```\n",
        "\"\"\"\n",
        "\n",
        "response = get_completion(prompt)\n",
        "print(response)"
      ]
    },
    {
      "cell_type": "markdown",
      "metadata": {
        "id": "ihIgFa2JFPkO"
      },
      "source": [
        "\n",
        "\n",
        "---\n",
        "\n"
      ]
    },
    {
      "cell_type": "markdown",
      "metadata": {
        "id": "-w_25La1GpuN"
      },
      "source": [
        "# สรุปข้อมูล\n",
        "ในส่วนนี้เราจะมาเรียนรู้ในการสรุปข้อมูลและสกัดข้อมูลออกมาจากข้อความยาว ๆ\n",
        "การสรุปข้อมูล หรือสกัดข้อมูลออกมาจะมีความแตกต่างจากการสรุปใจความ (ย่อความ)ที่เราพึ่งเรียนผ่านมา โดยการสรุปใจความจะคล้ายกับการย่อความ ให้สั้นและกระชับขึ้น แต่การสรุปข้อมูลจะเป็นการดึงเฉพาะแก่นหลักที่เราต้องการออกมาเช่น\n",
        "\n",
        "Sentiment Analysis -> ดูว่าข้อความมีอารมณ์อะไร\n",
        "Topic Extracting -> ดูหัวข้อของข้อความ\n",
        "\n",
        "ซึ่งใน NLP แบบดั้งเดิม เราจำเป็นจะต้องนำข้อความจำนวนมากมาเทรนในการทำ task เหล่านี้ แต่ด้วยพลังของ LLM เราสามารถทำสิ่งนี้ได้โดยการ Prompting ไม่กี่บรรทัดเท่านั้น"
      ]
    },
    {
      "cell_type": "code",
      "execution_count": null,
      "metadata": {
        "id": "GCpaTt2KGoIY"
      },
      "outputs": [],
      "source": [
        "lamp_review = \"\"\"\n",
        "Needed a nice lamp for my bedroom, and this one had \\\n",
        "additional storage and not too high of a price point. \\\n",
        "Got it fast.  The string to our lamp broke during the \\\n",
        "transit and the company happily sent over a new one. \\\n",
        "Came within a few days as well. It was easy to put \\\n",
        "together.  I had a missing part, so I contacted their \\\n",
        "support and they very quickly got me the missing piece! \\\n",
        "Lumina seems to me to be a great company that cares \\\n",
        "about their customers and products!!\n",
        "\"\"\""
      ]
    },
    {
      "cell_type": "markdown",
      "metadata": {
        "id": "XM8K4AcQGv2J"
      },
      "source": [
        "## Sentiment Analysis (positive/negative)"
      ]
    },
    {
      "cell_type": "code",
      "execution_count": null,
      "metadata": {
        "colab": {
          "base_uri": "https://localhost:8080/"
        },
        "id": "zAeK5U4JGxIY",
        "outputId": "dd73515a-6517-456c-8468-b6080ea98b6f"
      },
      "outputs": [
        {
          "name": "stdout",
          "output_type": "stream",
          "text": [
            "The sentiment of the product review is positive.\n"
          ]
        }
      ],
      "source": [
        "prompt = f\"\"\"\n",
        "What is the sentiment of the following product review,\n",
        "which is delimited with triple backticks?\n",
        "\n",
        "Review text: '''{lamp_review}'''\n",
        "\"\"\"\n",
        "response = get_completion(prompt)\n",
        "print(response)"
      ]
    },
    {
      "cell_type": "code",
      "execution_count": null,
      "metadata": {
        "colab": {
          "base_uri": "https://localhost:8080/"
        },
        "id": "nSM6qm1_Gymn",
        "outputId": "eeaa579b-eb22-4618-da45-76c80185d9f6"
      },
      "outputs": [
        {
          "name": "stdout",
          "output_type": "stream",
          "text": [
            "positive\n"
          ]
        }
      ],
      "source": [
        "prompt = f\"\"\"\n",
        "What is the sentiment of the following product review,\n",
        "which is delimited with triple backticks?\n",
        "\n",
        "Give your answer as a single word, either \"positive\" \\\n",
        "or \"negative\".\n",
        "\n",
        "Review text: '''{lamp_review}'''\n",
        "\"\"\"\n",
        "response = get_completion(prompt)\n",
        "print(response)"
      ]
    },
    {
      "cell_type": "markdown",
      "metadata": {
        "id": "XgkBfkTLG0Pz"
      },
      "source": [
        "## Identify อารมณ์ของข้อความ"
      ]
    },
    {
      "cell_type": "code",
      "execution_count": null,
      "metadata": {
        "colab": {
          "base_uri": "https://localhost:8080/"
        },
        "id": "3dv6nST1G1Oz",
        "outputId": "b9180725-accc-4897-d298-610515b3e786"
      },
      "outputs": [
        {
          "name": "stdout",
          "output_type": "stream",
          "text": [
            "satisfied, pleased, grateful, impressed, happy\n"
          ]
        }
      ],
      "source": [
        "prompt = f\"\"\"\n",
        "Identify a list of emotions that the writer of the \\\n",
        "following review is expressing. Include no more than \\\n",
        "five items in the list. Format your answer as a list of \\\n",
        "lower-case words separated by commas.\n",
        "\n",
        "Review text: '''{lamp_review}'''\n",
        "\"\"\"\n",
        "response = get_completion(prompt)\n",
        "print(response)"
      ]
    },
    {
      "cell_type": "markdown",
      "metadata": {
        "id": "PaaFPdUPG3Oa"
      },
      "source": [
        "## Identify อารมณ์โกรธ"
      ]
    },
    {
      "cell_type": "code",
      "execution_count": null,
      "metadata": {
        "colab": {
          "base_uri": "https://localhost:8080/"
        },
        "id": "YEd4RMEAG4WS",
        "outputId": "b1712e43-046e-4607-da61-a983bc691787"
      },
      "outputs": [
        {
          "name": "stdout",
          "output_type": "stream",
          "text": [
            "No\n"
          ]
        }
      ],
      "source": [
        "prompt = f\"\"\"\n",
        "Is the writer of the following review expressing anger?\\\n",
        "The review is delimited with triple backticks. \\\n",
        "Give your answer as either yes or no.\n",
        "\n",
        "Review text: '''{lamp_review}'''\n",
        "\"\"\"\n",
        "response = get_completion(prompt)\n",
        "print(response)"
      ]
    },
    {
      "cell_type": "markdown",
      "metadata": {
        "id": "v6XOJUqrG6j8"
      },
      "source": [
        "## แกะข้อมูลของผลิตภัณฑ์และชื่อของบริษัทจากข้อความรีวิิว"
      ]
    },
    {
      "cell_type": "code",
      "execution_count": null,
      "metadata": {
        "colab": {
          "base_uri": "https://localhost:8080/"
        },
        "id": "A6CoI7h2G8Cv",
        "outputId": "35fbde18-0cb7-456a-cec2-245bb9937a04"
      },
      "outputs": [
        {
          "name": "stdout",
          "output_type": "stream",
          "text": [
            "{\n",
            "  \"Item\": \"lamp\",\n",
            "  \"Brand\": \"Lumina\"\n",
            "}\n"
          ]
        }
      ],
      "source": [
        "prompt = f\"\"\"\n",
        "Identify the following items from the review text:\n",
        "- Item purchased by reviewer\n",
        "- Company that made the item\n",
        "\n",
        "The review is delimited with triple backticks. \\\n",
        "Format your response as a JSON object with \\\n",
        "\"Item\" and \"Brand\" as the keys.\n",
        "If the information isn't present, use \"unknown\" \\\n",
        "as the value.\n",
        "Make your response as short as possible.\n",
        "\n",
        "Review text: '''{lamp_review}'''\n",
        "\"\"\"\n",
        "response = get_completion(prompt)\n",
        "print(response)"
      ]
    },
    {
      "cell_type": "markdown",
      "metadata": {
        "id": "PKzGlYi4G90S"
      },
      "source": [
        "## ทำหลายๆอย่างรวมกันพร้อมกันทีเดียว"
      ]
    },
    {
      "cell_type": "code",
      "execution_count": null,
      "metadata": {
        "colab": {
          "base_uri": "https://localhost:8080/"
        },
        "id": "09-VvXkxG--P",
        "outputId": "6f90918d-980b-474e-a195-d9e000f4a2c4"
      },
      "outputs": [
        {
          "name": "stdout",
          "output_type": "stream",
          "text": [
            "{\n",
            "  \"Sentiment\": \"positive\",\n",
            "  \"Anger\": false,\n",
            "  \"Item\": \"lamp\",\n",
            "  \"Brand\": \"Lumina\"\n",
            "}\n"
          ]
        }
      ],
      "source": [
        "prompt = f\"\"\"\n",
        "Identify the following items from the review text:\n",
        "- Sentiment (positive or negative)\n",
        "- Is the reviewer expressing anger? (true or false)\n",
        "- Item purchased by reviewer\n",
        "- Company that made the item\n",
        "\n",
        "The review is delimited with triple backticks. \\\n",
        "Format your response as a JSON object with \\\n",
        "\"Sentiment\", \"Anger\", \"Item\" and \"Brand\" as the keys.\n",
        "If the information isn't present, use \"unknown\" \\\n",
        "as the value.\n",
        "Make your response as short as possible.\n",
        "Format the Anger value as a boolean.\n",
        "\n",
        "Review text: '''{lamp_review}'''\n",
        "\"\"\"\n",
        "response = get_completion(prompt)\n",
        "print(response)"
      ]
    },
    {
      "cell_type": "markdown",
      "metadata": {
        "id": "hohaE6u1HAvi"
      },
      "source": [
        "## สกัดหัวข้อของข้อความ"
      ]
    },
    {
      "cell_type": "code",
      "execution_count": null,
      "metadata": {
        "id": "BqMsVVX7HCX8"
      },
      "outputs": [],
      "source": [
        "story = \"\"\"\n",
        "In a recent survey conducted by the government,\n",
        "public sector employees were asked to rate their level\n",
        "of satisfaction with the department they work at.\n",
        "The results revealed that NASA was the most popular\n",
        "department with a satisfaction rating of 95%.\n",
        "\n",
        "One NASA employee, John Smith, commented on the findings,\n",
        "stating, \"I'm not surprised that NASA came out on top.\n",
        "It's a great place to work with amazing people and\n",
        "incredible opportunities. I'm proud to be a part of\n",
        "such an innovative organization.\"\n",
        "\n",
        "The results were also welcomed by NASA's management team,\n",
        "with Director Tom Johnson stating, \"We are thrilled to\n",
        "hear that our employees are satisfied with their work at NASA.\n",
        "We have a talented and dedicated team who work tirelessly\n",
        "to achieve our goals, and it's fantastic to see that their\n",
        "hard work is paying off.\"\n",
        "\n",
        "The survey also revealed that the\n",
        "Social Security Administration had the lowest satisfaction\n",
        "rating, with only 45% of employees indicating they were\n",
        "satisfied with their job. The government has pledged to\n",
        "address the concerns raised by employees in the survey and\n",
        "work towards improving job satisfaction across all departments.\n",
        "\"\"\""
      ]
    },
    {
      "cell_type": "markdown",
      "metadata": {
        "id": "tcvLXvFCHEWP"
      },
      "source": [
        "## สกัดออกมา 5 หัวข้อ"
      ]
    },
    {
      "cell_type": "code",
      "execution_count": null,
      "metadata": {
        "colab": {
          "base_uri": "https://localhost:8080/"
        },
        "id": "nkP10Pc_HFme",
        "outputId": "eab6c284-d42b-46f6-88b8-2e5f2d45f6a8"
      },
      "outputs": [
        {
          "name": "stdout",
          "output_type": "stream",
          "text": [
            "1. Government survey\n",
            "2. Employee satisfaction\n",
            "3. NASA\n",
            "4. Social Security Administration\n",
            "5. Job satisfaction improvement\n"
          ]
        }
      ],
      "source": [
        "prompt = f\"\"\"\n",
        "Determine five topics that are being discussed in the \\\n",
        "following text, which is delimited by triple backticks.\n",
        "\n",
        "Make each item one or two words long.\n",
        "\n",
        "Format your response as a list of items separated by commas.\n",
        "\n",
        "Text sample: '''{story}'''\n",
        "\"\"\"\n",
        "response = get_completion(prompt)\n",
        "print(response)"
      ]
    },
    {
      "cell_type": "code",
      "execution_count": null,
      "metadata": {
        "colab": {
          "base_uri": "https://localhost:8080/"
        },
        "id": "NNOOdhE1HH_F",
        "outputId": "f58907e4-70a0-4d25-cc39-c51bf8dceaf3"
      },
      "outputs": [
        {
          "data": {
            "text/plain": [
              "['1. Government survey\\n2. Employee satisfaction\\n3. NASA\\n4. Social Security Administration\\n5. Job satisfaction improvement']"
            ]
          },
          "execution_count": 55,
          "metadata": {},
          "output_type": "execute_result"
        }
      ],
      "source": [
        "response.split(sep=',')"
      ]
    },
    {
      "cell_type": "code",
      "execution_count": null,
      "metadata": {
        "id": "2mooTLGfHJRH"
      },
      "outputs": [],
      "source": [
        "topic_list = [\n",
        "    \"nasa\", \"local government\", \"engineering\",\n",
        "    \"employee satisfaction\", \"federal government\"\n",
        "]"
      ]
    },
    {
      "cell_type": "markdown",
      "metadata": {
        "id": "QzKUgviPHLOY"
      },
      "source": [
        "## ทำ Alert เมื่อมีหัวข้อที่ต้องการ"
      ]
    },
    {
      "cell_type": "code",
      "execution_count": null,
      "metadata": {
        "colab": {
          "base_uri": "https://localhost:8080/"
        },
        "id": "2aCaMgD-HMaJ",
        "outputId": "769bd464-07a9-4d8e-d711-98d7fbf0eff8"
      },
      "outputs": [
        {
          "name": "stdout",
          "output_type": "stream",
          "text": [
            "{\"topic\": \"nasa\", \"exists\": true},\n",
            "{\"topic\": \"local government\", \"exists\": false},\n",
            "{\"topic\": \"engineering\", \"exists\": false},\n",
            "{\"topic\": \"employee satisfaction\", \"exists\": true},\n",
            "{\"topic\": \"federal government\", \"exists\": true}\n"
          ]
        }
      ],
      "source": [
        "prompt = f\"\"\"\n",
        "Determine whether each item in the following list of \\\n",
        "topics is a topic in the text below, which\n",
        "is delimited with triple backticks.\n",
        "\n",
        "Give your answer as JSON with true or false for each topic.\\\n",
        "Output your JSON answer with these keys:\\\n",
        "topic: string(), exists: boolean()\n",
        "\n",
        "List of topics: {\", \".join(topic_list)}\n",
        "\n",
        "Text sample: '''{story}'''\n",
        "\"\"\"\n",
        "response = get_completion(prompt)\n",
        "print(response)"
      ]
    },
    {
      "cell_type": "markdown",
      "metadata": {
        "id": "ZbI9kbMjHT5l"
      },
      "source": [
        "\n",
        "\n",
        "---\n",
        "\n"
      ]
    },
    {
      "cell_type": "markdown",
      "metadata": {
        "id": "oDgLgw44HUuu"
      },
      "source": [
        "# การแปลงข้อมูล\n",
        "ในบทนี้เราจะเรียนรู้การใช้งาน LLM ในการแปลงข้อมูลให้อยู่ในลักษณะที่ต้องการ ไม่ว่าจะเป็นการแปลภาษา เช็คคำผิด แกรมมาร์ เปลี่ยนโทนของคำพูด หรือแม้แต่แปลง Format ของข้อความ"
      ]
    },
    {
      "cell_type": "markdown",
      "metadata": {
        "id": "3EMCk148HY47"
      },
      "source": [
        "## แปลภาษา\n",
        "เนื่องจาก ChatGPT ถูกเทรนด้วยข้อความจากหลายภาษามาก ทำให่้มันสามารถเข้าใจภาษาได้มากมายและสามารถที่จะแปลงจากภาษาหนึ่ง ไปเป็นอีกภาษาหนึ่งได้ (ความสามรถขึ้นอยู่กับจำนวนข้อความในแต่ละภาษาที่ถูกนำไปแปล)"
      ]
    },
    {
      "cell_type": "code",
      "execution_count": null,
      "metadata": {
        "colab": {
          "base_uri": "https://localhost:8080/"
        },
        "id": "m4nR-_meHXaF",
        "outputId": "f8411196-250e-45ff-86a4-c8093747028b"
      },
      "outputs": [
        {
          "name": "stdout",
          "output_type": "stream",
          "text": [
            "Hola, me gustaría ordenar una licuadora.\n"
          ]
        }
      ],
      "source": [
        "prompt = f\"\"\"\n",
        "Translate the following English text to Spanish: \\\n",
        "```Hi, I would like to order a blender```\n",
        "\"\"\"\n",
        "response = get_completion(prompt)\n",
        "print(response)"
      ]
    },
    {
      "cell_type": "code",
      "execution_count": null,
      "metadata": {
        "colab": {
          "base_uri": "https://localhost:8080/"
        },
        "id": "tei77PM7HcWP",
        "outputId": "177ae73d-8b90-45fa-abf4-111fbd348e28"
      },
      "outputs": [
        {
          "name": "stdout",
          "output_type": "stream",
          "text": [
            "This language is French.\n"
          ]
        }
      ],
      "source": [
        "prompt = f\"\"\"\n",
        "Tell me which language this is:\n",
        "```Combien coûte le lampadaire?```\n",
        "\"\"\"\n",
        "response = get_completion(prompt)\n",
        "print(response)"
      ]
    },
    {
      "cell_type": "code",
      "execution_count": null,
      "metadata": {
        "colab": {
          "base_uri": "https://localhost:8080/"
        },
        "id": "KUxkLs36Hd1k",
        "outputId": "54af3163-c139-4315-f5e9-890858b1f18d"
      },
      "outputs": [
        {
          "name": "stdout",
          "output_type": "stream",
          "text": [
            "French: ```Je veux commander un ballon de basket```\n",
            "Spanish: ```Quiero ordenar una pelota de baloncesto```\n",
            "English: ```I want to order a basketball```\n"
          ]
        }
      ],
      "source": [
        "prompt = f\"\"\"\n",
        "Translate the following  text to French and Spanish\n",
        "and English pirate: \\\n",
        "```I want to order a basketball```\n",
        "\"\"\"\n",
        "response = get_completion(prompt)\n",
        "print(response)"
      ]
    },
    {
      "cell_type": "code",
      "execution_count": null,
      "metadata": {
        "colab": {
          "base_uri": "https://localhost:8080/"
        },
        "id": "V9VOAPiHHfEu",
        "outputId": "ffe61bf9-c421-439b-8f89-ebeed057ba19"
      },
      "outputs": [
        {
          "name": "stdout",
          "output_type": "stream",
          "text": [
            "Formal: ¿Le gustaría ordenar una almohada?\n",
            "Informal: ¿Te gustaría ordenar una almohada?\n"
          ]
        }
      ],
      "source": [
        "prompt = f\"\"\"\n",
        "Translate the following text to Spanish in both the \\\n",
        "formal and informal forms:\n",
        "'Would you like to order a pillow?'\n",
        "\"\"\"\n",
        "response = get_completion(prompt)\n",
        "print(response)"
      ]
    },
    {
      "cell_type": "markdown",
      "metadata": {
        "id": "rUqmFdSPHgf5"
      },
      "source": [
        "### วุ้นแปลภาษา\n",
        "นึกภาพสิ่งประดิษฐ์ในโดเรม่อนตั้งแต่สมัยเด็ก วุ้นแปลภาษาที่เรากินเข้าไปแล้วสามารถที่จะเข้าใจภาษาไหนก็ได้ ตอนนี้ LLM สามารถพาเราไปจุดนั้นได้แล้ว!"
      ]
    },
    {
      "cell_type": "code",
      "execution_count": null,
      "metadata": {
        "id": "QnoKwAs0HjLg"
      },
      "outputs": [],
      "source": [
        "user_messages = [\n",
        "  \"La performance du système est plus lente que d'habitude.\",  # System performance is slower than normal\n",
        "  \"Mi monitor tiene píxeles que no se iluminan.\",              # My monitor has pixels that are not lighting\n",
        "  \"Il mio mouse non funziona\",                                 # My mouse is not working\n",
        "  \"Mój klawisz Ctrl jest zepsuty\",                             # My keyboard has a broken control key\n",
        "  \"我的屏幕在闪烁\"                                               # My screen is flashing\n",
        "]"
      ]
    },
    {
      "cell_type": "code",
      "execution_count": null,
      "metadata": {
        "colab": {
          "base_uri": "https://localhost:8080/"
        },
        "id": "AVWJWgE7HkWg",
        "outputId": "ea603d1d-cdbf-4ec7-b582-62e10a161cee"
      },
      "outputs": [
        {
          "name": "stdout",
          "output_type": "stream",
          "text": [
            "Original message (The language is French.): La performance du système est plus lente que d'habitude.\n",
            "The performance of the system is slower than usual.\n",
            "\n",
            "시스템의 성능이 평소보다 느립니다. \n",
            "\n",
            "Original message (The language is Spanish.): Mi monitor tiene píxeles que no se iluminan.\n",
            "English: \"My monitor has pixels that do not light up.\"\n",
            "\n",
            "Korean: \"내 모니터에는 밝아지지 않는 픽셀이 있습니다.\" \n",
            "\n",
            "Original message (The language is Italian.): Il mio mouse non funziona\n",
            "English: \"My mouse is not working.\"\n",
            "Korean: \"내 마우스가 작동하지 않습니다.\" \n",
            "\n",
            "Original message (The language is Polish.): Mój klawisz Ctrl jest zepsuty\n",
            "English: \"My Ctrl key is broken\"\n",
            "Korean: \"내 Ctrl 키가 고장 났어요\" \n",
            "\n",
            "Original message (The language is Chinese.): 我的屏幕在闪烁\n",
            "English: My screen is flickering.\n",
            "Korean: 내 화면이 깜박거립니다. \n",
            "\n"
          ]
        }
      ],
      "source": [
        "for issue in user_messages:\n",
        "    prompt = f\"Tell me what language this is: ```{issue}```\"\n",
        "    lang = get_completion(prompt)\n",
        "    print(f\"Original message ({lang}): {issue}\")\n",
        "\n",
        "    prompt = f\"\"\"\n",
        "    Translate the following  text to English \\\n",
        "    and Korean: ```{issue}```\n",
        "    \"\"\"\n",
        "    response = get_completion(prompt)\n",
        "    print(response, \"\\n\")"
      ]
    },
    {
      "cell_type": "markdown",
      "metadata": {
        "id": "PO50whcfHuOC"
      },
      "source": [
        "## แปลงโทนของข้อความ\n",
        "เราสามารถใช้ ChatGPT ในการช่วยแปลงโทนของข้อความได้ด้วย\n"
      ]
    },
    {
      "cell_type": "code",
      "execution_count": null,
      "metadata": {
        "colab": {
          "base_uri": "https://localhost:8080/"
        },
        "id": "aFR6V0RhHwLS",
        "outputId": "b199fa52-86b0-4839-b6ea-dc138b682e4e"
      },
      "outputs": [
        {
          "name": "stdout",
          "output_type": "stream",
          "text": [
            "Dear Sir/Madam,\n",
            "\n",
            "I hope this letter finds you well. My name is Joe, and I am writing to bring your attention to a specification document regarding a standing lamp. \n",
            "\n",
            "I kindly request that you take a moment to review the attached spec, as it provides detailed information about the features and design of the aforementioned lamp. \n",
            "\n",
            "Thank you for your time and consideration. I look forward to discussing this further with you.\n",
            "\n",
            "Yours sincerely,\n",
            "Joe\n"
          ]
        }
      ],
      "source": [
        "prompt = f\"\"\"\n",
        "Translate the following from slang to a business letter:\n",
        "'Dude, This is Joe, check out this spec on this standing lamp.'\n",
        "\"\"\"\n",
        "response = get_completion(prompt)\n",
        "print(response)"
      ]
    },
    {
      "cell_type": "markdown",
      "metadata": {
        "id": "DlL2nH7aHykK"
      },
      "source": [
        "## แปลง Format\n",
        "ในที่นี้เราสามารถแปลง JSON ให้กลายเป็น Table ใน HTML ได้ด้วย"
      ]
    },
    {
      "cell_type": "code",
      "execution_count": null,
      "metadata": {
        "colab": {
          "base_uri": "https://localhost:8080/"
        },
        "id": "iFY2ec2NH0Oa",
        "outputId": "c02e6b0c-ed12-47a9-8d5a-693c4ce8afd6"
      },
      "outputs": [
        {
          "name": "stdout",
          "output_type": "stream",
          "text": [
            "<!DOCTYPE html>\n",
            "<html>\n",
            "<head>\n",
            "<style>\n",
            "table {\n",
            "  font-family: arial, sans-serif;\n",
            "  border-collapse: collapse;\n",
            "  width: 100%;\n",
            "}\n",
            "\n",
            "td, th {\n",
            "  border: 1px solid #dddddd;\n",
            "  text-align: left;\n",
            "  padding: 8px;\n",
            "}\n",
            "\n",
            "tr:nth-child(even) {\n",
            "  background-color: #dddddd;\n",
            "}\n",
            "</style>\n",
            "</head>\n",
            "<body>\n",
            "\n",
            "<h2>Restaurant Employees</h2>\n",
            "\n",
            "<table>\n",
            "  <tr>\n",
            "    <th>Name</th>\n",
            "    <th>Email</th>\n",
            "  </tr>\n",
            "  <tr>\n",
            "    <td>Shyam</td>\n",
            "    <td>shyamjaiswal@gmail.com</td>\n",
            "  </tr>\n",
            "  <tr>\n",
            "    <td>Bob</td>\n",
            "    <td>bob32@gmail.com</td>\n",
            "  </tr>\n",
            "  <tr>\n",
            "    <td>Jai</td>\n",
            "    <td>jai87@gmail.com</td>\n",
            "  </tr>\n",
            "</table>\n",
            "\n",
            "</body>\n",
            "</html>\n"
          ]
        }
      ],
      "source": [
        "data_json = { \"resturant employees\" :[\n",
        "    {\"name\":\"Shyam\", \"email\":\"shyamjaiswal@gmail.com\"},\n",
        "    {\"name\":\"Bob\", \"email\":\"bob32@gmail.com\"},\n",
        "    {\"name\":\"Jai\", \"email\":\"jai87@gmail.com\"}\n",
        "]}\n",
        "\n",
        "prompt = f\"\"\"\n",
        "Translate the following python dictionary from JSON to an HTML \\\n",
        "table with column headers and title: {data_json}\n",
        "\"\"\"\n",
        "response = get_completion(prompt)\n",
        "print(response)"
      ]
    },
    {
      "cell_type": "code",
      "execution_count": null,
      "metadata": {
        "colab": {
          "base_uri": "https://localhost:8080/",
          "height": 203
        },
        "id": "hKKpHBbYH1hP",
        "outputId": "13ff611d-0d67-49b2-eaef-b4e5efe8e3f9"
      },
      "outputs": [
        {
          "data": {
            "text/html": [
              "<!DOCTYPE html>\n",
              "<html>\n",
              "<head>\n",
              "<style>\n",
              "table {\n",
              "  font-family: arial, sans-serif;\n",
              "  border-collapse: collapse;\n",
              "  width: 100%;\n",
              "}\n",
              "\n",
              "td, th {\n",
              "  border: 1px solid #dddddd;\n",
              "  text-align: left;\n",
              "  padding: 8px;\n",
              "}\n",
              "\n",
              "tr:nth-child(even) {\n",
              "  background-color: #dddddd;\n",
              "}\n",
              "</style>\n",
              "</head>\n",
              "<body>\n",
              "\n",
              "<h2>Restaurant Employees</h2>\n",
              "\n",
              "<table>\n",
              "  <tr>\n",
              "    <th>Name</th>\n",
              "    <th>Email</th>\n",
              "  </tr>\n",
              "  <tr>\n",
              "    <td>Shyam</td>\n",
              "    <td>shyamjaiswal@gmail.com</td>\n",
              "  </tr>\n",
              "  <tr>\n",
              "    <td>Bob</td>\n",
              "    <td>bob32@gmail.com</td>\n",
              "  </tr>\n",
              "  <tr>\n",
              "    <td>Jai</td>\n",
              "    <td>jai87@gmail.com</td>\n",
              "  </tr>\n",
              "</table>\n",
              "\n",
              "</body>\n",
              "</html>"
            ],
            "text/plain": [
              "<IPython.core.display.HTML object>"
            ]
          },
          "metadata": {},
          "output_type": "display_data"
        }
      ],
      "source": [
        "from IPython.display import display, Markdown, Latex, HTML, JSON\n",
        "display(HTML(response))"
      ]
    },
    {
      "cell_type": "markdown",
      "metadata": {
        "id": "wkcN3bgIH34S"
      },
      "source": [
        "## เช็คคำผิด/เช็คแกรมมาร์\n",
        "\n",
        "เราสามารถใช้งาน ChatGPT ในการช่วย Proofread ข้อความได้"
      ]
    },
    {
      "cell_type": "code",
      "execution_count": null,
      "metadata": {
        "colab": {
          "base_uri": "https://localhost:8080/"
        },
        "id": "ttUHYlrTH5CP",
        "outputId": "ed9605a1-b506-4d2d-c0eb-5943d611ff45"
      },
      "outputs": [
        {
          "name": "stdout",
          "output_type": "stream",
          "text": [
            "The girl with the black and white puppies has a ball.\n",
            "No errors found.\n",
            "Its going to be a long day. Does the car need its oil changed?\n",
            "There goes my freedom. They're going to bring their suitcases.\n",
            "You're going to need your notebook.\n",
            "That medicine affects my ability to sleep. Have you heard of the butterfly effect?\n",
            "This phrase is to check chatGPT for spelling ability.\n"
          ]
        }
      ],
      "source": [
        "text = [\n",
        "  \"The girl with the black and white puppies have a ball.\",  # The girl has a ball.\n",
        "  \"Yolanda has her notebook.\", # ok\n",
        "  \"Its going to be a long day. Does the car need it’s oil changed?\",  # Homonyms\n",
        "  \"Their goes my freedom. There going to bring they’re suitcases.\",  # Homonyms\n",
        "  \"Your going to need you’re notebook.\",  # Homonyms\n",
        "  \"That medicine effects my ability to sleep. Have you heard of the butterfly affect?\", # Homonyms\n",
        "  \"This phrase is to cherck chatGPT for speling abilitty\"  # spelling\n",
        "]\n",
        "for t in text:\n",
        "    prompt = f\"\"\"Proofread and correct the following text\n",
        "    and rewrite the corrected version. If you don't find\n",
        "    and errors, just say \"No errors found\". Don't use\n",
        "    any punctuation around the text:\n",
        "    ```{t}```\"\"\"\n",
        "    response = get_completion(prompt)\n",
        "    print(response)"
      ]
    },
    {
      "cell_type": "code",
      "execution_count": null,
      "metadata": {
        "colab": {
          "base_uri": "https://localhost:8080/"
        },
        "id": "zOxsaDYWH6cG",
        "outputId": "a3d6bb9e-937e-4a37-e8c3-d1bf1b6dc6b0"
      },
      "outputs": [
        {
          "name": "stdout",
          "output_type": "stream",
          "text": [
            "Got this for my daughter for her birthday because she keeps taking mine from my room. Yes, adults also like pandas too. She takes it everywhere with her, and it's super soft and cute. However, one of the ears is a bit lower than the other, and I don't think that was designed to be asymmetrical. Additionally, it's a bit small for what I paid for it. I believe there might be other options that are bigger for the same price. On the positive side, it arrived a day earlier than expected, so I got to play with it myself before I gave it to my daughter.\n"
          ]
        }
      ],
      "source": [
        "text = f\"\"\"\n",
        "Got this for my daughter for her birthday cuz she keeps taking \\\n",
        "mine from my room.  Yes, adults also like pandas too.  She takes \\\n",
        "it everywhere with her, and it's super soft and cute.  One of the \\\n",
        "ears is a bit lower than the other, and I don't think that was \\\n",
        "designed to be asymmetrical. It's a bit small for what I paid for it \\\n",
        "though. I think there might be other options that are bigger for \\\n",
        "the same price.  It arrived a day earlier than expected, so I got \\\n",
        "to play with it myself before I gave it to my daughter.\n",
        "\"\"\"\n",
        "prompt = f\"proofread and correct this review: ```{text}```\"\n",
        "response = get_completion(prompt)\n",
        "print(response)"
      ]
    },
    {
      "cell_type": "code",
      "execution_count": null,
      "metadata": {
        "colab": {
          "base_uri": "https://localhost:8080/"
        },
        "id": "LQLFkimJt_4l",
        "outputId": "a11fb557-1495-4db0-eb34-414916807929"
      },
      "outputs": [
        {
          "name": "stdout",
          "output_type": "stream",
          "text": [
            "Collecting redlines\n",
            "  Downloading redlines-0.4.0-py3-none-any.whl (7.6 kB)\n",
            "Requirement already satisfied: click<9.0.0,>=8.1.3 in /usr/local/lib/python3.10/dist-packages (from redlines) (8.1.4)\n",
            "Requirement already satisfied: rich<14.0.0,>=13.3.5 in /usr/local/lib/python3.10/dist-packages (from redlines) (13.4.2)\n",
            "Collecting rich-click<2.0.0,>=1.6.1 (from redlines)\n",
            "  Downloading rich_click-1.6.1-py3-none-any.whl (19 kB)\n",
            "Requirement already satisfied: markdown-it-py>=2.2.0 in /usr/local/lib/python3.10/dist-packages (from rich<14.0.0,>=13.3.5->redlines) (3.0.0)\n",
            "Requirement already satisfied: pygments<3.0.0,>=2.13.0 in /usr/local/lib/python3.10/dist-packages (from rich<14.0.0,>=13.3.5->redlines) (2.14.0)\n",
            "Requirement already satisfied: mdurl~=0.1 in /usr/local/lib/python3.10/dist-packages (from markdown-it-py>=2.2.0->rich<14.0.0,>=13.3.5->redlines) (0.1.2)\n",
            "Installing collected packages: rich-click, redlines\n",
            "Successfully installed redlines-0.4.0 rich-click-1.6.1\n"
          ]
        }
      ],
      "source": [
        "!pip install redlines"
      ]
    },
    {
      "cell_type": "code",
      "execution_count": null,
      "metadata": {
        "colab": {
          "base_uri": "https://localhost:8080/",
          "height": 98
        },
        "id": "-SLhXF59H7oK",
        "outputId": "3e0618e0-2939-4a5e-81f7-1e014434af59"
      },
      "outputs": [
        {
          "data": {
            "text/markdown": [
              "Got this for my daughter for her birthday <span style='color:red;font-weight:700;text-decoration:line-through;'>cuz </span><span style='color:green;font-weight:700;'>because </span>she keeps taking mine from my <span style='color:red;font-weight:700;text-decoration:line-through;'>room.  </span><span style='color:green;font-weight:700;'>room. </span>Yes, adults also like pandas <span style='color:red;font-weight:700;text-decoration:line-through;'>too.  </span><span style='color:green;font-weight:700;'>too. </span>She takes it everywhere with her, and it's super soft and <span style='color:red;font-weight:700;text-decoration:line-through;'>cute.  One </span><span style='color:green;font-weight:700;'>cute. However, one </span>of the ears is a bit lower than the other, and I don't think that was designed to be asymmetrical. <span style='color:red;font-weight:700;text-decoration:line-through;'>It's </span><span style='color:green;font-weight:700;'>Additionally, it's </span>a bit small for what I paid for <span style='color:red;font-weight:700;text-decoration:line-through;'>it though. </span><span style='color:green;font-weight:700;'>it. </span>I <span style='color:red;font-weight:700;text-decoration:line-through;'>think </span><span style='color:green;font-weight:700;'>believe </span>there might be other options that are bigger for the same <span style='color:red;font-weight:700;text-decoration:line-through;'>price.  It </span><span style='color:green;font-weight:700;'>price. On the positive side, it </span>arrived a day earlier than expected, so I got to play with it myself before I gave it to my daughter."
            ],
            "text/plain": [
              "<IPython.core.display.Markdown object>"
            ]
          },
          "metadata": {},
          "output_type": "display_data"
        }
      ],
      "source": [
        "from redlines import Redlines\n",
        "\n",
        "diff = Redlines(text,response)\n",
        "display(Markdown(diff.output_markdown))"
      ]
    },
    {
      "cell_type": "code",
      "execution_count": null,
      "metadata": {
        "colab": {
          "base_uri": "https://localhost:8080/",
          "height": 395
        },
        "id": "mJFr7PMVH8vP",
        "outputId": "087a925b-ac6c-460e-e3a3-42ccc8f6e204"
      },
      "outputs": [
        {
          "data": {
            "text/markdown": [
              "**Title: A Delightful Gift for All Ages: A Review of the Adorable Panda Plush Toy**\n",
              "\n",
              "*Introduction*\n",
              "Purchasing a gift that appeals to both children and adults can be quite a challenge. However, I recently stumbled upon a remarkable solution - the Panda Plush Toy. In this review, I will share my experience with this delightful gift, highlighting its softness, cuteness, and unexpected versatility. Additionally, I will discuss a minor flaw I encountered and suggest potential alternatives for those seeking a larger option within the same price range. Finally, I will touch upon the exceptional customer service that accompanied my purchase. \n",
              "\n",
              "*Review*\n",
              "As a parent, I wanted to surprise my daughter on her birthday with a gift that would captivate her imagination. The Panda Plush Toy proved to be the perfect choice, as it not only delighted my daughter but also appealed to my own sense of whimsy. This versatile toy quickly became her constant companion, accompanying her on all her adventures. \n",
              "\n",
              "One of the most endearing qualities of this plush toy is its exceptional softness. Its velvety texture provides a comforting touch, making it a joy to hold and cuddle. The attention to detail in its design is evident, with its adorable panda features capturing the essence of these beloved creatures. \n",
              "\n",
              "However, I did notice a minor flaw in the toy's construction. One of the ears appeared slightly lower than the other, which seemed unintentional given the overall symmetrical design. While this did not significantly detract from the toy's appeal, it is worth mentioning for those seeking perfection in their purchase. \n",
              "\n",
              "In terms of size, I must admit that the Panda Plush Toy is slightly smaller than anticipated, considering its price. However, I believe there may be alternative options available that offer a larger size without compromising on quality. Exploring these alternatives could be beneficial for those seeking a more substantial plush toy within the same price range. \n",
              "\n",
              "*Conclusion*\n",
              "Despite the minor flaw in its construction and its relatively small size, the Panda Plush Toy has proven to be a delightful gift for both children and adults alike. Its softness and cuteness make it an irresistible companion, while its versatility ensures it can be enjoyed in various settings. Furthermore, the prompt delivery of this toy, arriving a day earlier than expected, exemplified the exceptional customer service provided by the seller. For those in search of a charming and versatile gift, the Panda Plush Toy is a wonderful choice that is sure to bring joy to its recipient."
            ],
            "text/plain": [
              "<IPython.core.display.Markdown object>"
            ]
          },
          "metadata": {},
          "output_type": "display_data"
        }
      ],
      "source": [
        "prompt = f\"\"\"\n",
        "proofread and correct this review. Make it more compelling.\n",
        "Ensure it follows APA style guide and targets an advanced reader.\n",
        "Output in markdown format.\n",
        "Text: ```{text}```\n",
        "\"\"\"\n",
        "response = get_completion(prompt)\n",
        "display(Markdown(response))"
      ]
    },
    {
      "cell_type": "markdown",
      "metadata": {
        "id": "bt0VqJkPIbwt"
      },
      "source": [
        "\n",
        "\n",
        "---\n",
        "\n"
      ]
    },
    {
      "cell_type": "markdown",
      "metadata": {
        "id": "FjNK524AIckA"
      },
      "source": [
        "# ขยายความ\n",
        "ในส่วนนี้ เราจะ generate email เพื่อตอบลูกค้า โดยยึดตามเนื้อหาเฉพาะตัวของลูกค้าแต่ละคน\n",
        "\n",
        "## อีเมลล์เฉพาะตัวจากเนื้อหารีวิว"
      ]
    },
    {
      "cell_type": "code",
      "execution_count": null,
      "metadata": {
        "id": "V1wcUgpuIg7-"
      },
      "outputs": [],
      "source": [
        "# given the sentiment from the lesson on \"inferring\",\n",
        "# and the original customer message, customize the email\n",
        "sentiment = \"negative\"\n",
        "\n",
        "# review for a blender\n",
        "review = f\"\"\"\n",
        "So, they still had the 17 piece system on seasonal \\\n",
        "sale for around $49 in the month of November, about \\\n",
        "half off, but for some reason (call it price gouging) \\\n",
        "around the second week of December the prices all went \\\n",
        "up to about anywhere from between $70-$89 for the same \\\n",
        "system. And the 11 piece system went up around $10 or \\\n",
        "so in price also from the earlier sale price of $29. \\\n",
        "So it looks okay, but if you look at the base, the part \\\n",
        "where the blade locks into place doesn’t look as good \\\n",
        "as in previous editions from a few years ago, but I \\\n",
        "plan to be very gentle with it (example, I crush \\\n",
        "very hard items like beans, ice, rice, etc. in the \\\n",
        "blender first then pulverize them in the serving size \\\n",
        "I want in the blender then switch to the whipping \\\n",
        "blade for a finer flour, and use the cross cutting blade \\\n",
        "first when making smoothies, then use the flat blade \\\n",
        "if I need them finer/less pulpy). Special tip when making \\\n",
        "smoothies, finely cut and freeze the fruits and \\\n",
        "vegetables (if using spinach-lightly stew soften the \\\n",
        "spinach then freeze until ready for use-and if making \\\n",
        "sorbet, use a small to medium sized food processor) \\\n",
        "that you plan to use that way you can avoid adding so \\\n",
        "much ice if at all-when making your smoothie. \\\n",
        "After about a year, the motor was making a funny noise. \\\n",
        "I called customer service but the warranty expired \\\n",
        "already, so I had to buy another one. FYI: The overall \\\n",
        "quality has gone done in these types of products, so \\\n",
        "they are kind of counting on brand recognition and \\\n",
        "consumer loyalty to maintain sales. Got it in about \\\n",
        "two days.\n",
        "\"\"\""
      ]
    },
    {
      "cell_type": "code",
      "execution_count": null,
      "metadata": {
        "colab": {
          "base_uri": "https://localhost:8080/"
        },
        "id": "U59dE5twIiaP",
        "outputId": "17b200af-90fd-4289-dce9-57fbb516ad29"
      },
      "outputs": [
        {
          "name": "stdout",
          "output_type": "stream",
          "text": [
            "Dear Valued Customer,\n",
            "\n",
            "Thank you for taking the time to share your review with us. We appreciate your feedback and apologize for any inconvenience you may have experienced.\n",
            "\n",
            "We are sorry to hear about the price increase you noticed in December. Our pricing is subject to change based on various factors, including market conditions and demand. We understand that this may have been disappointing for you, and we apologize for any confusion caused.\n",
            "\n",
            "Regarding the quality of the base, we appreciate your observation. We constantly strive to improve our products, and your feedback will be taken into consideration for future enhancements.\n",
            "\n",
            "We apologize for the issue you encountered with the motor after a year of use. Our customer service team is here to assist you, even if the warranty has expired. Please feel free to reach out to them at [customer service contact] for further assistance.\n",
            "\n",
            "We value your loyalty and appreciate your support. If there is anything else we can do to assist you, please do not hesitate to let us know.\n",
            "\n",
            "Thank you once again for your review.\n",
            "\n",
            "Best regards,\n",
            "\n",
            "AI customer agent\n"
          ]
        }
      ],
      "source": [
        "prompt = f\"\"\"\n",
        "You are a customer service AI assistant.\n",
        "Your task is to send an email reply to a valued customer.\n",
        "Given the customer email delimited by ```, \\\n",
        "Generate a reply to thank the customer for their review.\n",
        "If the sentiment is positive or neutral, thank them for \\\n",
        "their review.\n",
        "If the sentiment is negative, apologize and suggest that \\\n",
        "they can reach out to customer service.\n",
        "Make sure to use specific details from the review.\n",
        "Write in a concise and professional tone.\n",
        "Sign the email as `AI customer agent`.\n",
        "Customer review: ```{review}```\n",
        "Review sentiment: {sentiment}\n",
        "\"\"\"\n",
        "response = get_completion(prompt)\n",
        "print(response)"
      ]
    },
    {
      "cell_type": "markdown",
      "metadata": {
        "id": "9axqplEhIlbe"
      },
      "source": [
        "## สั่งให้โมเดลใช้ข้อมูลจากลูกค้า"
      ]
    },
    {
      "cell_type": "code",
      "execution_count": null,
      "metadata": {
        "colab": {
          "base_uri": "https://localhost:8080/"
        },
        "id": "1XZD1s2hImiT",
        "outputId": "f4c690d4-7a6f-4a34-9cfd-09100274148a"
      },
      "outputs": [
        {
          "name": "stdout",
          "output_type": "stream",
          "text": [
            "Dear Valued Customer,\n",
            "\n",
            "Thank you for taking the time to share your feedback with us. We appreciate your honest review and apologize for any inconvenience you experienced with our pricing and product quality.\n",
            "\n",
            "We understand your frustration regarding the price increase in December compared to the seasonal sale in November. We apologize if this caused any confusion or disappointment. As for the change in the base quality, we appreciate your observation and we will take your feedback into consideration for future improvements.\n",
            "\n",
            "Regarding the motor issue you encountered after a year, we apologize for any inconvenience caused. Since the warranty had expired at that time, we understand your decision to purchase another one. We appreciate your loyalty to our brand.\n",
            "\n",
            "If you have any further concerns or questions, we encourage you to reach out to our customer service team. They will be more than happy to assist you and provide any necessary support.\n",
            "\n",
            "Thank you again for your valuable feedback. We appreciate your business and look forward to serving you better in the future.\n",
            "\n",
            "Best regards,\n",
            "AI customer agent\n"
          ]
        }
      ],
      "source": [
        "prompt = f\"\"\"\n",
        "You are a customer service AI assistant.\n",
        "Your task is to send an email reply to a valued customer.\n",
        "Given the customer email delimited by ```, \\\n",
        "Generate a reply to thank the customer for their review.\n",
        "If the sentiment is positive or neutral, thank them for \\\n",
        "their review.\n",
        "If the sentiment is negative, apologize and suggest that \\\n",
        "they can reach out to customer service.\n",
        "Make sure to use specific details from the review.\n",
        "Write in a concise and professional tone.\n",
        "Sign the email as `AI customer agent`.\n",
        "Customer review: ```{review}```\n",
        "Review sentiment: {sentiment}\n",
        "\"\"\"\n",
        "response = get_completion(prompt, temperature=0.7)\n",
        "print(response)"
      ]
    },
    {
      "cell_type": "markdown",
      "metadata": {
        "id": "REWgo9W0Im83"
      },
      "source": [
        "\n",
        "\n",
        "---\n",
        "\n"
      ]
    },
    {
      "cell_type": "markdown",
      "metadata": {
        "id": "ilKvKaP3Insh"
      },
      "source": [
        "# สร้าง Chatbot\n",
        "\n",
        "## Setup"
      ]
    },
    {
      "cell_type": "code",
      "execution_count": 11,
      "metadata": {
        "id": "xgRqbRCUIyp3"
      },
      "outputs": [],
      "source": [
        "def get_completion_from_messages(messages, model=\"gpt-3.5-turbo\", temperature=0):\n",
        "    response = openai.ChatCompletion.create(\n",
        "        model=model,\n",
        "        messages=messages,\n",
        "        temperature=temperature, # this is the degree of randomness of the model's output\n",
        "    )\n",
        "\n",
        "    return response.choices[0].message[\"content\"]"
      ]
    },
    {
      "cell_type": "code",
      "execution_count": 12,
      "metadata": {
        "id": "SmKoFhCqI2Rr"
      },
      "outputs": [],
      "source": [
        "messages =  [\n",
        "{'role':'system', 'content':'You are an assistant that speaks like Shakespeare.'},    # content เป็นเหมือนกับคำสั่งแรกในชีวิต ว่า you ควรจะเป็นอะไร\n",
        "{'role':'user', 'content':'tell me a joke'},\n",
        "{'role':'assistant', 'content':'Why did the chicken cross the road'},\n",
        "{'role':'user', 'content':'I don\\'t know'}  ]"
      ]
    },
    {
      "cell_type": "code",
      "execution_count": 13,
      "metadata": {
        "colab": {
          "base_uri": "https://localhost:8080/"
        },
        "id": "LMXeDm1RI3pq",
        "outputId": "ac65a392-cc2f-4588-fa4d-847059d7ab18"
      },
      "outputs": [
        {
          "name": "stdout",
          "output_type": "stream",
          "text": [
            "To get to the other side, good sir!\n"
          ]
        }
      ],
      "source": [
        "response = get_completion_from_messages(messages, temperature=1)\n",
        "print(response)"
      ]
    },
    {
      "cell_type": "code",
      "execution_count": 14,
      "metadata": {
        "colab": {
          "base_uri": "https://localhost:8080/"
        },
        "id": "be9WwSVmI4ri",
        "outputId": "34f0dce9-3df2-4c4b-d6e1-898d1bb1a251"
      },
      "outputs": [
        {
          "name": "stdout",
          "output_type": "stream",
          "text": [
            "Hello Isa! It's nice to meet you. How are you doing today?\n"
          ]
        }
      ],
      "source": [
        "messages =  [\n",
        "{'role':'system', 'content':'You are friendly chatbot.'},\n",
        "{'role':'user', 'content':'Hi, my name is Isa'}  ]\n",
        "response = get_completion_from_messages(messages, temperature=1)\n",
        "print(response)"
      ]
    },
    {
      "cell_type": "code",
      "execution_count": 15,
      "metadata": {
        "colab": {
          "base_uri": "https://localhost:8080/"
        },
        "id": "BCOZeE2UI5sI",
        "outputId": "1db9ae6b-0c6f-4c6d-ffb9-cee3b5559f0d"
      },
      "outputs": [
        {
          "name": "stdout",
          "output_type": "stream",
          "text": [
            "I'm sorry, but I don't have access to that information. Is there anything else I can help you with?\n"
          ]
        }
      ],
      "source": [
        "messages =  [\n",
        "{'role':'system', 'content':'You are friendly chatbot.'},\n",
        "{'role':'user', 'content':'Yes,  can you remind me, What is my name?'}  ]\n",
        "response = get_completion_from_messages(messages, temperature=1)\n",
        "print(response)"
      ]
    },
    {
      "cell_type": "code",
      "execution_count": 16,
      "metadata": {
        "colab": {
          "base_uri": "https://localhost:8080/"
        },
        "id": "Os4S5whdI7Ag",
        "outputId": "d86cb2af-c536-41ec-9c2d-b8d26d6097fb"
      },
      "outputs": [
        {
          "name": "stdout",
          "output_type": "stream",
          "text": [
            "Your name is Isa.\n"
          ]
        }
      ],
      "source": [
        "messages =  [\n",
        "{'role':'system', 'content':'You are friendly chatbot.'},\n",
        "{'role':'user', 'content':'Hi, my name is Isa'},\n",
        "{'role':'assistant', 'content': \"Hi Isa! It's nice to meet you. \\\n",
        "Is there anything I can help you with today?\"},\n",
        "{'role':'user', 'content':'Yes, you can remind me, What is my name?'}  ]\n",
        "response = get_completion_from_messages(messages, temperature=1)\n",
        "print(response)"
      ]
    }
  ],
  "metadata": {
    "colab": {
      "provenance": []
    },
    "kernelspec": {
      "display_name": "Python 3",
      "name": "python3"
    },
    "language_info": {
      "name": "python"
    }
  },
  "nbformat": 4,
  "nbformat_minor": 0
}
