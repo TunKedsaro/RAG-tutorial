{
  "nbformat": 4,
  "nbformat_minor": 0,
  "metadata": {
    "colab": {
      "provenance": []
    },
    "kernelspec": {
      "name": "python3",
      "display_name": "Python 3"
    },
    "language_info": {
      "name": "python"
    },
    "widgets": {
      "application/vnd.jupyter.widget-state+json": {
        "a0fd08b1e2ef4718a852a27583e3f30e": {
          "model_module": "@jupyter-widgets/controls",
          "model_name": "HBoxModel",
          "model_module_version": "1.5.0",
          "state": {
            "_dom_classes": [],
            "_model_module": "@jupyter-widgets/controls",
            "_model_module_version": "1.5.0",
            "_model_name": "HBoxModel",
            "_view_count": null,
            "_view_module": "@jupyter-widgets/controls",
            "_view_module_version": "1.5.0",
            "_view_name": "HBoxView",
            "box_style": "",
            "children": [
              "IPY_MODEL_bf151dafadee491681b5b7aec8d74e69",
              "IPY_MODEL_c01400e759354ec6838e4f88d02ecdcb",
              "IPY_MODEL_f15faa3b372a4ea4afb178f98bd12e6d"
            ],
            "layout": "IPY_MODEL_9b24b602c6ab4ae9aaa332fe011364dd"
          }
        },
        "bf151dafadee491681b5b7aec8d74e69": {
          "model_module": "@jupyter-widgets/controls",
          "model_name": "HTMLModel",
          "model_module_version": "1.5.0",
          "state": {
            "_dom_classes": [],
            "_model_module": "@jupyter-widgets/controls",
            "_model_module_version": "1.5.0",
            "_model_name": "HTMLModel",
            "_view_count": null,
            "_view_module": "@jupyter-widgets/controls",
            "_view_module_version": "1.5.0",
            "_view_name": "HTMLView",
            "description": "",
            "description_tooltip": null,
            "layout": "IPY_MODEL_e0a2a4db9cb84b9aa614e62010baafb4",
            "placeholder": "​",
            "style": "IPY_MODEL_83a2d8e594e3414f90ae22e4fca9e63f",
            "value": "README.md: 100%"
          }
        },
        "c01400e759354ec6838e4f88d02ecdcb": {
          "model_module": "@jupyter-widgets/controls",
          "model_name": "FloatProgressModel",
          "model_module_version": "1.5.0",
          "state": {
            "_dom_classes": [],
            "_model_module": "@jupyter-widgets/controls",
            "_model_module_version": "1.5.0",
            "_model_name": "FloatProgressModel",
            "_view_count": null,
            "_view_module": "@jupyter-widgets/controls",
            "_view_module_version": "1.5.0",
            "_view_name": "ProgressView",
            "bar_style": "success",
            "description": "",
            "description_tooltip": null,
            "layout": "IPY_MODEL_843c51f4c2344df2b791354e949871f3",
            "max": 26,
            "min": 0,
            "orientation": "horizontal",
            "style": "IPY_MODEL_be10af8e30c84af2998b86ddff7a47d1",
            "value": 26
          }
        },
        "f15faa3b372a4ea4afb178f98bd12e6d": {
          "model_module": "@jupyter-widgets/controls",
          "model_name": "HTMLModel",
          "model_module_version": "1.5.0",
          "state": {
            "_dom_classes": [],
            "_model_module": "@jupyter-widgets/controls",
            "_model_module_version": "1.5.0",
            "_model_name": "HTMLModel",
            "_view_count": null,
            "_view_module": "@jupyter-widgets/controls",
            "_view_module_version": "1.5.0",
            "_view_name": "HTMLView",
            "description": "",
            "description_tooltip": null,
            "layout": "IPY_MODEL_0cd16b1be9094b019f7aae59bcad393a",
            "placeholder": "​",
            "style": "IPY_MODEL_e65f88cf2163489b8c3e12e66549db41",
            "value": " 26.0/26.0 [00:00&lt;00:00, 1.49kB/s]"
          }
        },
        "9b24b602c6ab4ae9aaa332fe011364dd": {
          "model_module": "@jupyter-widgets/base",
          "model_name": "LayoutModel",
          "model_module_version": "1.2.0",
          "state": {
            "_model_module": "@jupyter-widgets/base",
            "_model_module_version": "1.2.0",
            "_model_name": "LayoutModel",
            "_view_count": null,
            "_view_module": "@jupyter-widgets/base",
            "_view_module_version": "1.2.0",
            "_view_name": "LayoutView",
            "align_content": null,
            "align_items": null,
            "align_self": null,
            "border": null,
            "bottom": null,
            "display": null,
            "flex": null,
            "flex_flow": null,
            "grid_area": null,
            "grid_auto_columns": null,
            "grid_auto_flow": null,
            "grid_auto_rows": null,
            "grid_column": null,
            "grid_gap": null,
            "grid_row": null,
            "grid_template_areas": null,
            "grid_template_columns": null,
            "grid_template_rows": null,
            "height": null,
            "justify_content": null,
            "justify_items": null,
            "left": null,
            "margin": null,
            "max_height": null,
            "max_width": null,
            "min_height": null,
            "min_width": null,
            "object_fit": null,
            "object_position": null,
            "order": null,
            "overflow": null,
            "overflow_x": null,
            "overflow_y": null,
            "padding": null,
            "right": null,
            "top": null,
            "visibility": null,
            "width": null
          }
        },
        "e0a2a4db9cb84b9aa614e62010baafb4": {
          "model_module": "@jupyter-widgets/base",
          "model_name": "LayoutModel",
          "model_module_version": "1.2.0",
          "state": {
            "_model_module": "@jupyter-widgets/base",
            "_model_module_version": "1.2.0",
            "_model_name": "LayoutModel",
            "_view_count": null,
            "_view_module": "@jupyter-widgets/base",
            "_view_module_version": "1.2.0",
            "_view_name": "LayoutView",
            "align_content": null,
            "align_items": null,
            "align_self": null,
            "border": null,
            "bottom": null,
            "display": null,
            "flex": null,
            "flex_flow": null,
            "grid_area": null,
            "grid_auto_columns": null,
            "grid_auto_flow": null,
            "grid_auto_rows": null,
            "grid_column": null,
            "grid_gap": null,
            "grid_row": null,
            "grid_template_areas": null,
            "grid_template_columns": null,
            "grid_template_rows": null,
            "height": null,
            "justify_content": null,
            "justify_items": null,
            "left": null,
            "margin": null,
            "max_height": null,
            "max_width": null,
            "min_height": null,
            "min_width": null,
            "object_fit": null,
            "object_position": null,
            "order": null,
            "overflow": null,
            "overflow_x": null,
            "overflow_y": null,
            "padding": null,
            "right": null,
            "top": null,
            "visibility": null,
            "width": null
          }
        },
        "83a2d8e594e3414f90ae22e4fca9e63f": {
          "model_module": "@jupyter-widgets/controls",
          "model_name": "DescriptionStyleModel",
          "model_module_version": "1.5.0",
          "state": {
            "_model_module": "@jupyter-widgets/controls",
            "_model_module_version": "1.5.0",
            "_model_name": "DescriptionStyleModel",
            "_view_count": null,
            "_view_module": "@jupyter-widgets/base",
            "_view_module_version": "1.2.0",
            "_view_name": "StyleView",
            "description_width": ""
          }
        },
        "843c51f4c2344df2b791354e949871f3": {
          "model_module": "@jupyter-widgets/base",
          "model_name": "LayoutModel",
          "model_module_version": "1.2.0",
          "state": {
            "_model_module": "@jupyter-widgets/base",
            "_model_module_version": "1.2.0",
            "_model_name": "LayoutModel",
            "_view_count": null,
            "_view_module": "@jupyter-widgets/base",
            "_view_module_version": "1.2.0",
            "_view_name": "LayoutView",
            "align_content": null,
            "align_items": null,
            "align_self": null,
            "border": null,
            "bottom": null,
            "display": null,
            "flex": null,
            "flex_flow": null,
            "grid_area": null,
            "grid_auto_columns": null,
            "grid_auto_flow": null,
            "grid_auto_rows": null,
            "grid_column": null,
            "grid_gap": null,
            "grid_row": null,
            "grid_template_areas": null,
            "grid_template_columns": null,
            "grid_template_rows": null,
            "height": null,
            "justify_content": null,
            "justify_items": null,
            "left": null,
            "margin": null,
            "max_height": null,
            "max_width": null,
            "min_height": null,
            "min_width": null,
            "object_fit": null,
            "object_position": null,
            "order": null,
            "overflow": null,
            "overflow_x": null,
            "overflow_y": null,
            "padding": null,
            "right": null,
            "top": null,
            "visibility": null,
            "width": null
          }
        },
        "be10af8e30c84af2998b86ddff7a47d1": {
          "model_module": "@jupyter-widgets/controls",
          "model_name": "ProgressStyleModel",
          "model_module_version": "1.5.0",
          "state": {
            "_model_module": "@jupyter-widgets/controls",
            "_model_module_version": "1.5.0",
            "_model_name": "ProgressStyleModel",
            "_view_count": null,
            "_view_module": "@jupyter-widgets/base",
            "_view_module_version": "1.2.0",
            "_view_name": "StyleView",
            "bar_color": null,
            "description_width": ""
          }
        },
        "0cd16b1be9094b019f7aae59bcad393a": {
          "model_module": "@jupyter-widgets/base",
          "model_name": "LayoutModel",
          "model_module_version": "1.2.0",
          "state": {
            "_model_module": "@jupyter-widgets/base",
            "_model_module_version": "1.2.0",
            "_model_name": "LayoutModel",
            "_view_count": null,
            "_view_module": "@jupyter-widgets/base",
            "_view_module_version": "1.2.0",
            "_view_name": "LayoutView",
            "align_content": null,
            "align_items": null,
            "align_self": null,
            "border": null,
            "bottom": null,
            "display": null,
            "flex": null,
            "flex_flow": null,
            "grid_area": null,
            "grid_auto_columns": null,
            "grid_auto_flow": null,
            "grid_auto_rows": null,
            "grid_column": null,
            "grid_gap": null,
            "grid_row": null,
            "grid_template_areas": null,
            "grid_template_columns": null,
            "grid_template_rows": null,
            "height": null,
            "justify_content": null,
            "justify_items": null,
            "left": null,
            "margin": null,
            "max_height": null,
            "max_width": null,
            "min_height": null,
            "min_width": null,
            "object_fit": null,
            "object_position": null,
            "order": null,
            "overflow": null,
            "overflow_x": null,
            "overflow_y": null,
            "padding": null,
            "right": null,
            "top": null,
            "visibility": null,
            "width": null
          }
        },
        "e65f88cf2163489b8c3e12e66549db41": {
          "model_module": "@jupyter-widgets/controls",
          "model_name": "DescriptionStyleModel",
          "model_module_version": "1.5.0",
          "state": {
            "_model_module": "@jupyter-widgets/controls",
            "_model_module_version": "1.5.0",
            "_model_name": "DescriptionStyleModel",
            "_view_count": null,
            "_view_module": "@jupyter-widgets/base",
            "_view_module_version": "1.2.0",
            "_view_name": "StyleView",
            "description_width": ""
          }
        },
        "594d87413d2849b3b9800cc292cb22fb": {
          "model_module": "@jupyter-widgets/controls",
          "model_name": "HBoxModel",
          "model_module_version": "1.5.0",
          "state": {
            "_dom_classes": [],
            "_model_module": "@jupyter-widgets/controls",
            "_model_module_version": "1.5.0",
            "_model_name": "HBoxModel",
            "_view_count": null,
            "_view_module": "@jupyter-widgets/controls",
            "_view_module_version": "1.5.0",
            "_view_name": "HBoxView",
            "box_style": "",
            "children": [
              "IPY_MODEL_33e32494b8f941c5b986ea9d6a176572",
              "IPY_MODEL_0595591c477a406fb2a470cb2f0169aa",
              "IPY_MODEL_ef6a1a9705aa412d8f155b7f46650973"
            ],
            "layout": "IPY_MODEL_ff64ac2922b84494ae033b4e1c8a7ec8"
          }
        },
        "33e32494b8f941c5b986ea9d6a176572": {
          "model_module": "@jupyter-widgets/controls",
          "model_name": "HTMLModel",
          "model_module_version": "1.5.0",
          "state": {
            "_dom_classes": [],
            "_model_module": "@jupyter-widgets/controls",
            "_model_module_version": "1.5.0",
            "_model_name": "HTMLModel",
            "_view_count": null,
            "_view_module": "@jupyter-widgets/controls",
            "_view_module_version": "1.5.0",
            "_view_name": "HTMLView",
            "description": "",
            "description_tooltip": null,
            "layout": "IPY_MODEL_647ee7d67c6d4ff6918b0d62bcc8d521",
            "placeholder": "​",
            "style": "IPY_MODEL_9c1f207bf781472ca1faa33dfebd68ee",
            "value": "ttd_metadata.json: "
          }
        },
        "0595591c477a406fb2a470cb2f0169aa": {
          "model_module": "@jupyter-widgets/controls",
          "model_name": "FloatProgressModel",
          "model_module_version": "1.5.0",
          "state": {
            "_dom_classes": [],
            "_model_module": "@jupyter-widgets/controls",
            "_model_module_version": "1.5.0",
            "_model_name": "FloatProgressModel",
            "_view_count": null,
            "_view_module": "@jupyter-widgets/controls",
            "_view_module_version": "1.5.0",
            "_view_name": "ProgressView",
            "bar_style": "success",
            "description": "",
            "description_tooltip": null,
            "layout": "IPY_MODEL_7441b21481664cb38385084febc81756",
            "max": 1,
            "min": 0,
            "orientation": "horizontal",
            "style": "IPY_MODEL_7e461c62195f4274b6d2262b0ba8e29d",
            "value": 1
          }
        },
        "ef6a1a9705aa412d8f155b7f46650973": {
          "model_module": "@jupyter-widgets/controls",
          "model_name": "HTMLModel",
          "model_module_version": "1.5.0",
          "state": {
            "_dom_classes": [],
            "_model_module": "@jupyter-widgets/controls",
            "_model_module_version": "1.5.0",
            "_model_name": "HTMLModel",
            "_view_count": null,
            "_view_module": "@jupyter-widgets/controls",
            "_view_module_version": "1.5.0",
            "_view_name": "HTMLView",
            "description": "",
            "description_tooltip": null,
            "layout": "IPY_MODEL_4dd816fb714c46acbf7c5f698fbd4278",
            "placeholder": "​",
            "style": "IPY_MODEL_b15986849774407dadb2d004d6f4ddfd",
            "value": " 4.65M/? [00:00&lt;00:00, 19.3MB/s]"
          }
        },
        "ff64ac2922b84494ae033b4e1c8a7ec8": {
          "model_module": "@jupyter-widgets/base",
          "model_name": "LayoutModel",
          "model_module_version": "1.2.0",
          "state": {
            "_model_module": "@jupyter-widgets/base",
            "_model_module_version": "1.2.0",
            "_model_name": "LayoutModel",
            "_view_count": null,
            "_view_module": "@jupyter-widgets/base",
            "_view_module_version": "1.2.0",
            "_view_name": "LayoutView",
            "align_content": null,
            "align_items": null,
            "align_self": null,
            "border": null,
            "bottom": null,
            "display": null,
            "flex": null,
            "flex_flow": null,
            "grid_area": null,
            "grid_auto_columns": null,
            "grid_auto_flow": null,
            "grid_auto_rows": null,
            "grid_column": null,
            "grid_gap": null,
            "grid_row": null,
            "grid_template_areas": null,
            "grid_template_columns": null,
            "grid_template_rows": null,
            "height": null,
            "justify_content": null,
            "justify_items": null,
            "left": null,
            "margin": null,
            "max_height": null,
            "max_width": null,
            "min_height": null,
            "min_width": null,
            "object_fit": null,
            "object_position": null,
            "order": null,
            "overflow": null,
            "overflow_x": null,
            "overflow_y": null,
            "padding": null,
            "right": null,
            "top": null,
            "visibility": null,
            "width": null
          }
        },
        "647ee7d67c6d4ff6918b0d62bcc8d521": {
          "model_module": "@jupyter-widgets/base",
          "model_name": "LayoutModel",
          "model_module_version": "1.2.0",
          "state": {
            "_model_module": "@jupyter-widgets/base",
            "_model_module_version": "1.2.0",
            "_model_name": "LayoutModel",
            "_view_count": null,
            "_view_module": "@jupyter-widgets/base",
            "_view_module_version": "1.2.0",
            "_view_name": "LayoutView",
            "align_content": null,
            "align_items": null,
            "align_self": null,
            "border": null,
            "bottom": null,
            "display": null,
            "flex": null,
            "flex_flow": null,
            "grid_area": null,
            "grid_auto_columns": null,
            "grid_auto_flow": null,
            "grid_auto_rows": null,
            "grid_column": null,
            "grid_gap": null,
            "grid_row": null,
            "grid_template_areas": null,
            "grid_template_columns": null,
            "grid_template_rows": null,
            "height": null,
            "justify_content": null,
            "justify_items": null,
            "left": null,
            "margin": null,
            "max_height": null,
            "max_width": null,
            "min_height": null,
            "min_width": null,
            "object_fit": null,
            "object_position": null,
            "order": null,
            "overflow": null,
            "overflow_x": null,
            "overflow_y": null,
            "padding": null,
            "right": null,
            "top": null,
            "visibility": null,
            "width": null
          }
        },
        "9c1f207bf781472ca1faa33dfebd68ee": {
          "model_module": "@jupyter-widgets/controls",
          "model_name": "DescriptionStyleModel",
          "model_module_version": "1.5.0",
          "state": {
            "_model_module": "@jupyter-widgets/controls",
            "_model_module_version": "1.5.0",
            "_model_name": "DescriptionStyleModel",
            "_view_count": null,
            "_view_module": "@jupyter-widgets/base",
            "_view_module_version": "1.2.0",
            "_view_name": "StyleView",
            "description_width": ""
          }
        },
        "7441b21481664cb38385084febc81756": {
          "model_module": "@jupyter-widgets/base",
          "model_name": "LayoutModel",
          "model_module_version": "1.2.0",
          "state": {
            "_model_module": "@jupyter-widgets/base",
            "_model_module_version": "1.2.0",
            "_model_name": "LayoutModel",
            "_view_count": null,
            "_view_module": "@jupyter-widgets/base",
            "_view_module_version": "1.2.0",
            "_view_name": "LayoutView",
            "align_content": null,
            "align_items": null,
            "align_self": null,
            "border": null,
            "bottom": null,
            "display": null,
            "flex": null,
            "flex_flow": null,
            "grid_area": null,
            "grid_auto_columns": null,
            "grid_auto_flow": null,
            "grid_auto_rows": null,
            "grid_column": null,
            "grid_gap": null,
            "grid_row": null,
            "grid_template_areas": null,
            "grid_template_columns": null,
            "grid_template_rows": null,
            "height": null,
            "justify_content": null,
            "justify_items": null,
            "left": null,
            "margin": null,
            "max_height": null,
            "max_width": null,
            "min_height": null,
            "min_width": null,
            "object_fit": null,
            "object_position": null,
            "order": null,
            "overflow": null,
            "overflow_x": null,
            "overflow_y": null,
            "padding": null,
            "right": null,
            "top": null,
            "visibility": null,
            "width": "20px"
          }
        },
        "7e461c62195f4274b6d2262b0ba8e29d": {
          "model_module": "@jupyter-widgets/controls",
          "model_name": "ProgressStyleModel",
          "model_module_version": "1.5.0",
          "state": {
            "_model_module": "@jupyter-widgets/controls",
            "_model_module_version": "1.5.0",
            "_model_name": "ProgressStyleModel",
            "_view_count": null,
            "_view_module": "@jupyter-widgets/base",
            "_view_module_version": "1.2.0",
            "_view_name": "StyleView",
            "bar_color": null,
            "description_width": ""
          }
        },
        "4dd816fb714c46acbf7c5f698fbd4278": {
          "model_module": "@jupyter-widgets/base",
          "model_name": "LayoutModel",
          "model_module_version": "1.2.0",
          "state": {
            "_model_module": "@jupyter-widgets/base",
            "_model_module_version": "1.2.0",
            "_model_name": "LayoutModel",
            "_view_count": null,
            "_view_module": "@jupyter-widgets/base",
            "_view_module_version": "1.2.0",
            "_view_name": "LayoutView",
            "align_content": null,
            "align_items": null,
            "align_self": null,
            "border": null,
            "bottom": null,
            "display": null,
            "flex": null,
            "flex_flow": null,
            "grid_area": null,
            "grid_auto_columns": null,
            "grid_auto_flow": null,
            "grid_auto_rows": null,
            "grid_column": null,
            "grid_gap": null,
            "grid_row": null,
            "grid_template_areas": null,
            "grid_template_columns": null,
            "grid_template_rows": null,
            "height": null,
            "justify_content": null,
            "justify_items": null,
            "left": null,
            "margin": null,
            "max_height": null,
            "max_width": null,
            "min_height": null,
            "min_width": null,
            "object_fit": null,
            "object_position": null,
            "order": null,
            "overflow": null,
            "overflow_x": null,
            "overflow_y": null,
            "padding": null,
            "right": null,
            "top": null,
            "visibility": null,
            "width": null
          }
        },
        "b15986849774407dadb2d004d6f4ddfd": {
          "model_module": "@jupyter-widgets/controls",
          "model_name": "DescriptionStyleModel",
          "model_module_version": "1.5.0",
          "state": {
            "_model_module": "@jupyter-widgets/controls",
            "_model_module_version": "1.5.0",
            "_model_name": "DescriptionStyleModel",
            "_view_count": null,
            "_view_module": "@jupyter-widgets/base",
            "_view_module_version": "1.2.0",
            "_view_name": "StyleView",
            "description_width": ""
          }
        },
        "0b986ec03a064465841346587680fd6d": {
          "model_module": "@jupyter-widgets/controls",
          "model_name": "HBoxModel",
          "model_module_version": "1.5.0",
          "state": {
            "_dom_classes": [],
            "_model_module": "@jupyter-widgets/controls",
            "_model_module_version": "1.5.0",
            "_model_name": "HBoxModel",
            "_view_count": null,
            "_view_module": "@jupyter-widgets/controls",
            "_view_module_version": "1.5.0",
            "_view_name": "HBoxView",
            "box_style": "",
            "children": [
              "IPY_MODEL_a85cdf6ca61d4a1d81d732013d3e1e69",
              "IPY_MODEL_e23731eeb1074d6a9c96d84e2ceea9c9",
              "IPY_MODEL_d66ee119e6584926960ac1dbc5193d5a"
            ],
            "layout": "IPY_MODEL_d60f06261ddf48c697f657bb913e7af9"
          }
        },
        "a85cdf6ca61d4a1d81d732013d3e1e69": {
          "model_module": "@jupyter-widgets/controls",
          "model_name": "HTMLModel",
          "model_module_version": "1.5.0",
          "state": {
            "_dom_classes": [],
            "_model_module": "@jupyter-widgets/controls",
            "_model_module_version": "1.5.0",
            "_model_name": "HTMLModel",
            "_view_count": null,
            "_view_module": "@jupyter-widgets/controls",
            "_view_module_version": "1.5.0",
            "_view_name": "HTMLView",
            "description": "",
            "description_tooltip": null,
            "layout": "IPY_MODEL_7967e94789f9400297b833a824938140",
            "placeholder": "​",
            "style": "IPY_MODEL_dde94a2220c74b4991c64e5fbc0db147",
            "value": "Generating train split: 100%"
          }
        },
        "e23731eeb1074d6a9c96d84e2ceea9c9": {
          "model_module": "@jupyter-widgets/controls",
          "model_name": "FloatProgressModel",
          "model_module_version": "1.5.0",
          "state": {
            "_dom_classes": [],
            "_model_module": "@jupyter-widgets/controls",
            "_model_module_version": "1.5.0",
            "_model_name": "FloatProgressModel",
            "_view_count": null,
            "_view_module": "@jupyter-widgets/controls",
            "_view_module_version": "1.5.0",
            "_view_name": "ProgressView",
            "bar_style": "success",
            "description": "",
            "description_tooltip": null,
            "layout": "IPY_MODEL_0a76d5304e5048899c6e6b9244e5d27a",
            "max": 2700,
            "min": 0,
            "orientation": "horizontal",
            "style": "IPY_MODEL_7ee9319c28924c42aee88b25597b621b",
            "value": 2700
          }
        },
        "d66ee119e6584926960ac1dbc5193d5a": {
          "model_module": "@jupyter-widgets/controls",
          "model_name": "HTMLModel",
          "model_module_version": "1.5.0",
          "state": {
            "_dom_classes": [],
            "_model_module": "@jupyter-widgets/controls",
            "_model_module_version": "1.5.0",
            "_model_name": "HTMLModel",
            "_view_count": null,
            "_view_module": "@jupyter-widgets/controls",
            "_view_module_version": "1.5.0",
            "_view_name": "HTMLView",
            "description": "",
            "description_tooltip": null,
            "layout": "IPY_MODEL_4250f7bae65f4378af253f1e5e035b27",
            "placeholder": "​",
            "style": "IPY_MODEL_a471274dc35a4d818747e788cfaa3b9c",
            "value": " 2700/2700 [00:00&lt;00:00, 18440.25 examples/s]"
          }
        },
        "d60f06261ddf48c697f657bb913e7af9": {
          "model_module": "@jupyter-widgets/base",
          "model_name": "LayoutModel",
          "model_module_version": "1.2.0",
          "state": {
            "_model_module": "@jupyter-widgets/base",
            "_model_module_version": "1.2.0",
            "_model_name": "LayoutModel",
            "_view_count": null,
            "_view_module": "@jupyter-widgets/base",
            "_view_module_version": "1.2.0",
            "_view_name": "LayoutView",
            "align_content": null,
            "align_items": null,
            "align_self": null,
            "border": null,
            "bottom": null,
            "display": null,
            "flex": null,
            "flex_flow": null,
            "grid_area": null,
            "grid_auto_columns": null,
            "grid_auto_flow": null,
            "grid_auto_rows": null,
            "grid_column": null,
            "grid_gap": null,
            "grid_row": null,
            "grid_template_areas": null,
            "grid_template_columns": null,
            "grid_template_rows": null,
            "height": null,
            "justify_content": null,
            "justify_items": null,
            "left": null,
            "margin": null,
            "max_height": null,
            "max_width": null,
            "min_height": null,
            "min_width": null,
            "object_fit": null,
            "object_position": null,
            "order": null,
            "overflow": null,
            "overflow_x": null,
            "overflow_y": null,
            "padding": null,
            "right": null,
            "top": null,
            "visibility": null,
            "width": null
          }
        },
        "7967e94789f9400297b833a824938140": {
          "model_module": "@jupyter-widgets/base",
          "model_name": "LayoutModel",
          "model_module_version": "1.2.0",
          "state": {
            "_model_module": "@jupyter-widgets/base",
            "_model_module_version": "1.2.0",
            "_model_name": "LayoutModel",
            "_view_count": null,
            "_view_module": "@jupyter-widgets/base",
            "_view_module_version": "1.2.0",
            "_view_name": "LayoutView",
            "align_content": null,
            "align_items": null,
            "align_self": null,
            "border": null,
            "bottom": null,
            "display": null,
            "flex": null,
            "flex_flow": null,
            "grid_area": null,
            "grid_auto_columns": null,
            "grid_auto_flow": null,
            "grid_auto_rows": null,
            "grid_column": null,
            "grid_gap": null,
            "grid_row": null,
            "grid_template_areas": null,
            "grid_template_columns": null,
            "grid_template_rows": null,
            "height": null,
            "justify_content": null,
            "justify_items": null,
            "left": null,
            "margin": null,
            "max_height": null,
            "max_width": null,
            "min_height": null,
            "min_width": null,
            "object_fit": null,
            "object_position": null,
            "order": null,
            "overflow": null,
            "overflow_x": null,
            "overflow_y": null,
            "padding": null,
            "right": null,
            "top": null,
            "visibility": null,
            "width": null
          }
        },
        "dde94a2220c74b4991c64e5fbc0db147": {
          "model_module": "@jupyter-widgets/controls",
          "model_name": "DescriptionStyleModel",
          "model_module_version": "1.5.0",
          "state": {
            "_model_module": "@jupyter-widgets/controls",
            "_model_module_version": "1.5.0",
            "_model_name": "DescriptionStyleModel",
            "_view_count": null,
            "_view_module": "@jupyter-widgets/base",
            "_view_module_version": "1.2.0",
            "_view_name": "StyleView",
            "description_width": ""
          }
        },
        "0a76d5304e5048899c6e6b9244e5d27a": {
          "model_module": "@jupyter-widgets/base",
          "model_name": "LayoutModel",
          "model_module_version": "1.2.0",
          "state": {
            "_model_module": "@jupyter-widgets/base",
            "_model_module_version": "1.2.0",
            "_model_name": "LayoutModel",
            "_view_count": null,
            "_view_module": "@jupyter-widgets/base",
            "_view_module_version": "1.2.0",
            "_view_name": "LayoutView",
            "align_content": null,
            "align_items": null,
            "align_self": null,
            "border": null,
            "bottom": null,
            "display": null,
            "flex": null,
            "flex_flow": null,
            "grid_area": null,
            "grid_auto_columns": null,
            "grid_auto_flow": null,
            "grid_auto_rows": null,
            "grid_column": null,
            "grid_gap": null,
            "grid_row": null,
            "grid_template_areas": null,
            "grid_template_columns": null,
            "grid_template_rows": null,
            "height": null,
            "justify_content": null,
            "justify_items": null,
            "left": null,
            "margin": null,
            "max_height": null,
            "max_width": null,
            "min_height": null,
            "min_width": null,
            "object_fit": null,
            "object_position": null,
            "order": null,
            "overflow": null,
            "overflow_x": null,
            "overflow_y": null,
            "padding": null,
            "right": null,
            "top": null,
            "visibility": null,
            "width": null
          }
        },
        "7ee9319c28924c42aee88b25597b621b": {
          "model_module": "@jupyter-widgets/controls",
          "model_name": "ProgressStyleModel",
          "model_module_version": "1.5.0",
          "state": {
            "_model_module": "@jupyter-widgets/controls",
            "_model_module_version": "1.5.0",
            "_model_name": "ProgressStyleModel",
            "_view_count": null,
            "_view_module": "@jupyter-widgets/base",
            "_view_module_version": "1.2.0",
            "_view_name": "StyleView",
            "bar_color": null,
            "description_width": ""
          }
        },
        "4250f7bae65f4378af253f1e5e035b27": {
          "model_module": "@jupyter-widgets/base",
          "model_name": "LayoutModel",
          "model_module_version": "1.2.0",
          "state": {
            "_model_module": "@jupyter-widgets/base",
            "_model_module_version": "1.2.0",
            "_model_name": "LayoutModel",
            "_view_count": null,
            "_view_module": "@jupyter-widgets/base",
            "_view_module_version": "1.2.0",
            "_view_name": "LayoutView",
            "align_content": null,
            "align_items": null,
            "align_self": null,
            "border": null,
            "bottom": null,
            "display": null,
            "flex": null,
            "flex_flow": null,
            "grid_area": null,
            "grid_auto_columns": null,
            "grid_auto_flow": null,
            "grid_auto_rows": null,
            "grid_column": null,
            "grid_gap": null,
            "grid_row": null,
            "grid_template_areas": null,
            "grid_template_columns": null,
            "grid_template_rows": null,
            "height": null,
            "justify_content": null,
            "justify_items": null,
            "left": null,
            "margin": null,
            "max_height": null,
            "max_width": null,
            "min_height": null,
            "min_width": null,
            "object_fit": null,
            "object_position": null,
            "order": null,
            "overflow": null,
            "overflow_x": null,
            "overflow_y": null,
            "padding": null,
            "right": null,
            "top": null,
            "visibility": null,
            "width": null
          }
        },
        "a471274dc35a4d818747e788cfaa3b9c": {
          "model_module": "@jupyter-widgets/controls",
          "model_name": "DescriptionStyleModel",
          "model_module_version": "1.5.0",
          "state": {
            "_model_module": "@jupyter-widgets/controls",
            "_model_module_version": "1.5.0",
            "_model_name": "DescriptionStyleModel",
            "_view_count": null,
            "_view_module": "@jupyter-widgets/base",
            "_view_module_version": "1.2.0",
            "_view_name": "StyleView",
            "description_width": ""
          }
        }
      }
    }
  },
  "cells": [
    {
      "cell_type": "code",
      "execution_count": 2,
      "metadata": {
        "colab": {
          "base_uri": "https://localhost:8080/"
        },
        "collapsed": true,
        "id": "tlIzN6OKnDYo",
        "outputId": "e07ea693-2af2-4dd8-ff2e-ee3c69d8f5e3"
      },
      "outputs": [
        {
          "output_type": "stream",
          "name": "stdout",
          "text": [
            "Requirement already satisfied: pip in /usr/local/lib/python3.12/dist-packages (24.1.2)\n",
            "Collecting pip\n",
            "  Downloading pip-25.2-py3-none-any.whl.metadata (4.7 kB)\n",
            "Downloading pip-25.2-py3-none-any.whl (1.8 MB)\n",
            "\u001b[2K   \u001b[90m━━━━━━━━━━━━━━━━━━━━━━━━━━━━━━━━━━━━━━━━\u001b[0m \u001b[32m1.8/1.8 MB\u001b[0m \u001b[31m23.0 MB/s\u001b[0m eta \u001b[36m0:00:00\u001b[0m\n",
            "\u001b[?25hInstalling collected packages: pip\n",
            "  Attempting uninstall: pip\n",
            "    Found existing installation: pip 24.1.2\n",
            "    Uninstalling pip-24.1.2:\n",
            "      Successfully uninstalled pip-24.1.2\n",
            "Successfully installed pip-25.2\n",
            "Requirement already satisfied: langchain in /usr/local/lib/python3.12/dist-packages (0.3.27)\n",
            "Requirement already satisfied: openai in /usr/local/lib/python3.12/dist-packages (1.107.0)\n",
            "Collecting pinecone-client\n",
            "  Downloading pinecone_client-6.0.0-py3-none-any.whl.metadata (3.4 kB)\n",
            "Requirement already satisfied: tiktoken in /usr/local/lib/python3.12/dist-packages (0.11.0)\n",
            "Requirement already satisfied: langchain-core<1.0.0,>=0.3.72 in /usr/local/lib/python3.12/dist-packages (from langchain) (0.3.75)\n",
            "Requirement already satisfied: langchain-text-splitters<1.0.0,>=0.3.9 in /usr/local/lib/python3.12/dist-packages (from langchain) (0.3.11)\n",
            "Requirement already satisfied: langsmith>=0.1.17 in /usr/local/lib/python3.12/dist-packages (from langchain) (0.4.27)\n",
            "Requirement already satisfied: pydantic<3.0.0,>=2.7.4 in /usr/local/lib/python3.12/dist-packages (from langchain) (2.11.7)\n",
            "Requirement already satisfied: SQLAlchemy<3,>=1.4 in /usr/local/lib/python3.12/dist-packages (from langchain) (2.0.43)\n",
            "Requirement already satisfied: requests<3,>=2 in /usr/local/lib/python3.12/dist-packages (from langchain) (2.32.4)\n",
            "Requirement already satisfied: PyYAML>=5.3 in /usr/local/lib/python3.12/dist-packages (from langchain) (6.0.2)\n",
            "Requirement already satisfied: tenacity!=8.4.0,<10.0.0,>=8.1.0 in /usr/local/lib/python3.12/dist-packages (from langchain-core<1.0.0,>=0.3.72->langchain) (8.5.0)\n",
            "Requirement already satisfied: jsonpatch<2.0,>=1.33 in /usr/local/lib/python3.12/dist-packages (from langchain-core<1.0.0,>=0.3.72->langchain) (1.33)\n",
            "Requirement already satisfied: typing-extensions>=4.7 in /usr/local/lib/python3.12/dist-packages (from langchain-core<1.0.0,>=0.3.72->langchain) (4.15.0)\n",
            "Requirement already satisfied: packaging>=23.2 in /usr/local/lib/python3.12/dist-packages (from langchain-core<1.0.0,>=0.3.72->langchain) (25.0)\n",
            "Requirement already satisfied: jsonpointer>=1.9 in /usr/local/lib/python3.12/dist-packages (from jsonpatch<2.0,>=1.33->langchain-core<1.0.0,>=0.3.72->langchain) (3.0.0)\n",
            "Requirement already satisfied: annotated-types>=0.6.0 in /usr/local/lib/python3.12/dist-packages (from pydantic<3.0.0,>=2.7.4->langchain) (0.7.0)\n",
            "Requirement already satisfied: pydantic-core==2.33.2 in /usr/local/lib/python3.12/dist-packages (from pydantic<3.0.0,>=2.7.4->langchain) (2.33.2)\n",
            "Requirement already satisfied: typing-inspection>=0.4.0 in /usr/local/lib/python3.12/dist-packages (from pydantic<3.0.0,>=2.7.4->langchain) (0.4.1)\n",
            "Requirement already satisfied: charset_normalizer<4,>=2 in /usr/local/lib/python3.12/dist-packages (from requests<3,>=2->langchain) (3.4.3)\n",
            "Requirement already satisfied: idna<4,>=2.5 in /usr/local/lib/python3.12/dist-packages (from requests<3,>=2->langchain) (3.10)\n",
            "Requirement already satisfied: urllib3<3,>=1.21.1 in /usr/local/lib/python3.12/dist-packages (from requests<3,>=2->langchain) (2.5.0)\n",
            "Requirement already satisfied: certifi>=2017.4.17 in /usr/local/lib/python3.12/dist-packages (from requests<3,>=2->langchain) (2025.8.3)\n",
            "Requirement already satisfied: greenlet>=1 in /usr/local/lib/python3.12/dist-packages (from SQLAlchemy<3,>=1.4->langchain) (3.2.4)\n",
            "Requirement already satisfied: anyio<5,>=3.5.0 in /usr/local/lib/python3.12/dist-packages (from openai) (4.10.0)\n",
            "Requirement already satisfied: distro<2,>=1.7.0 in /usr/local/lib/python3.12/dist-packages (from openai) (1.9.0)\n",
            "Requirement already satisfied: httpx<1,>=0.23.0 in /usr/local/lib/python3.12/dist-packages (from openai) (0.28.1)\n",
            "Requirement already satisfied: jiter<1,>=0.4.0 in /usr/local/lib/python3.12/dist-packages (from openai) (0.10.0)\n",
            "Requirement already satisfied: sniffio in /usr/local/lib/python3.12/dist-packages (from openai) (1.3.1)\n",
            "Requirement already satisfied: tqdm>4 in /usr/local/lib/python3.12/dist-packages (from openai) (4.67.1)\n",
            "Requirement already satisfied: httpcore==1.* in /usr/local/lib/python3.12/dist-packages (from httpx<1,>=0.23.0->openai) (1.0.9)\n",
            "Requirement already satisfied: h11>=0.16 in /usr/local/lib/python3.12/dist-packages (from httpcore==1.*->httpx<1,>=0.23.0->openai) (0.16.0)\n",
            "Collecting pinecone-plugin-interface<0.0.8,>=0.0.7 (from pinecone-client)\n",
            "  Downloading pinecone_plugin_interface-0.0.7-py3-none-any.whl.metadata (1.2 kB)\n",
            "Requirement already satisfied: python-dateutil>=2.5.3 in /usr/local/lib/python3.12/dist-packages (from pinecone-client) (2.9.0.post0)\n",
            "Requirement already satisfied: regex>=2022.1.18 in /usr/local/lib/python3.12/dist-packages (from tiktoken) (2024.11.6)\n",
            "Requirement already satisfied: orjson>=3.9.14 in /usr/local/lib/python3.12/dist-packages (from langsmith>=0.1.17->langchain) (3.11.3)\n",
            "Requirement already satisfied: requests-toolbelt>=1.0.0 in /usr/local/lib/python3.12/dist-packages (from langsmith>=0.1.17->langchain) (1.0.0)\n",
            "Requirement already satisfied: zstandard>=0.23.0 in /usr/local/lib/python3.12/dist-packages (from langsmith>=0.1.17->langchain) (0.24.0)\n",
            "Requirement already satisfied: six>=1.5 in /usr/local/lib/python3.12/dist-packages (from python-dateutil>=2.5.3->pinecone-client) (1.17.0)\n",
            "Downloading pinecone_client-6.0.0-py3-none-any.whl (6.7 kB)\n",
            "Downloading pinecone_plugin_interface-0.0.7-py3-none-any.whl (6.2 kB)\n",
            "Installing collected packages: pinecone-plugin-interface, pinecone-client\n",
            "\u001b[2K   \u001b[90m━━━━━━━━━━━━━━━━━━━━━━━━━━━━━━━━━━━━━━━━\u001b[0m \u001b[32m2/2\u001b[0m [pinecone-client]\n",
            "\u001b[1A\u001b[2KSuccessfully installed pinecone-client-6.0.0 pinecone-plugin-interface-0.0.7\n"
          ]
        }
      ],
      "source": [
        "!pip install --upgrade pip\n",
        "!pip install langchain openai pinecone-client tiktoken\n"
      ]
    },
    {
      "cell_type": "code",
      "source": [
        "!pip install datasets"
      ],
      "metadata": {
        "collapsed": true,
        "colab": {
          "base_uri": "https://localhost:8080/"
        },
        "id": "7iZ0aw_k0SJT",
        "outputId": "f4673864-2caf-45fb-9743-1295e0ef0d3f"
      },
      "execution_count": 3,
      "outputs": [
        {
          "output_type": "stream",
          "name": "stdout",
          "text": [
            "Requirement already satisfied: datasets in /usr/local/lib/python3.12/dist-packages (4.0.0)\n",
            "Requirement already satisfied: filelock in /usr/local/lib/python3.12/dist-packages (from datasets) (3.19.1)\n",
            "Requirement already satisfied: numpy>=1.17 in /usr/local/lib/python3.12/dist-packages (from datasets) (2.0.2)\n",
            "Requirement already satisfied: pyarrow>=15.0.0 in /usr/local/lib/python3.12/dist-packages (from datasets) (18.1.0)\n",
            "Requirement already satisfied: dill<0.3.9,>=0.3.0 in /usr/local/lib/python3.12/dist-packages (from datasets) (0.3.8)\n",
            "Requirement already satisfied: pandas in /usr/local/lib/python3.12/dist-packages (from datasets) (2.2.2)\n",
            "Requirement already satisfied: requests>=2.32.2 in /usr/local/lib/python3.12/dist-packages (from datasets) (2.32.4)\n",
            "Requirement already satisfied: tqdm>=4.66.3 in /usr/local/lib/python3.12/dist-packages (from datasets) (4.67.1)\n",
            "Requirement already satisfied: xxhash in /usr/local/lib/python3.12/dist-packages (from datasets) (3.5.0)\n",
            "Requirement already satisfied: multiprocess<0.70.17 in /usr/local/lib/python3.12/dist-packages (from datasets) (0.70.16)\n",
            "Requirement already satisfied: fsspec<=2025.3.0,>=2023.1.0 in /usr/local/lib/python3.12/dist-packages (from fsspec[http]<=2025.3.0,>=2023.1.0->datasets) (2025.3.0)\n",
            "Requirement already satisfied: huggingface-hub>=0.24.0 in /usr/local/lib/python3.12/dist-packages (from datasets) (0.34.4)\n",
            "Requirement already satisfied: packaging in /usr/local/lib/python3.12/dist-packages (from datasets) (25.0)\n",
            "Requirement already satisfied: pyyaml>=5.1 in /usr/local/lib/python3.12/dist-packages (from datasets) (6.0.2)\n",
            "Requirement already satisfied: aiohttp!=4.0.0a0,!=4.0.0a1 in /usr/local/lib/python3.12/dist-packages (from fsspec[http]<=2025.3.0,>=2023.1.0->datasets) (3.12.15)\n",
            "Requirement already satisfied: aiohappyeyeballs>=2.5.0 in /usr/local/lib/python3.12/dist-packages (from aiohttp!=4.0.0a0,!=4.0.0a1->fsspec[http]<=2025.3.0,>=2023.1.0->datasets) (2.6.1)\n",
            "Requirement already satisfied: aiosignal>=1.4.0 in /usr/local/lib/python3.12/dist-packages (from aiohttp!=4.0.0a0,!=4.0.0a1->fsspec[http]<=2025.3.0,>=2023.1.0->datasets) (1.4.0)\n",
            "Requirement already satisfied: attrs>=17.3.0 in /usr/local/lib/python3.12/dist-packages (from aiohttp!=4.0.0a0,!=4.0.0a1->fsspec[http]<=2025.3.0,>=2023.1.0->datasets) (25.3.0)\n",
            "Requirement already satisfied: frozenlist>=1.1.1 in /usr/local/lib/python3.12/dist-packages (from aiohttp!=4.0.0a0,!=4.0.0a1->fsspec[http]<=2025.3.0,>=2023.1.0->datasets) (1.7.0)\n",
            "Requirement already satisfied: multidict<7.0,>=4.5 in /usr/local/lib/python3.12/dist-packages (from aiohttp!=4.0.0a0,!=4.0.0a1->fsspec[http]<=2025.3.0,>=2023.1.0->datasets) (6.6.4)\n",
            "Requirement already satisfied: propcache>=0.2.0 in /usr/local/lib/python3.12/dist-packages (from aiohttp!=4.0.0a0,!=4.0.0a1->fsspec[http]<=2025.3.0,>=2023.1.0->datasets) (0.3.2)\n",
            "Requirement already satisfied: yarl<2.0,>=1.17.0 in /usr/local/lib/python3.12/dist-packages (from aiohttp!=4.0.0a0,!=4.0.0a1->fsspec[http]<=2025.3.0,>=2023.1.0->datasets) (1.20.1)\n",
            "Requirement already satisfied: idna>=2.0 in /usr/local/lib/python3.12/dist-packages (from yarl<2.0,>=1.17.0->aiohttp!=4.0.0a0,!=4.0.0a1->fsspec[http]<=2025.3.0,>=2023.1.0->datasets) (3.10)\n",
            "Requirement already satisfied: typing-extensions>=4.2 in /usr/local/lib/python3.12/dist-packages (from aiosignal>=1.4.0->aiohttp!=4.0.0a0,!=4.0.0a1->fsspec[http]<=2025.3.0,>=2023.1.0->datasets) (4.15.0)\n",
            "Requirement already satisfied: hf-xet<2.0.0,>=1.1.3 in /usr/local/lib/python3.12/dist-packages (from huggingface-hub>=0.24.0->datasets) (1.1.9)\n",
            "Requirement already satisfied: charset_normalizer<4,>=2 in /usr/local/lib/python3.12/dist-packages (from requests>=2.32.2->datasets) (3.4.3)\n",
            "Requirement already satisfied: urllib3<3,>=1.21.1 in /usr/local/lib/python3.12/dist-packages (from requests>=2.32.2->datasets) (2.5.0)\n",
            "Requirement already satisfied: certifi>=2017.4.17 in /usr/local/lib/python3.12/dist-packages (from requests>=2.32.2->datasets) (2025.8.3)\n",
            "Requirement already satisfied: python-dateutil>=2.8.2 in /usr/local/lib/python3.12/dist-packages (from pandas->datasets) (2.9.0.post0)\n",
            "Requirement already satisfied: pytz>=2020.1 in /usr/local/lib/python3.12/dist-packages (from pandas->datasets) (2025.2)\n",
            "Requirement already satisfied: tzdata>=2022.7 in /usr/local/lib/python3.12/dist-packages (from pandas->datasets) (2025.2)\n",
            "Requirement already satisfied: six>=1.5 in /usr/local/lib/python3.12/dist-packages (from python-dateutil>=2.8.2->pandas->datasets) (1.17.0)\n"
          ]
        }
      ]
    },
    {
      "cell_type": "code",
      "source": [
        "!pip install -qU \"langchain[groq]\""
      ],
      "metadata": {
        "id": "UZ66N4PM0dSh"
      },
      "execution_count": 4,
      "outputs": []
    },
    {
      "cell_type": "code",
      "source": [
        "from google.colab import userdata\n",
        "groq_api = userdata.get('GROQ_API_USPLACES')\n",
        "# groq_api"
      ],
      "metadata": {
        "id": "_KBVZ3BQ0l9V"
      },
      "execution_count": 29,
      "outputs": []
    },
    {
      "cell_type": "code",
      "source": [
        "import os\n",
        "os.environ['GROQ_API_KEY'] = groq_api.strip()"
      ],
      "metadata": {
        "id": "m3zyh-1U10Oc"
      },
      "execution_count": 6,
      "outputs": []
    },
    {
      "cell_type": "code",
      "source": [
        "from langchain_core.prompts import ChatPromptTemplate\n",
        "from langchain_groq import ChatGroq\n",
        "from langchain.chat_models import init_chat_model"
      ],
      "metadata": {
        "id": "yuVwQUbiB21e"
      },
      "execution_count": 7,
      "outputs": []
    },
    {
      "cell_type": "code",
      "source": [
        "chat = ChatGroq(\n",
        "    temperature = 0,\n",
        "    model_name = \"llama-3.3-70b-versatile\"\n",
        ")"
      ],
      "metadata": {
        "id": "D2XbhIXbCj-x"
      },
      "execution_count": 8,
      "outputs": []
    },
    {
      "cell_type": "code",
      "source": [
        "system = \"You are helpful assistant\"\n",
        "human  = \"{text}\"\n",
        "prompt = ChatPromptTemplate.from_messages(\n",
        "    [\n",
        "        (\"system\",system),\n",
        "        (\"human\",human)\n",
        "    ]\n",
        ")\n",
        "chain = prompt | chat"
      ],
      "metadata": {
        "id": "B_rmKpRSDj4i"
      },
      "execution_count": 9,
      "outputs": []
    },
    {
      "cell_type": "code",
      "source": [
        "chain.invoke(\n",
        "    {\"text\":\"Hello\"}\n",
        ")"
      ],
      "metadata": {
        "colab": {
          "base_uri": "https://localhost:8080/"
        },
        "id": "WTjBeogLJato",
        "outputId": "1e64dffe-fbd0-4872-88cd-72c9207e881d"
      },
      "execution_count": 10,
      "outputs": [
        {
          "output_type": "execute_result",
          "data": {
            "text/plain": [
              "AIMessage(content=\"Hello. It's nice to meet you. Is there something I can help you with or would you like to chat?\", additional_kwargs={}, response_metadata={'token_usage': {'completion_tokens': 25, 'prompt_tokens': 40, 'total_tokens': 65, 'completion_time': 0.048145724, 'prompt_time': 0.002156138, 'queue_time': 0.265143003, 'total_time': 0.050301862}, 'model_name': 'llama-3.3-70b-versatile', 'system_fingerprint': 'fp_155ab82e98', 'service_tier': 'on_demand', 'finish_reason': 'stop', 'logprobs': None}, id='run--4e3f7d85-0248-45f9-9b0f-6deecea9634f-0', usage_metadata={'input_tokens': 40, 'output_tokens': 25, 'total_tokens': 65})"
            ]
          },
          "metadata": {},
          "execution_count": 10
        }
      ]
    },
    {
      "cell_type": "code",
      "source": [
        "from langchain.schema import (\n",
        "    SystemMessage,\n",
        "    HumanMessage,\n",
        "    AIMessage\n",
        ")"
      ],
      "metadata": {
        "id": "V6M_jGuAMkVW"
      },
      "execution_count": 11,
      "outputs": []
    },
    {
      "cell_type": "code",
      "source": [
        "messages = [\n",
        "    SystemMessage(content = \"You are a helpful assistant\"),\n",
        "    HumanMessage(content = \"Hi AI, how are you today?\"),\n",
        "    AIMessage(content = \"I'm great thank you. How can I help you?\"),\n",
        "    HumanMessage(content = \"I'd like to understand string theory\")\n",
        "]"
      ],
      "metadata": {
        "id": "TxT5nl2FNEKv"
      },
      "execution_count": 12,
      "outputs": []
    },
    {
      "cell_type": "code",
      "source": [
        "res = chat(messages)\n",
        "res"
      ],
      "metadata": {
        "colab": {
          "base_uri": "https://localhost:8080/"
        },
        "id": "rPYgUGF9OVDm",
        "outputId": "25adb1f0-d33e-462f-df31-f1e09940e556"
      },
      "execution_count": 13,
      "outputs": [
        {
          "output_type": "stream",
          "name": "stderr",
          "text": [
            "/tmp/ipython-input-690687436.py:1: LangChainDeprecationWarning: The method `BaseChatModel.__call__` was deprecated in langchain-core 0.1.7 and will be removed in 1.0. Use :meth:`~invoke` instead.\n",
            "  res = chat(messages)\n"
          ]
        },
        {
          "output_type": "execute_result",
          "data": {
            "text/plain": [
              "AIMessage(content='String theory is a complex and fascinating topic in physics. I\\'ll try to break it down in a way that\\'s easy to understand.\\n\\n**What is string theory?**\\n\\nString theory is a theoretical framework in physics that attempts to reconcile two major areas of physics: general relativity (which describes gravity and the large-scale structure of the universe) and quantum mechanics (which describes the behavior of particles at the atomic and subatomic level).\\n\\nThe core idea of string theory is that the fundamental building blocks of the universe are not particles (like electrons and photons), but tiny, vibrating strings. These strings are thought to be the source of all particles and forces in the universe.\\n\\n**Key concepts:**\\n\\n1. **Strings**: The fundamental objects in string theory are one-dimensional strings, rather than point-like particles. These strings can vibrate at different frequencies, giving rise to various particles.\\n2. **Vibrational modes**: The vibrations of the strings correspond to different energy levels, which in turn give rise to different particles. Think of it like a violin string, where different notes correspond to different vibrational modes.\\n3. **Extra dimensions**: String theory requires the existence of extra dimensions beyond the three spatial dimensions (length, width, and height) and one time dimension that we experience in everyday life. These extra dimensions are \"compactified\" or \"curled up\" so tightly that we can\\'t directly observe them.\\n4. **Calabi-Yau manifolds**: The extra dimensions in string theory are compactified into complex geometric structures called Calabi-Yau manifolds. These manifolds determine the properties of the strings and the particles that arise from them.\\n5. **Superstrings**: String theory also involves the concept of superstrings, which are strings that have supersymmetry (a symmetry between bosons and fermions). Superstrings are thought to be the fundamental objects in the universe.\\n\\n**Types of string theory:**\\n\\nThere are five consistent superstring theories, known as:\\n\\n1. Type I string theory\\n2. Type II string theory (with two subtypes: IIA and IIB)\\n3. Heterotic string theory (with two subtypes: SO(32) and E8×E8)\\n\\nThese theories differ in the way they compactify the extra dimensions and the types of strings they contain.\\n\\n**Challenges and criticisms:**\\n\\nWhile string theory is an active area of research, it\\'s not without its challenges and criticisms. Some of the concerns include:\\n\\n1. **Lack of experimental evidence**: Despite decades of research, there is currently no direct experimental evidence to support string theory.\\n2. **Mathematical complexity**: String theory is a highly mathematical framework, which can make it difficult to understand and work with.\\n3. **Multiverse problem**: String theory predicts the existence of a vast \"multiverse\" of possible universes, which raises questions about the nature of reality and the role of observation.\\n\\n**Current research and future directions:**\\n\\nResearchers are actively exploring various aspects of string theory, including:\\n\\n1. **Phenomenology**: The study of how string theory can be used to describe and predict the behavior of particles and forces in the universe.\\n2. **Cosmology**: The application of string theory to the study of the universe\\'s origins and evolution.\\n3. **Black hole physics**: The use of string theory to understand the behavior of black holes and the information paradox.\\n\\nWhile string theory is still a developing area of research, it has already led to important advances in our understanding of the universe and the laws of physics.\\n\\nHow\\'s that for a starting point? Do you have any specific questions or areas you\\'d like me to expand on?', additional_kwargs={}, response_metadata={'token_usage': {'completion_tokens': 744, 'prompt_tokens': 77, 'total_tokens': 821, 'completion_time': 1.547452995, 'prompt_time': 0.00369258, 'queue_time': 0.489508099, 'total_time': 1.551145575}, 'model_name': 'llama-3.3-70b-versatile', 'system_fingerprint': 'fp_155ab82e98', 'service_tier': 'on_demand', 'finish_reason': 'stop', 'logprobs': None}, id='run--7c2bcc70-3c0f-401a-b042-a46f38d57af1-0', usage_metadata={'input_tokens': 77, 'output_tokens': 744, 'total_tokens': 821})"
            ]
          },
          "metadata": {},
          "execution_count": 13
        }
      ]
    },
    {
      "cell_type": "code",
      "source": [
        "print(res.content)"
      ],
      "metadata": {
        "colab": {
          "base_uri": "https://localhost:8080/"
        },
        "id": "pAIN4u-ZPjtK",
        "outputId": "9aa28ea8-1906-4b51-a484-06470285386b"
      },
      "execution_count": 14,
      "outputs": [
        {
          "output_type": "stream",
          "name": "stdout",
          "text": [
            "String theory is a complex and fascinating topic in physics. I'll try to break it down in a way that's easy to understand.\n",
            "\n",
            "**What is string theory?**\n",
            "\n",
            "String theory is a theoretical framework in physics that attempts to reconcile two major areas of physics: general relativity (which describes gravity and the large-scale structure of the universe) and quantum mechanics (which describes the behavior of particles at the atomic and subatomic level).\n",
            "\n",
            "The core idea of string theory is that the fundamental building blocks of the universe are not particles (like electrons and photons), but tiny, vibrating strings. These strings are thought to be the source of all particles and forces in the universe.\n",
            "\n",
            "**Key concepts:**\n",
            "\n",
            "1. **Strings**: The fundamental objects in string theory are one-dimensional strings, rather than point-like particles. These strings can vibrate at different frequencies, giving rise to various particles.\n",
            "2. **Vibrational modes**: The vibrations of the strings correspond to different energy levels, which in turn give rise to different particles. Think of it like a violin string, where different notes correspond to different vibrational modes.\n",
            "3. **Extra dimensions**: String theory requires the existence of extra dimensions beyond the three spatial dimensions (length, width, and height) and one time dimension that we experience in everyday life. These extra dimensions are \"compactified\" or \"curled up\" so tightly that we can't directly observe them.\n",
            "4. **Calabi-Yau manifolds**: The extra dimensions in string theory are compactified into complex geometric structures called Calabi-Yau manifolds. These manifolds determine the properties of the strings and the particles that arise from them.\n",
            "5. **Superstrings**: String theory also involves the concept of superstrings, which are strings that have supersymmetry (a symmetry between bosons and fermions). Superstrings are thought to be the fundamental objects in the universe.\n",
            "\n",
            "**Types of string theory:**\n",
            "\n",
            "There are five consistent superstring theories, known as:\n",
            "\n",
            "1. Type I string theory\n",
            "2. Type II string theory (with two subtypes: IIA and IIB)\n",
            "3. Heterotic string theory (with two subtypes: SO(32) and E8×E8)\n",
            "\n",
            "These theories differ in the way they compactify the extra dimensions and the types of strings they contain.\n",
            "\n",
            "**Challenges and criticisms:**\n",
            "\n",
            "While string theory is an active area of research, it's not without its challenges and criticisms. Some of the concerns include:\n",
            "\n",
            "1. **Lack of experimental evidence**: Despite decades of research, there is currently no direct experimental evidence to support string theory.\n",
            "2. **Mathematical complexity**: String theory is a highly mathematical framework, which can make it difficult to understand and work with.\n",
            "3. **Multiverse problem**: String theory predicts the existence of a vast \"multiverse\" of possible universes, which raises questions about the nature of reality and the role of observation.\n",
            "\n",
            "**Current research and future directions:**\n",
            "\n",
            "Researchers are actively exploring various aspects of string theory, including:\n",
            "\n",
            "1. **Phenomenology**: The study of how string theory can be used to describe and predict the behavior of particles and forces in the universe.\n",
            "2. **Cosmology**: The application of string theory to the study of the universe's origins and evolution.\n",
            "3. **Black hole physics**: The use of string theory to understand the behavior of black holes and the information paradox.\n",
            "\n",
            "While string theory is still a developing area of research, it has already led to important advances in our understanding of the universe and the laws of physics.\n",
            "\n",
            "How's that for a starting point? Do you have any specific questions or areas you'd like me to expand on?\n"
          ]
        }
      ]
    },
    {
      "cell_type": "code",
      "source": [
        "messages.append(res)"
      ],
      "metadata": {
        "id": "QR_JA_PtQGY8"
      },
      "execution_count": 15,
      "outputs": []
    },
    {
      "cell_type": "code",
      "source": [
        "prompt = HumanMessage(\n",
        "    content = \"Can you tell me about the JOB-AI python xdxd 2099theory\"\n",
        ")\n",
        "messages.append(prompt)\n",
        "res = chat(messages)\n",
        "print(res)"
      ],
      "metadata": {
        "colab": {
          "base_uri": "https://localhost:8080/"
        },
        "id": "HtWWd3qNQKHO",
        "outputId": "ece1bc96-0405-4628-c798-af34378d0ab6"
      },
      "execution_count": 16,
      "outputs": [
        {
          "output_type": "stream",
          "name": "stdout",
          "text": [
            "content='I couldn\\'t find any information on the \"JOB-AI python xdxd 2099theory\". It\\'s possible that this is a fictional or made-up concept, or it could be a very niche or obscure topic that I\\'m not aware of.\\n\\nHowever, I can try to break down the components of the phrase and see if I can provide any insights:\\n\\n* \"JOB-AI\" could refer to a job or task related to Artificial Intelligence (AI).\\n* \"python\" is a popular programming language, often used in AI and machine learning applications.\\n* \"xdxd\" doesn\\'t seem to have any obvious meaning, but it could be a placeholder or a codename for a specific project or concept.\\n* \"2099theory\" suggests a theoretical framework or concept related to the year 2099, which could be a futuristic or speculative idea.\\n\\nIf you could provide more context or information about where you encountered this phrase, I may be able to help you better. Alternatively, if you\\'re interested in exploring AI-related topics or learning more about python programming, I\\'d be happy to provide resources and guidance! \\n\\nSome potential areas of exploration could include:\\n\\n1. **AI and machine learning**: I can provide an overview of the field, including key concepts, techniques, and applications.\\n2. **Python programming**: I can offer resources and tutorials on getting started with python, including libraries and frameworks commonly used in AI and data science.\\n3. **Futuristic concepts**: If you\\'re interested in exploring speculative ideas or futuristic concepts related to AI, I can engage in a fun and imaginative discussion with you!\\n\\nLet me know how I can assist you further!' additional_kwargs={} response_metadata={'token_usage': {'completion_tokens': 334, 'prompt_tokens': 846, 'total_tokens': 1180, 'completion_time': 0.840961266, 'prompt_time': 0.071343399, 'queue_time': 0.252006961, 'total_time': 0.912304665}, 'model_name': 'llama-3.3-70b-versatile', 'system_fingerprint': 'fp_9e1e8f8435', 'service_tier': 'on_demand', 'finish_reason': 'stop', 'logprobs': None} id='run--863db3c9-cb7f-4040-9449-d1f42109485b-0' usage_metadata={'input_tokens': 846, 'output_tokens': 334, 'total_tokens': 1180}\n"
          ]
        }
      ]
    },
    {
      "cell_type": "code",
      "source": [
        "print(res.content)"
      ],
      "metadata": {
        "colab": {
          "base_uri": "https://localhost:8080/"
        },
        "id": "gdf29az1Q2rf",
        "outputId": "c44d3e1d-4ecf-41b4-b2d0-49d5c54d53d3"
      },
      "execution_count": 17,
      "outputs": [
        {
          "output_type": "stream",
          "name": "stdout",
          "text": [
            "I couldn't find any information on the \"JOB-AI python xdxd 2099theory\". It's possible that this is a fictional or made-up concept, or it could be a very niche or obscure topic that I'm not aware of.\n",
            "\n",
            "However, I can try to break down the components of the phrase and see if I can provide any insights:\n",
            "\n",
            "* \"JOB-AI\" could refer to a job or task related to Artificial Intelligence (AI).\n",
            "* \"python\" is a popular programming language, often used in AI and machine learning applications.\n",
            "* \"xdxd\" doesn't seem to have any obvious meaning, but it could be a placeholder or a codename for a specific project or concept.\n",
            "* \"2099theory\" suggests a theoretical framework or concept related to the year 2099, which could be a futuristic or speculative idea.\n",
            "\n",
            "If you could provide more context or information about where you encountered this phrase, I may be able to help you better. Alternatively, if you're interested in exploring AI-related topics or learning more about python programming, I'd be happy to provide resources and guidance! \n",
            "\n",
            "Some potential areas of exploration could include:\n",
            "\n",
            "1. **AI and machine learning**: I can provide an overview of the field, including key concepts, techniques, and applications.\n",
            "2. **Python programming**: I can offer resources and tutorials on getting started with python, including libraries and frameworks commonly used in AI and data science.\n",
            "3. **Futuristic concepts**: If you're interested in exploring speculative ideas or futuristic concepts related to AI, I can engage in a fun and imaginative discussion with you!\n",
            "\n",
            "Let me know how I can assist you further!\n"
          ]
        }
      ]
    },
    {
      "cell_type": "code",
      "source": [
        "llmchain_information = [\n",
        "    \"JOB-AI python xdxd 2099 theory is a bigbang theory how the universe expanded from an initial state of hight density and temperature.\"\n",
        "]\n",
        "source_knowlege = \"\\n\".join(llmchain_information)\n"
      ],
      "metadata": {
        "id": "RSfwO23nkvac"
      },
      "execution_count": 18,
      "outputs": []
    },
    {
      "cell_type": "code",
      "source": [
        "query = \"Can you tell me about the JOB-AI python xdxd 2099theory?\"\n",
        "augumented_prompt = f\"\"\"\n",
        "                Using the contexts below, answer the query.\n",
        "Contexts:\n",
        "{source_knowlege}\n",
        "Query: {query}\n",
        "\"\"\""
      ],
      "metadata": {
        "id": "jbF-rodKmm6m"
      },
      "execution_count": 19,
      "outputs": []
    },
    {
      "cell_type": "code",
      "source": [
        "prompt = HumanMessage(\n",
        "    content = augumented_prompt\n",
        ")\n",
        "messages.append(prompt)\n",
        "res = chat(messages)"
      ],
      "metadata": {
        "id": "WTmCqVrVnPEz"
      },
      "execution_count": 20,
      "outputs": []
    },
    {
      "cell_type": "code",
      "source": [
        "res.content"
      ],
      "metadata": {
        "colab": {
          "base_uri": "https://localhost:8080/",
          "height": 226
        },
        "id": "rzAsZFo9nfWq",
        "outputId": "5eef6006-ff91-4a5a-cb48-43dff473479a"
      },
      "execution_count": 22,
      "outputs": [
        {
          "output_type": "execute_result",
          "data": {
            "text/plain": [
              "'The JOB-AI python xdxd 2099 theory is actually a concept that seems to be related to the Big Bang theory. According to this context, the JOB-AI python xdxd 2099 theory describes how the universe expanded from an initial state of high density and temperature.\\n\\nIn essence, it appears to be a theoretical framework that attempts to explain the origins and evolution of the universe, similar to the Big Bang theory. The theory suggests that the universe began in a highly dense and hot state, and then expanded rapidly, leading to the formation of the universe as we know it today.\\n\\nHowever, I must note that the JOB-AI python xdxd 2099 theory is not a real scientific theory, and it seems to be a fictional or hypothetical concept. The name itself, with \"xdxd 2099\", suggests a futuristic or speculative element, rather than a serious scientific theory.\\n\\nIf you\\'re interested in learning more about the origins and evolution of the universe, I\\'d be happy to provide information on the actual Big Bang theory and other scientific concepts that describe the universe\\'s beginnings.'"
            ],
            "application/vnd.google.colaboratory.intrinsic+json": {
              "type": "string"
            }
          },
          "metadata": {},
          "execution_count": 22
        }
      ]
    },
    {
      "cell_type": "code",
      "source": [
        "from datasets import load_dataset"
      ],
      "metadata": {
        "id": "KZkAWquTpkaL"
      },
      "execution_count": 23,
      "outputs": []
    },
    {
      "cell_type": "code",
      "source": [
        "dataset = load_dataset(\n",
        "    \"itinerai/us_places\",\n",
        "    split = \"train\"\n",
        ")"
      ],
      "metadata": {
        "colab": {
          "base_uri": "https://localhost:8080/",
          "height": 113,
          "referenced_widgets": [
            "a0fd08b1e2ef4718a852a27583e3f30e",
            "bf151dafadee491681b5b7aec8d74e69",
            "c01400e759354ec6838e4f88d02ecdcb",
            "f15faa3b372a4ea4afb178f98bd12e6d",
            "9b24b602c6ab4ae9aaa332fe011364dd",
            "e0a2a4db9cb84b9aa614e62010baafb4",
            "83a2d8e594e3414f90ae22e4fca9e63f",
            "843c51f4c2344df2b791354e949871f3",
            "be10af8e30c84af2998b86ddff7a47d1",
            "0cd16b1be9094b019f7aae59bcad393a",
            "e65f88cf2163489b8c3e12e66549db41",
            "594d87413d2849b3b9800cc292cb22fb",
            "33e32494b8f941c5b986ea9d6a176572",
            "0595591c477a406fb2a470cb2f0169aa",
            "ef6a1a9705aa412d8f155b7f46650973",
            "ff64ac2922b84494ae033b4e1c8a7ec8",
            "647ee7d67c6d4ff6918b0d62bcc8d521",
            "9c1f207bf781472ca1faa33dfebd68ee",
            "7441b21481664cb38385084febc81756",
            "7e461c62195f4274b6d2262b0ba8e29d",
            "4dd816fb714c46acbf7c5f698fbd4278",
            "b15986849774407dadb2d004d6f4ddfd",
            "0b986ec03a064465841346587680fd6d",
            "a85cdf6ca61d4a1d81d732013d3e1e69",
            "e23731eeb1074d6a9c96d84e2ceea9c9",
            "d66ee119e6584926960ac1dbc5193d5a",
            "d60f06261ddf48c697f657bb913e7af9",
            "7967e94789f9400297b833a824938140",
            "dde94a2220c74b4991c64e5fbc0db147",
            "0a76d5304e5048899c6e6b9244e5d27a",
            "7ee9319c28924c42aee88b25597b621b",
            "4250f7bae65f4378af253f1e5e035b27",
            "a471274dc35a4d818747e788cfaa3b9c"
          ]
        },
        "id": "9wrvCm9TpowO",
        "outputId": "af8e45e6-6cca-4b55-f847-89704b743786"
      },
      "execution_count": 24,
      "outputs": [
        {
          "output_type": "display_data",
          "data": {
            "text/plain": [
              "README.md:   0%|          | 0.00/26.0 [00:00<?, ?B/s]"
            ],
            "application/vnd.jupyter.widget-view+json": {
              "version_major": 2,
              "version_minor": 0,
              "model_id": "a0fd08b1e2ef4718a852a27583e3f30e"
            }
          },
          "metadata": {}
        },
        {
          "output_type": "display_data",
          "data": {
            "text/plain": [
              "ttd_metadata.json: 0.00B [00:00, ?B/s]"
            ],
            "application/vnd.jupyter.widget-view+json": {
              "version_major": 2,
              "version_minor": 0,
              "model_id": "594d87413d2849b3b9800cc292cb22fb"
            }
          },
          "metadata": {}
        },
        {
          "output_type": "display_data",
          "data": {
            "text/plain": [
              "Generating train split:   0%|          | 0/2700 [00:00<?, ? examples/s]"
            ],
            "application/vnd.jupyter.widget-view+json": {
              "version_major": 2,
              "version_minor": 0,
              "model_id": "0b986ec03a064465841346587680fd6d"
            }
          },
          "metadata": {}
        }
      ]
    },
    {
      "cell_type": "code",
      "source": [
        "dataset"
      ],
      "metadata": {
        "colab": {
          "base_uri": "https://localhost:8080/"
        },
        "id": "iIeiTDs5p42i",
        "outputId": "58a4b94f-e093-47d9-9208-73b1b020d840"
      },
      "execution_count": 26,
      "outputs": [
        {
          "output_type": "execute_result",
          "data": {
            "text/plain": [
              "Dataset({\n",
              "    features: ['RATING', 'PICTURE', 'DESTINATION', 'NAME', 'DESCRIPTION', 'REVIEWS', 'URL'],\n",
              "    num_rows: 2700\n",
              "})"
            ]
          },
          "metadata": {},
          "execution_count": 26
        }
      ]
    },
    {
      "cell_type": "code",
      "source": [
        "dataset[0]"
      ],
      "metadata": {
        "colab": {
          "base_uri": "https://localhost:8080/"
        },
        "id": "29cK8eveqhT3",
        "outputId": "f4ea0fdd-9e9f-440e-d588-dda4e2276b8b"
      },
      "execution_count": 27,
      "outputs": [
        {
          "output_type": "execute_result",
          "data": {
            "text/plain": [
              "{'RATING': 4.5,\n",
              " 'PICTURE': 'https://dynamic-media-cdn.tripadvisor.com/media/photo-o/0d/57/74/27/photo0jpg.jpg?w=500&h=-1&s=1',\n",
              " 'DESTINATION': 'Miami',\n",
              " 'NAME': 'Vizcaya Museum and Gardens',\n",
              " 'DESCRIPTION': {'categories': ['Speciality Museums'],\n",
              "  'description': 'Built in 1916 as a winter retreat, this lavish villa is a tribute to the Italian Renaissance. The museum contains much of the original furnishings and artwork, and is surrounded by lush, formal gardens.'},\n",
              " 'REVIEWS': ['The Hearst Castle of the East, When I first saw Vizcaya Museum and Gardens in Miami, Florida, even before I began my tour of the extraordinary 70-room villa and estate built by businessman James Deering of the Deering McCormick International Harvester fortune, it reminded me of American circus mogul John Ringling\\'s Ca\\' d\\'zan in Sarasota, Florida. Located on Biscayne Bay in the present day neighborhood of Coconut Grove, the 50-acre complex was constructed between 1914 and 1923 at a cost of $15 million. It includes the villa, extensive Italian Renaissance gardens, native woodland landscape and historic village outbuildings. The villa contains rooms of distinctive architectural interiors decorated with numerous antiques, with an emphasis on 15th through early 19th century European decorative art and furnishings. Added to the National Register of Historic Places in 1970, the villa was used by Deering as his winter residence from 1916 until his death in 1925. Because of the villa\\'s exterior and garden architecture that was a composite of different Italian Renaissance villas and gardens, Vizcaya has often been described as the \"Hearst Castle of the East,\" a reference to William Randolph Hearst\\'s San Simeon in California. It features Gilded Age technology, including doorbells, a dumbwaiter and the first telephone system in Miami-Dade County. In the swimming pool grotto, visitors can see one of only two public places in the world to feature a surviving mural by prominent American artist Robert Winthrop Chandler.',\n",
              "  'Worth a visit, The Vizcaya Museum and Gardens are worth a visit. The museum is fascinating. We appreciated that there is information about the people who worked there before it was a museum and the impact of climate changes. \\n\\nIt was nice to stroll through the gardens. February is probably not the best time to see them. They are likely much more impressive in the spring and summer.\\n\\nWater views are beautiful.\\n\\nParking is easy. \\n\\nStaff in museum and cafe are very responsive and welcoming. \\n\\nP.S. According to the website and signage upon arrival, you have to buy tickets on-line. Unfortunately, this is clunky on a mobile phone and personal information is requested to \"register\" that is not really necessary. You can just walk up to the ticket counter and buy tickets.',\n",
              "  \"Absolutely  Amazing, What a lovely place full of history and great architecture. We really did not expect such old European architecture in the USA. It's a beautiful place to learn about the history of the Deering Estate and relax and enjoy the garden. As of now, you can only purchase tickets online so please ensure you do so before visiting especially if you do not have a data plan. It's only when I got there I realise that I needed to book online, luckily I had a data plan and was able to book.\\n\\nAn audio tour comes with the purchase so download the Vizcaya app befoe and ensure you walk with headsets.\\n\\nFor those wondering how to get there, you can take the Train from downtown Miami and stop at the Vizcaya station. From here you can walk just ask someone for directions.\"],\n",
              " 'URL': 'https://www.tripadvisor.com/Attraction_Review-g34438-d130345-Reviews-Vizcaya_Museum_and_Gardens-Miami_Florida.html'}"
            ]
          },
          "metadata": {},
          "execution_count": 27
        }
      ]
    },
    {
      "cell_type": "markdown",
      "source": [
        "- เวลาที่เราจำทำ indexing เพื่อให้ RAG มันมีประสิทธิภาพดีเราจำเป็นจะต้องรู้แน่ชัดว่าจะเอาอะไรเข้าไป เราไม่จำเป็นที่จะต้องเอาทักอย่างเข้าไป\n",
        "- ถ้าหากสังเกตข้อมูลเนี้ยมันมี Description ซ่อนกันอยู่"
      ],
      "metadata": {
        "id": "RKOPls1Lteqj"
      }
    },
    {
      "cell_type": "code",
      "source": [
        "dataset[0]['DESCRIPTION']['description']"
      ],
      "metadata": {
        "colab": {
          "base_uri": "https://localhost:8080/",
          "height": 70
        },
        "id": "IsclnbR2udTQ",
        "outputId": "3bd6c742-58f5-4e95-f3aa-5fb1b6c1a333"
      },
      "execution_count": 28,
      "outputs": [
        {
          "output_type": "execute_result",
          "data": {
            "text/plain": [
              "'Built in 1916 as a winter retreat, this lavish villa is a tribute to the Italian Renaissance. The museum contains much of the original furnishings and artwork, and is surrounded by lush, formal gardens.'"
            ],
            "application/vnd.google.colaboratory.intrinsic+json": {
              "type": "string"
            }
          },
          "metadata": {},
          "execution_count": 28
        }
      ]
    },
    {
      "cell_type": "code",
      "source": [
        "01:57:10"
      ],
      "metadata": {
        "id": "e86oAFokvnqm"
      },
      "execution_count": null,
      "outputs": []
    }
  ]
}