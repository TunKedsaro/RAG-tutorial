{
  "cells": [
    {
      "cell_type": "code",
      "execution_count": 50,
      "metadata": {
        "colab": {
          "base_uri": "https://localhost:8080/"
        },
        "collapsed": true,
        "id": "tlIzN6OKnDYo",
        "outputId": "88808029-de65-488a-b229-797c9c59e337"
      },
      "outputs": [
        {
          "name": "stdout",
          "output_type": "stream",
          "text": [
            "Requirement already satisfied: pip in /usr/local/lib/python3.12/dist-packages (25.2)\n",
            "Requirement already satisfied: langchain in /usr/local/lib/python3.12/dist-packages (0.3.27)\n",
            "Requirement already satisfied: openai in /usr/local/lib/python3.12/dist-packages (1.107.0)\n",
            "Requirement already satisfied: pinecone in /usr/local/lib/python3.12/dist-packages (7.3.0)\n",
            "Requirement already satisfied: langchain-core<1.0.0,>=0.3.72 in /usr/local/lib/python3.12/dist-packages (from langchain) (0.3.76)\n",
            "Requirement already satisfied: langchain-text-splitters<1.0.0,>=0.3.9 in /usr/local/lib/python3.12/dist-packages (from langchain) (0.3.11)\n",
            "Requirement already satisfied: langsmith>=0.1.17 in /usr/local/lib/python3.12/dist-packages (from langchain) (0.4.27)\n",
            "Requirement already satisfied: pydantic<3.0.0,>=2.7.4 in /usr/local/lib/python3.12/dist-packages (from langchain) (2.11.7)\n",
            "Requirement already satisfied: SQLAlchemy<3,>=1.4 in /usr/local/lib/python3.12/dist-packages (from langchain) (2.0.43)\n",
            "Requirement already satisfied: requests<3,>=2 in /usr/local/lib/python3.12/dist-packages (from langchain) (2.32.4)\n",
            "Requirement already satisfied: PyYAML>=5.3 in /usr/local/lib/python3.12/dist-packages (from langchain) (6.0.2)\n",
            "Requirement already satisfied: tenacity!=8.4.0,<10.0.0,>=8.1.0 in /usr/local/lib/python3.12/dist-packages (from langchain-core<1.0.0,>=0.3.72->langchain) (8.5.0)\n",
            "Requirement already satisfied: jsonpatch<2.0,>=1.33 in /usr/local/lib/python3.12/dist-packages (from langchain-core<1.0.0,>=0.3.72->langchain) (1.33)\n",
            "Requirement already satisfied: typing-extensions>=4.7 in /usr/local/lib/python3.12/dist-packages (from langchain-core<1.0.0,>=0.3.72->langchain) (4.15.0)\n",
            "Requirement already satisfied: packaging>=23.2 in /usr/local/lib/python3.12/dist-packages (from langchain-core<1.0.0,>=0.3.72->langchain) (24.2)\n",
            "Requirement already satisfied: jsonpointer>=1.9 in /usr/local/lib/python3.12/dist-packages (from jsonpatch<2.0,>=1.33->langchain-core<1.0.0,>=0.3.72->langchain) (3.0.0)\n",
            "Requirement already satisfied: annotated-types>=0.6.0 in /usr/local/lib/python3.12/dist-packages (from pydantic<3.0.0,>=2.7.4->langchain) (0.7.0)\n",
            "Requirement already satisfied: pydantic-core==2.33.2 in /usr/local/lib/python3.12/dist-packages (from pydantic<3.0.0,>=2.7.4->langchain) (2.33.2)\n",
            "Requirement already satisfied: typing-inspection>=0.4.0 in /usr/local/lib/python3.12/dist-packages (from pydantic<3.0.0,>=2.7.4->langchain) (0.4.1)\n",
            "Requirement already satisfied: charset_normalizer<4,>=2 in /usr/local/lib/python3.12/dist-packages (from requests<3,>=2->langchain) (3.4.3)\n",
            "Requirement already satisfied: idna<4,>=2.5 in /usr/local/lib/python3.12/dist-packages (from requests<3,>=2->langchain) (3.10)\n",
            "Requirement already satisfied: urllib3<3,>=1.21.1 in /usr/local/lib/python3.12/dist-packages (from requests<3,>=2->langchain) (2.5.0)\n",
            "Requirement already satisfied: certifi>=2017.4.17 in /usr/local/lib/python3.12/dist-packages (from requests<3,>=2->langchain) (2025.8.3)\n",
            "Requirement already satisfied: greenlet>=1 in /usr/local/lib/python3.12/dist-packages (from SQLAlchemy<3,>=1.4->langchain) (3.2.4)\n",
            "Requirement already satisfied: anyio<5,>=3.5.0 in /usr/local/lib/python3.12/dist-packages (from openai) (4.10.0)\n",
            "Requirement already satisfied: distro<2,>=1.7.0 in /usr/local/lib/python3.12/dist-packages (from openai) (1.9.0)\n",
            "Requirement already satisfied: httpx<1,>=0.23.0 in /usr/local/lib/python3.12/dist-packages (from openai) (0.28.1)\n",
            "Requirement already satisfied: jiter<1,>=0.4.0 in /usr/local/lib/python3.12/dist-packages (from openai) (0.10.0)\n",
            "Requirement already satisfied: sniffio in /usr/local/lib/python3.12/dist-packages (from openai) (1.3.1)\n",
            "Requirement already satisfied: tqdm>4 in /usr/local/lib/python3.12/dist-packages (from openai) (4.67.1)\n",
            "Requirement already satisfied: httpcore==1.* in /usr/local/lib/python3.12/dist-packages (from httpx<1,>=0.23.0->openai) (1.0.9)\n",
            "Requirement already satisfied: h11>=0.16 in /usr/local/lib/python3.12/dist-packages (from httpcore==1.*->httpx<1,>=0.23.0->openai) (0.16.0)\n",
            "Requirement already satisfied: pinecone-plugin-assistant<2.0.0,>=1.6.0 in /usr/local/lib/python3.12/dist-packages (from pinecone) (1.8.0)\n",
            "Requirement already satisfied: pinecone-plugin-interface<0.0.8,>=0.0.7 in /usr/local/lib/python3.12/dist-packages (from pinecone) (0.0.7)\n",
            "Requirement already satisfied: python-dateutil>=2.5.3 in /usr/local/lib/python3.12/dist-packages (from pinecone) (2.9.0.post0)\n",
            "Requirement already satisfied: orjson>=3.9.14 in /usr/local/lib/python3.12/dist-packages (from langsmith>=0.1.17->langchain) (3.11.3)\n",
            "Requirement already satisfied: requests-toolbelt>=1.0.0 in /usr/local/lib/python3.12/dist-packages (from langsmith>=0.1.17->langchain) (1.0.0)\n",
            "Requirement already satisfied: zstandard>=0.23.0 in /usr/local/lib/python3.12/dist-packages (from langsmith>=0.1.17->langchain) (0.24.0)\n",
            "Requirement already satisfied: six>=1.5 in /usr/local/lib/python3.12/dist-packages (from python-dateutil>=2.5.3->pinecone) (1.17.0)\n"
          ]
        }
      ],
      "source": [
        "!pip install --upgrade pip\n",
        "!pip install langchain openai pinecone\n"
      ]
    },
    {
      "cell_type": "code",
      "execution_count": 51,
      "metadata": {
        "colab": {
          "base_uri": "https://localhost:8080/"
        },
        "collapsed": true,
        "id": "7iZ0aw_k0SJT",
        "outputId": "0acd480f-8a2c-4dab-f2c0-e1bd3c16b5e1"
      },
      "outputs": [
        {
          "name": "stdout",
          "output_type": "stream",
          "text": [
            "Requirement already satisfied: datasets in /usr/local/lib/python3.12/dist-packages (4.0.0)\n",
            "Requirement already satisfied: filelock in /usr/local/lib/python3.12/dist-packages (from datasets) (3.19.1)\n",
            "Requirement already satisfied: numpy>=1.17 in /usr/local/lib/python3.12/dist-packages (from datasets) (2.0.2)\n",
            "Requirement already satisfied: pyarrow>=15.0.0 in /usr/local/lib/python3.12/dist-packages (from datasets) (18.1.0)\n",
            "Requirement already satisfied: dill<0.3.9,>=0.3.0 in /usr/local/lib/python3.12/dist-packages (from datasets) (0.3.8)\n",
            "Requirement already satisfied: pandas in /usr/local/lib/python3.12/dist-packages (from datasets) (2.2.2)\n",
            "Requirement already satisfied: requests>=2.32.2 in /usr/local/lib/python3.12/dist-packages (from datasets) (2.32.4)\n",
            "Requirement already satisfied: tqdm>=4.66.3 in /usr/local/lib/python3.12/dist-packages (from datasets) (4.67.1)\n",
            "Requirement already satisfied: xxhash in /usr/local/lib/python3.12/dist-packages (from datasets) (3.5.0)\n",
            "Requirement already satisfied: multiprocess<0.70.17 in /usr/local/lib/python3.12/dist-packages (from datasets) (0.70.16)\n",
            "Requirement already satisfied: fsspec<=2025.3.0,>=2023.1.0 in /usr/local/lib/python3.12/dist-packages (from fsspec[http]<=2025.3.0,>=2023.1.0->datasets) (2025.3.0)\n",
            "Requirement already satisfied: huggingface-hub>=0.24.0 in /usr/local/lib/python3.12/dist-packages (from datasets) (0.34.4)\n",
            "Requirement already satisfied: packaging in /usr/local/lib/python3.12/dist-packages (from datasets) (24.2)\n",
            "Requirement already satisfied: pyyaml>=5.1 in /usr/local/lib/python3.12/dist-packages (from datasets) (6.0.2)\n",
            "Requirement already satisfied: aiohttp!=4.0.0a0,!=4.0.0a1 in /usr/local/lib/python3.12/dist-packages (from fsspec[http]<=2025.3.0,>=2023.1.0->datasets) (3.12.15)\n",
            "Requirement already satisfied: aiohappyeyeballs>=2.5.0 in /usr/local/lib/python3.12/dist-packages (from aiohttp!=4.0.0a0,!=4.0.0a1->fsspec[http]<=2025.3.0,>=2023.1.0->datasets) (2.6.1)\n",
            "Requirement already satisfied: aiosignal>=1.4.0 in /usr/local/lib/python3.12/dist-packages (from aiohttp!=4.0.0a0,!=4.0.0a1->fsspec[http]<=2025.3.0,>=2023.1.0->datasets) (1.4.0)\n",
            "Requirement already satisfied: attrs>=17.3.0 in /usr/local/lib/python3.12/dist-packages (from aiohttp!=4.0.0a0,!=4.0.0a1->fsspec[http]<=2025.3.0,>=2023.1.0->datasets) (25.3.0)\n",
            "Requirement already satisfied: frozenlist>=1.1.1 in /usr/local/lib/python3.12/dist-packages (from aiohttp!=4.0.0a0,!=4.0.0a1->fsspec[http]<=2025.3.0,>=2023.1.0->datasets) (1.7.0)\n",
            "Requirement already satisfied: multidict<7.0,>=4.5 in /usr/local/lib/python3.12/dist-packages (from aiohttp!=4.0.0a0,!=4.0.0a1->fsspec[http]<=2025.3.0,>=2023.1.0->datasets) (6.6.4)\n",
            "Requirement already satisfied: propcache>=0.2.0 in /usr/local/lib/python3.12/dist-packages (from aiohttp!=4.0.0a0,!=4.0.0a1->fsspec[http]<=2025.3.0,>=2023.1.0->datasets) (0.3.2)\n",
            "Requirement already satisfied: yarl<2.0,>=1.17.0 in /usr/local/lib/python3.12/dist-packages (from aiohttp!=4.0.0a0,!=4.0.0a1->fsspec[http]<=2025.3.0,>=2023.1.0->datasets) (1.20.1)\n",
            "Requirement already satisfied: idna>=2.0 in /usr/local/lib/python3.12/dist-packages (from yarl<2.0,>=1.17.0->aiohttp!=4.0.0a0,!=4.0.0a1->fsspec[http]<=2025.3.0,>=2023.1.0->datasets) (3.10)\n",
            "Requirement already satisfied: typing-extensions>=4.2 in /usr/local/lib/python3.12/dist-packages (from aiosignal>=1.4.0->aiohttp!=4.0.0a0,!=4.0.0a1->fsspec[http]<=2025.3.0,>=2023.1.0->datasets) (4.15.0)\n",
            "Requirement already satisfied: hf-xet<2.0.0,>=1.1.3 in /usr/local/lib/python3.12/dist-packages (from huggingface-hub>=0.24.0->datasets) (1.1.9)\n",
            "Requirement already satisfied: charset_normalizer<4,>=2 in /usr/local/lib/python3.12/dist-packages (from requests>=2.32.2->datasets) (3.4.3)\n",
            "Requirement already satisfied: urllib3<3,>=1.21.1 in /usr/local/lib/python3.12/dist-packages (from requests>=2.32.2->datasets) (2.5.0)\n",
            "Requirement already satisfied: certifi>=2017.4.17 in /usr/local/lib/python3.12/dist-packages (from requests>=2.32.2->datasets) (2025.8.3)\n",
            "Requirement already satisfied: python-dateutil>=2.8.2 in /usr/local/lib/python3.12/dist-packages (from pandas->datasets) (2.9.0.post0)\n",
            "Requirement already satisfied: pytz>=2020.1 in /usr/local/lib/python3.12/dist-packages (from pandas->datasets) (2025.2)\n",
            "Requirement already satisfied: tzdata>=2022.7 in /usr/local/lib/python3.12/dist-packages (from pandas->datasets) (2025.2)\n",
            "Requirement already satisfied: six>=1.5 in /usr/local/lib/python3.12/dist-packages (from python-dateutil>=2.8.2->pandas->datasets) (1.17.0)\n"
          ]
        }
      ],
      "source": [
        "!pip install datasets"
      ]
    },
    {
      "cell_type": "code",
      "execution_count": 52,
      "metadata": {
        "id": "UZ66N4PM0dSh"
      },
      "outputs": [],
      "source": [
        "!pip install -qU \"langchain[groq]\""
      ]
    },
    {
      "cell_type": "code",
      "execution_count": 53,
      "metadata": {
        "id": "_KBVZ3BQ0l9V"
      },
      "outputs": [],
      "source": [
        "from google.colab import userdata\n",
        "groq_api = userdata.get('GROQ_API_USPLACES')\n",
        "# groq_api"
      ]
    },
    {
      "cell_type": "code",
      "execution_count": null,
      "metadata": {
        "id": "m3zyh-1U10Oc"
      },
      "outputs": [],
      "source": [
        "import os\n",
        "os.environ['GROQ_API_KEY'] = groq_api.strip()"
      ]
    },
    {
      "cell_type": "code",
      "execution_count": 55,
      "metadata": {
        "id": "yuVwQUbiB21e"
      },
      "outputs": [],
      "source": [
        "from langchain_core.prompts import ChatPromptTemplate\n",
        "from langchain_groq import ChatGroq\n",
        "from langchain.chat_models import init_chat_model"
      ]
    },
    {
      "cell_type": "code",
      "execution_count": null,
      "metadata": {
        "id": "D2XbhIXbCj-x"
      },
      "outputs": [],
      "source": [
        "chat = ChatGroq(\n",
        "    temperature = 0,\n",
        "    model_name = \"llama-3.3-70b-versatile\"\n",
        ")\n",
        "# เราสามารถเลือก Model ต่างๆได้ https://console.groq.com/docs/rate-limits\n",
        "# ถ้าหากว่าโมเดลที่เราใช้หมด Credit แล้วก็สามารถเปลี่ยนไปใช้เป็นตัวอื่นต่อได้"
      ]
    },
    {
      "cell_type": "code",
      "execution_count": null,
      "metadata": {
        "id": "B_rmKpRSDj4i"
      },
      "outputs": [],
      "source": [
        "# Test send Groq-API (llama3 model)\n",
        "system = \"You are helpful assistant\"\n",
        "human  = \"{text}\"\n",
        "prompt = ChatPromptTemplate.from_messages(\n",
        "    [\n",
        "        (\"system\",system),\n",
        "        (\"human\",human)\n",
        "    ]\n",
        ")\n",
        "chain = prompt | chat"
      ]
    },
    {
      "cell_type": "code",
      "execution_count": null,
      "metadata": {
        "colab": {
          "base_uri": "https://localhost:8080/"
        },
        "id": "WTjBeogLJato",
        "outputId": "0fc9bc43-b554-4ae4-bcec-8d9e53f453f3"
      },
      "outputs": [
        {
          "data": {
            "text/plain": [
              "AIMessage(content=\"Hello. It's nice to meet you. Is there something I can help you with or would you like to chat?\", additional_kwargs={}, response_metadata={'token_usage': {'completion_tokens': 25, 'prompt_tokens': 40, 'total_tokens': 65, 'completion_time': 0.055540035, 'prompt_time': 0.001914107, 'queue_time': 0.190653017, 'total_time': 0.057454142}, 'model_name': 'llama-3.3-70b-versatile', 'system_fingerprint': 'fp_9e1e8f8435', 'service_tier': 'on_demand', 'finish_reason': 'stop', 'logprobs': None}, id='run--0cce9b6e-a54a-40a6-9ffb-c1e4887d6828-0', usage_metadata={'input_tokens': 40, 'output_tokens': 25, 'total_tokens': 65})"
            ]
          },
          "execution_count": 58,
          "metadata": {},
          "output_type": "execute_result"
        }
      ],
      "source": [
        "chain.invoke(\n",
        "    {\"text\":\"Hello\"}\n",
        ")\n",
        "# So when we got response that mean we can connect with Groq "
      ]
    },
    {
      "cell_type": "code",
      "execution_count": 59,
      "metadata": {
        "id": "V6M_jGuAMkVW"
      },
      "outputs": [],
      "source": [
        "from langchain.schema import (\n",
        "    SystemMessage,\n",
        "    HumanMessage,\n",
        "    AIMessage\n",
        ")"
      ]
    },
    {
      "cell_type": "code",
      "execution_count": null,
      "metadata": {
        "id": "TxT5nl2FNEKv"
      },
      "outputs": [],
      "source": [
        "# System prompt\n",
        "messages = [\n",
        "    SystemMessage(content = \"You are a helpful assistant\"),\n",
        "    HumanMessage(content = \"Hi AI, how are you today?\"),\n",
        "    AIMessage(content = \"I'm great thank you. How can I help you?\"),\n",
        "    HumanMessage(content = \"I'd like to understand string theory\")\n",
        "]"
      ]
    },
    {
      "cell_type": "code",
      "execution_count": 61,
      "metadata": {
        "colab": {
          "base_uri": "https://localhost:8080/"
        },
        "id": "rPYgUGF9OVDm",
        "outputId": "69635205-1961-444d-ab8f-5258bf433bd5"
      },
      "outputs": [
        {
          "data": {
            "text/plain": [
              "AIMessage(content='String theory! That\\'s a fascinating and complex topic. I\\'ll try to break it down in a way that\\'s easy to understand.\\n\\n**What is string theory?**\\n\\nString theory is a theoretical framework in physics that attempts to reconcile two major areas of physics: general relativity (which describes gravity and the large-scale structure of the universe) and quantum mechanics (which describes the behavior of particles at the atomic and subatomic level).\\n\\nThe core idea of string theory is that the fundamental building blocks of the universe are not particles (like electrons and photons), but tiny, vibrating strings. These strings are thought to be the source of all particles and forces in the universe.\\n\\n**Key concepts:**\\n\\n1. **Strings**: The fundamental objects in string theory are one-dimensional strings, rather than point-like particles. These strings can vibrate at different frequencies, giving rise to various particles.\\n2. **Vibrational modes**: The vibrational modes of the strings correspond to different particles, such as electrons, photons, and quarks. Each vibrational mode has a specific energy and frequency.\\n3. **Extra dimensions**: String theory requires the existence of extra dimensions beyond the three spatial dimensions (length, width, and height) and one time dimension that we experience in everyday life. These extra dimensions are \"curled up\" or \"compactified\" so tightly that they\\'re not directly observable.\\n4. **Calabi-Yau manifolds**: The extra dimensions in string theory are often described using Calabi-Yau manifolds, which are complex geometric structures that help to determine the properties of the strings and the particles they give rise to.\\n\\n**Types of string theory:**\\n\\nThere are five consistent superstring theories, which are known as:\\n\\n1. Type I string theory\\n2. Type II string theory (with two subtypes: IIA and IIB)\\n3. Heterotic string theory (with two subtypes: SO(32) and E8×E8)\\n\\nThese different types of string theory attempt to describe the universe in different ways, but they all share the core idea of vibrating strings as the fundamental building blocks.\\n\\n**Challenges and criticisms:**\\n\\nWhile string theory is an active area of research, it\\'s not without its challenges and criticisms. Some of the issues include:\\n\\n1. **Lack of experimental evidence**: Despite decades of research, there is currently no direct experimental evidence to support string theory.\\n2. **Mathematical complexity**: String theory requires advanced mathematical tools and techniques, which can make it difficult to understand and work with.\\n3. **Multiverse problem**: String theory predicts the existence of a vast \"multiverse\" of possible universes, which raises questions about the nature of reality and the role of observation in physics.\\n\\n**Current research and future directions:**\\n\\nResearchers are actively exploring various aspects of string theory, including:\\n\\n1. **Phenomenology**: The study of how string theory can be used to describe and predict the behavior of particles and forces in the universe.\\n2. **Cosmology**: The application of string theory to the study of the universe\\'s origins and evolution.\\n3. **Black hole physics**: The use of string theory to understand the behavior of black holes and the information paradox.\\n\\nWhile string theory is still a developing area of research, it has already led to important advances in our understanding of physics and the universe. Who knows what future discoveries might await us?\\n\\nHow\\'s that for a starting point? Do you have any specific questions or topics you\\'d like to explore further?', additional_kwargs={}, response_metadata={'token_usage': {'completion_tokens': 712, 'prompt_tokens': 77, 'total_tokens': 789, 'completion_time': 1.50001119, 'prompt_time': 0.004098708, 'queue_time': 0.191308264, 'total_time': 1.5041098979999998}, 'model_name': 'llama-3.3-70b-versatile', 'system_fingerprint': 'fp_9e1e8f8435', 'service_tier': 'on_demand', 'finish_reason': 'stop', 'logprobs': None}, id='run--6935c768-aea3-40df-91d0-bee882ce3a6d-0', usage_metadata={'input_tokens': 77, 'output_tokens': 712, 'total_tokens': 789})"
            ]
          },
          "execution_count": 61,
          "metadata": {},
          "output_type": "execute_result"
        }
      ],
      "source": [
        "res = chat(messages)\n",
        "res"
      ]
    },
    {
      "cell_type": "code",
      "execution_count": 62,
      "metadata": {
        "colab": {
          "base_uri": "https://localhost:8080/"
        },
        "id": "pAIN4u-ZPjtK",
        "outputId": "d23a6936-5141-43cb-9c79-19d299d4188e"
      },
      "outputs": [
        {
          "name": "stdout",
          "output_type": "stream",
          "text": [
            "String theory! That's a fascinating and complex topic. I'll try to break it down in a way that's easy to understand.\n",
            "\n",
            "**What is string theory?**\n",
            "\n",
            "String theory is a theoretical framework in physics that attempts to reconcile two major areas of physics: general relativity (which describes gravity and the large-scale structure of the universe) and quantum mechanics (which describes the behavior of particles at the atomic and subatomic level).\n",
            "\n",
            "The core idea of string theory is that the fundamental building blocks of the universe are not particles (like electrons and photons), but tiny, vibrating strings. These strings are thought to be the source of all particles and forces in the universe.\n",
            "\n",
            "**Key concepts:**\n",
            "\n",
            "1. **Strings**: The fundamental objects in string theory are one-dimensional strings, rather than point-like particles. These strings can vibrate at different frequencies, giving rise to various particles.\n",
            "2. **Vibrational modes**: The vibrational modes of the strings correspond to different particles, such as electrons, photons, and quarks. Each vibrational mode has a specific energy and frequency.\n",
            "3. **Extra dimensions**: String theory requires the existence of extra dimensions beyond the three spatial dimensions (length, width, and height) and one time dimension that we experience in everyday life. These extra dimensions are \"curled up\" or \"compactified\" so tightly that they're not directly observable.\n",
            "4. **Calabi-Yau manifolds**: The extra dimensions in string theory are often described using Calabi-Yau manifolds, which are complex geometric structures that help to determine the properties of the strings and the particles they give rise to.\n",
            "\n",
            "**Types of string theory:**\n",
            "\n",
            "There are five consistent superstring theories, which are known as:\n",
            "\n",
            "1. Type I string theory\n",
            "2. Type II string theory (with two subtypes: IIA and IIB)\n",
            "3. Heterotic string theory (with two subtypes: SO(32) and E8×E8)\n",
            "\n",
            "These different types of string theory attempt to describe the universe in different ways, but they all share the core idea of vibrating strings as the fundamental building blocks.\n",
            "\n",
            "**Challenges and criticisms:**\n",
            "\n",
            "While string theory is an active area of research, it's not without its challenges and criticisms. Some of the issues include:\n",
            "\n",
            "1. **Lack of experimental evidence**: Despite decades of research, there is currently no direct experimental evidence to support string theory.\n",
            "2. **Mathematical complexity**: String theory requires advanced mathematical tools and techniques, which can make it difficult to understand and work with.\n",
            "3. **Multiverse problem**: String theory predicts the existence of a vast \"multiverse\" of possible universes, which raises questions about the nature of reality and the role of observation in physics.\n",
            "\n",
            "**Current research and future directions:**\n",
            "\n",
            "Researchers are actively exploring various aspects of string theory, including:\n",
            "\n",
            "1. **Phenomenology**: The study of how string theory can be used to describe and predict the behavior of particles and forces in the universe.\n",
            "2. **Cosmology**: The application of string theory to the study of the universe's origins and evolution.\n",
            "3. **Black hole physics**: The use of string theory to understand the behavior of black holes and the information paradox.\n",
            "\n",
            "While string theory is still a developing area of research, it has already led to important advances in our understanding of physics and the universe. Who knows what future discoveries might await us?\n",
            "\n",
            "How's that for a starting point? Do you have any specific questions or topics you'd like to explore further?\n"
          ]
        }
      ],
      "source": [
        "print(res.content)"
      ]
    },
    {
      "cell_type": "code",
      "execution_count": 63,
      "metadata": {
        "id": "QR_JA_PtQGY8"
      },
      "outputs": [],
      "source": [
        "messages.append(res)"
      ]
    },
    {
      "cell_type": "code",
      "execution_count": null,
      "metadata": {
        "colab": {
          "base_uri": "https://localhost:8080/"
        },
        "id": "HtWWd3qNQKHO",
        "outputId": "1b63ccd2-e598-4333-f30d-5ca9e12f9447"
      },
      "outputs": [
        {
          "name": "stdout",
          "output_type": "stream",
          "text": [
            "content='I couldn\\'t find any information on the \"JOB-AI python xdxd 2099theory\". It\\'s possible that this is a fictional or made-up concept, or it could be a topic that is not well-known or documented.\\n\\nHowever, I can try to break down the components of the phrase and see if I can provide any insights:\\n\\n* **JOB-AI**: This could refer to a job or task that involves artificial intelligence (AI). AI is a broad field that encompasses a range of techniques and technologies, including machine learning, natural language processing, and computer vision.\\n* **Python**: This is a popular programming language that is widely used in AI and machine learning applications. Python is known for its simplicity, flexibility, and ease of use, making it a popular choice for developers and researchers.\\n* **xdxd**: This appears to be a placeholder or a code snippet, but without more context, it\\'s difficult to determine its significance.\\n* **2099theory**: This could be a reference to a theoretical concept or a hypothetical idea that is being explored in the context of AI or machine learning. However, without more information, it\\'s difficult to determine what this theory might entail.\\n\\nIf you could provide more context or information about the JOB-AI python xdxd 2099theory, I may be able to help you better. Alternatively, if you\\'re looking for information on a specific topic related to AI or machine learning, I\\'d be happy to try and assist you.\\n\\nSome possible topics that might be related to the JOB-AI python xdxd 2099theory include:\\n\\n* **Job scheduling algorithms**: These are algorithms that are used to schedule and manage tasks or jobs in a computer system. AI and machine learning techniques can be used to optimize job scheduling and improve system performance.\\n* **AI-powered job matching**: This refers to the use of AI and machine learning techniques to match job candidates with job openings. This can involve analyzing resumes, job descriptions, and other data to identify the best candidates for a particular job.\\n* **Python libraries for AI and machine learning**: There are many Python libraries and frameworks that are used for AI and machine learning, including scikit-learn, TensorFlow, and PyTorch. These libraries provide a range of tools and techniques for building and deploying AI and machine learning models.\\n\\nIf any of these topics are of interest, I\\'d be happy to provide more information and insights.' additional_kwargs={} response_metadata={'token_usage': {'completion_tokens': 487, 'prompt_tokens': 814, 'total_tokens': 1301, 'completion_time': 1.113928661, 'prompt_time': 0.065346764, 'queue_time': 0.200928065, 'total_time': 1.179275425}, 'model_name': 'llama-3.3-70b-versatile', 'system_fingerprint': 'fp_9e1e8f8435', 'service_tier': 'on_demand', 'finish_reason': 'stop', 'logprobs': None} id='run--947d04ee-d282-449f-89d2-862bf9e7ba30-0' usage_metadata={'input_tokens': 814, 'output_tokens': 487, 'total_tokens': 1301}\n"
          ]
        }
      ],
      "source": [
        "prompt = HumanMessage(\n",
        "    content = \"Can you tell me about the JOB-AI python xdxd 2099theory\"\n",
        ")\n",
        "messages.append(prompt) \n",
        "res = chat(messages)\n",
        "print(res)"
      ]
    },
    {
      "cell_type": "code",
      "execution_count": 65,
      "metadata": {
        "colab": {
          "base_uri": "https://localhost:8080/"
        },
        "id": "gdf29az1Q2rf",
        "outputId": "9bf037df-6700-4829-eab3-801db1b4fa89"
      },
      "outputs": [
        {
          "name": "stdout",
          "output_type": "stream",
          "text": [
            "I couldn't find any information on the \"JOB-AI python xdxd 2099theory\". It's possible that this is a fictional or made-up concept, or it could be a topic that is not well-known or documented.\n",
            "\n",
            "However, I can try to break down the components of the phrase and see if I can provide any insights:\n",
            "\n",
            "* **JOB-AI**: This could refer to a job or task that involves artificial intelligence (AI). AI is a broad field that encompasses a range of techniques and technologies, including machine learning, natural language processing, and computer vision.\n",
            "* **Python**: This is a popular programming language that is widely used in AI and machine learning applications. Python is known for its simplicity, flexibility, and ease of use, making it a popular choice for developers and researchers.\n",
            "* **xdxd**: This appears to be a placeholder or a code snippet, but without more context, it's difficult to determine its significance.\n",
            "* **2099theory**: This could be a reference to a theoretical concept or a hypothetical idea that is being explored in the context of AI or machine learning. However, without more information, it's difficult to determine what this theory might entail.\n",
            "\n",
            "If you could provide more context or information about the JOB-AI python xdxd 2099theory, I may be able to help you better. Alternatively, if you're looking for information on a specific topic related to AI or machine learning, I'd be happy to try and assist you.\n",
            "\n",
            "Some possible topics that might be related to the JOB-AI python xdxd 2099theory include:\n",
            "\n",
            "* **Job scheduling algorithms**: These are algorithms that are used to schedule and manage tasks or jobs in a computer system. AI and machine learning techniques can be used to optimize job scheduling and improve system performance.\n",
            "* **AI-powered job matching**: This refers to the use of AI and machine learning techniques to match job candidates with job openings. This can involve analyzing resumes, job descriptions, and other data to identify the best candidates for a particular job.\n",
            "* **Python libraries for AI and machine learning**: There are many Python libraries and frameworks that are used for AI and machine learning, including scikit-learn, TensorFlow, and PyTorch. These libraries provide a range of tools and techniques for building and deploying AI and machine learning models.\n",
            "\n",
            "If any of these topics are of interest, I'd be happy to provide more information and insights.\n"
          ]
        }
      ],
      "source": [
        "print(res.content)"
      ]
    },
    {
      "cell_type": "code",
      "execution_count": null,
      "metadata": {
        "id": "RSfwO23nkvac"
      },
      "outputs": [],
      "source": [
        "llmchain_information = [\n",
        "    \"JOB-AI python xdxd 2099 theory is a bigbang theory how the universe expanded from an initial state of hight density and temperature.\"\n",
        "]\n",
        "source_knowlege = \"\\n\".join(llmchain_information)\n",
        "# If we want to add some data to LLM we can use command like `join`"
      ]
    },
    {
      "cell_type": "code",
      "execution_count": 67,
      "metadata": {
        "id": "jbF-rodKmm6m"
      },
      "outputs": [],
      "source": [
        "query = \"Can you tell me about the JOB-AI python xdxd 2099theory?\"\n",
        "augumented_prompt = f\"\"\"\n",
        "                Using the contexts below, answer the query.\n",
        "Contexts:\n",
        "{source_knowlege}\n",
        "Query: {query}\n",
        "\"\"\""
      ]
    },
    {
      "cell_type": "code",
      "execution_count": 68,
      "metadata": {
        "id": "WTmCqVrVnPEz"
      },
      "outputs": [],
      "source": [
        "prompt = HumanMessage(\n",
        "    content = augumented_prompt\n",
        ")\n",
        "messages.append(prompt)\n",
        "res = chat(messages)"
      ]
    },
    {
      "cell_type": "code",
      "execution_count": 69,
      "metadata": {
        "colab": {
          "base_uri": "https://localhost:8080/",
          "height": 174
        },
        "id": "rzAsZFo9nfWq",
        "outputId": "0457f788-f585-4e50-b8b8-72b7b8d5e976"
      },
      "outputs": [
        {
          "data": {
            "application/vnd.google.colaboratory.intrinsic+json": {
              "type": "string"
            },
            "text/plain": [
              "\"The JOB-AI python xdxd 2099 theory appears to be a humorous and fictional concept, but based on the provided context, it seems to be a playful rebranding of the Big Bang theory.\\n\\nAccording to the context, the JOB-AI python xdxd 2099 theory describes how the universe expanded from an initial state of high density and temperature. This is indeed a simplified summary of the Big Bang theory, which suggests that the universe began as an infinitely hot and dense point and expanded rapidly around 13.8 billion years ago.\\n\\nIn the context of the Big Bang theory, the universe's expansion is thought to have occurred in the following stages:\\n\\n1. **The initial singularity**: The universe began as a singularity, an infinitely hot and dense point.\\n2. **Expansion and cooling**: The universe expanded and cooled, leading to the formation of subatomic particles, atoms, and eventually the stars and galaxies we see today.\\n\\nWhile the JOB-AI python xdxd 2099 theory is not a real scientific concept, it's amusing to see the Big Bang theory reimagined in a fictional and humorous way. If you have any more questions about the actual Big Bang theory or cosmology, I'd be happy to help!\""
            ]
          },
          "execution_count": 69,
          "metadata": {},
          "output_type": "execute_result"
        }
      ],
      "source": [
        "res.content"
      ]
    },
    {
      "cell_type": "markdown",
      "metadata": {},
      "source": [
        "<hr>"
      ]
    },
    {
      "cell_type": "code",
      "execution_count": 70,
      "metadata": {
        "id": "KZkAWquTpkaL"
      },
      "outputs": [],
      "source": [
        "from datasets import load_dataset"
      ]
    },
    {
      "cell_type": "code",
      "execution_count": null,
      "metadata": {
        "colab": {
          "base_uri": "https://localhost:8080/"
        },
        "id": "iIeiTDs5p42i",
        "outputId": "a2a0cb18-05fc-48c8-b932-ebc998078577"
      },
      "outputs": [
        {
          "data": {
            "text/plain": [
              "Dataset({\n",
              "    features: ['RATING', 'PICTURE', 'DESTINATION', 'NAME', 'DESCRIPTION', 'REVIEWS', 'URL'],\n",
              "    num_rows: 2700\n",
              "})"
            ]
          },
          "execution_count": 72,
          "metadata": {},
          "output_type": "execute_result"
        }
      ],
      "source": [
        "# Load dataset\n",
        "dataset = load_dataset(\n",
        "    \"itinerai/us_places\",\n",
        "    split = \"train\"\n",
        ")\n",
        "dataset"
      ]
    },
    {
      "cell_type": "code",
      "execution_count": 73,
      "metadata": {
        "colab": {
          "base_uri": "https://localhost:8080/"
        },
        "id": "29cK8eveqhT3",
        "outputId": "60c528ea-499e-44e1-e34d-c4915933f898"
      },
      "outputs": [
        {
          "data": {
            "text/plain": [
              "{'RATING': 4.5,\n",
              " 'PICTURE': 'https://dynamic-media-cdn.tripadvisor.com/media/photo-o/0d/57/74/27/photo0jpg.jpg?w=500&h=-1&s=1',\n",
              " 'DESTINATION': 'Miami',\n",
              " 'NAME': 'Vizcaya Museum and Gardens',\n",
              " 'DESCRIPTION': {'categories': ['Speciality Museums'],\n",
              "  'description': 'Built in 1916 as a winter retreat, this lavish villa is a tribute to the Italian Renaissance. The museum contains much of the original furnishings and artwork, and is surrounded by lush, formal gardens.'},\n",
              " 'REVIEWS': ['The Hearst Castle of the East, When I first saw Vizcaya Museum and Gardens in Miami, Florida, even before I began my tour of the extraordinary 70-room villa and estate built by businessman James Deering of the Deering McCormick International Harvester fortune, it reminded me of American circus mogul John Ringling\\'s Ca\\' d\\'zan in Sarasota, Florida. Located on Biscayne Bay in the present day neighborhood of Coconut Grove, the 50-acre complex was constructed between 1914 and 1923 at a cost of $15 million. It includes the villa, extensive Italian Renaissance gardens, native woodland landscape and historic village outbuildings. The villa contains rooms of distinctive architectural interiors decorated with numerous antiques, with an emphasis on 15th through early 19th century European decorative art and furnishings. Added to the National Register of Historic Places in 1970, the villa was used by Deering as his winter residence from 1916 until his death in 1925. Because of the villa\\'s exterior and garden architecture that was a composite of different Italian Renaissance villas and gardens, Vizcaya has often been described as the \"Hearst Castle of the East,\" a reference to William Randolph Hearst\\'s San Simeon in California. It features Gilded Age technology, including doorbells, a dumbwaiter and the first telephone system in Miami-Dade County. In the swimming pool grotto, visitors can see one of only two public places in the world to feature a surviving mural by prominent American artist Robert Winthrop Chandler.',\n",
              "  'Worth a visit, The Vizcaya Museum and Gardens are worth a visit. The museum is fascinating. We appreciated that there is information about the people who worked there before it was a museum and the impact of climate changes. \\n\\nIt was nice to stroll through the gardens. February is probably not the best time to see them. They are likely much more impressive in the spring and summer.\\n\\nWater views are beautiful.\\n\\nParking is easy. \\n\\nStaff in museum and cafe are very responsive and welcoming. \\n\\nP.S. According to the website and signage upon arrival, you have to buy tickets on-line. Unfortunately, this is clunky on a mobile phone and personal information is requested to \"register\" that is not really necessary. You can just walk up to the ticket counter and buy tickets.',\n",
              "  \"Absolutely  Amazing, What a lovely place full of history and great architecture. We really did not expect such old European architecture in the USA. It's a beautiful place to learn about the history of the Deering Estate and relax and enjoy the garden. As of now, you can only purchase tickets online so please ensure you do so before visiting especially if you do not have a data plan. It's only when I got there I realise that I needed to book online, luckily I had a data plan and was able to book.\\n\\nAn audio tour comes with the purchase so download the Vizcaya app befoe and ensure you walk with headsets.\\n\\nFor those wondering how to get there, you can take the Train from downtown Miami and stop at the Vizcaya station. From here you can walk just ask someone for directions.\"],\n",
              " 'URL': 'https://www.tripadvisor.com/Attraction_Review-g34438-d130345-Reviews-Vizcaya_Museum_and_Gardens-Miami_Florida.html'}"
            ]
          },
          "execution_count": 73,
          "metadata": {},
          "output_type": "execute_result"
        }
      ],
      "source": [
        "dataset[0]"
      ]
    },
    {
      "cell_type": "markdown",
      "metadata": {
        "id": "RKOPls1Lteqj"
      },
      "source": [
        "- เวลาที่เราจำทำ indexing เพื่อให้ RAG มันมีประสิทธิภาพดีเราจำเป็นจะต้องรู้แน่ชัดว่าจะเอาอะไรเข้าไป เราไม่จำเป็นที่จะต้องเอาทักอย่างเข้าไป\n",
        "- ถ้าหากสังเกตข้อมูลเนี้ยมันมี Description ซ่อนกันอยู่"
      ]
    },
    {
      "cell_type": "code",
      "execution_count": null,
      "metadata": {
        "colab": {
          "base_uri": "https://localhost:8080/",
          "height": 53
        },
        "id": "IsclnbR2udTQ",
        "outputId": "5aa4ae5f-252b-4430-ddeb-1d4cdb798e28"
      },
      "outputs": [
        {
          "data": {
            "application/vnd.google.colaboratory.intrinsic+json": {
              "type": "string"
            },
            "text/plain": [
              "'Built in 1916 as a winter retreat, this lavish villa is a tribute to the Italian Renaissance. The museum contains much of the original furnishings and artwork, and is surrounded by lush, formal gardens.'"
            ]
          },
          "execution_count": 74,
          "metadata": {},
          "output_type": "execute_result"
        }
      ],
      "source": [
        "# Context ที่เราจะใช้\n",
        "dataset[0]['DESCRIPTION']['description']"
      ]
    },
    {
      "cell_type": "code",
      "execution_count": 75,
      "metadata": {
        "id": "5bTd-p2QZwII"
      },
      "outputs": [],
      "source": [
        "from google.colab import userdata\n",
        "pinecone_api = userdata.get('PINECONE_API_KEY')"
      ]
    },
    {
      "cell_type": "code",
      "execution_count": 76,
      "metadata": {
        "id": "m0kFGG-RZ_G4"
      },
      "outputs": [],
      "source": [
        "from pinecone import ServerlessSpec"
      ]
    },
    {
      "cell_type": "code",
      "execution_count": null,
      "metadata": {
        "id": "wzuPZY3nbtSn"
      },
      "outputs": [],
      "source": [
        "# สร้างเป็น Vector database สำหรับตัว default แล้วมันเป็น AWS Cloud\n",
        "spec = ServerlessSpec(\n",
        "    cloud = \"aws\",\n",
        "    region = \"us-east-1\"\n",
        ")"
      ]
    },
    {
      "cell_type": "code",
      "execution_count": 78,
      "metadata": {
        "colab": {
          "base_uri": "https://localhost:8080/"
        },
        "id": "V77TWA-ibtpV",
        "outputId": "ae8068c8-9b97-4503-ea64-5d581b0a1735"
      },
      "outputs": [
        {
          "name": "stdout",
          "output_type": "stream",
          "text": [
            "Requirement already satisfied: langchain-huggingface in /usr/local/lib/python3.12/dist-packages (0.3.1)\n",
            "Requirement already satisfied: langchain-core<1.0.0,>=0.3.70 in /usr/local/lib/python3.12/dist-packages (from langchain-huggingface) (0.3.76)\n",
            "Requirement already satisfied: tokenizers>=0.19.1 in /usr/local/lib/python3.12/dist-packages (from langchain-huggingface) (0.22.0)\n",
            "Requirement already satisfied: huggingface-hub>=0.33.4 in /usr/local/lib/python3.12/dist-packages (from langchain-huggingface) (0.34.4)\n",
            "Requirement already satisfied: langsmith>=0.3.45 in /usr/local/lib/python3.12/dist-packages (from langchain-core<1.0.0,>=0.3.70->langchain-huggingface) (0.4.27)\n",
            "Requirement already satisfied: tenacity!=8.4.0,<10.0.0,>=8.1.0 in /usr/local/lib/python3.12/dist-packages (from langchain-core<1.0.0,>=0.3.70->langchain-huggingface) (8.5.0)\n",
            "Requirement already satisfied: jsonpatch<2.0,>=1.33 in /usr/local/lib/python3.12/dist-packages (from langchain-core<1.0.0,>=0.3.70->langchain-huggingface) (1.33)\n",
            "Requirement already satisfied: PyYAML>=5.3 in /usr/local/lib/python3.12/dist-packages (from langchain-core<1.0.0,>=0.3.70->langchain-huggingface) (6.0.2)\n",
            "Requirement already satisfied: typing-extensions>=4.7 in /usr/local/lib/python3.12/dist-packages (from langchain-core<1.0.0,>=0.3.70->langchain-huggingface) (4.15.0)\n",
            "Requirement already satisfied: packaging>=23.2 in /usr/local/lib/python3.12/dist-packages (from langchain-core<1.0.0,>=0.3.70->langchain-huggingface) (24.2)\n",
            "Requirement already satisfied: pydantic>=2.7.4 in /usr/local/lib/python3.12/dist-packages (from langchain-core<1.0.0,>=0.3.70->langchain-huggingface) (2.11.7)\n",
            "Requirement already satisfied: jsonpointer>=1.9 in /usr/local/lib/python3.12/dist-packages (from jsonpatch<2.0,>=1.33->langchain-core<1.0.0,>=0.3.70->langchain-huggingface) (3.0.0)\n",
            "Requirement already satisfied: filelock in /usr/local/lib/python3.12/dist-packages (from huggingface-hub>=0.33.4->langchain-huggingface) (3.19.1)\n",
            "Requirement already satisfied: fsspec>=2023.5.0 in /usr/local/lib/python3.12/dist-packages (from huggingface-hub>=0.33.4->langchain-huggingface) (2025.3.0)\n",
            "Requirement already satisfied: requests in /usr/local/lib/python3.12/dist-packages (from huggingface-hub>=0.33.4->langchain-huggingface) (2.32.4)\n",
            "Requirement already satisfied: tqdm>=4.42.1 in /usr/local/lib/python3.12/dist-packages (from huggingface-hub>=0.33.4->langchain-huggingface) (4.67.1)\n",
            "Requirement already satisfied: hf-xet<2.0.0,>=1.1.3 in /usr/local/lib/python3.12/dist-packages (from huggingface-hub>=0.33.4->langchain-huggingface) (1.1.9)\n",
            "Requirement already satisfied: httpx<1,>=0.23.0 in /usr/local/lib/python3.12/dist-packages (from langsmith>=0.3.45->langchain-core<1.0.0,>=0.3.70->langchain-huggingface) (0.28.1)\n",
            "Requirement already satisfied: orjson>=3.9.14 in /usr/local/lib/python3.12/dist-packages (from langsmith>=0.3.45->langchain-core<1.0.0,>=0.3.70->langchain-huggingface) (3.11.3)\n",
            "Requirement already satisfied: requests-toolbelt>=1.0.0 in /usr/local/lib/python3.12/dist-packages (from langsmith>=0.3.45->langchain-core<1.0.0,>=0.3.70->langchain-huggingface) (1.0.0)\n",
            "Requirement already satisfied: zstandard>=0.23.0 in /usr/local/lib/python3.12/dist-packages (from langsmith>=0.3.45->langchain-core<1.0.0,>=0.3.70->langchain-huggingface) (0.24.0)\n",
            "Requirement already satisfied: anyio in /usr/local/lib/python3.12/dist-packages (from httpx<1,>=0.23.0->langsmith>=0.3.45->langchain-core<1.0.0,>=0.3.70->langchain-huggingface) (4.10.0)\n",
            "Requirement already satisfied: certifi in /usr/local/lib/python3.12/dist-packages (from httpx<1,>=0.23.0->langsmith>=0.3.45->langchain-core<1.0.0,>=0.3.70->langchain-huggingface) (2025.8.3)\n",
            "Requirement already satisfied: httpcore==1.* in /usr/local/lib/python3.12/dist-packages (from httpx<1,>=0.23.0->langsmith>=0.3.45->langchain-core<1.0.0,>=0.3.70->langchain-huggingface) (1.0.9)\n",
            "Requirement already satisfied: idna in /usr/local/lib/python3.12/dist-packages (from httpx<1,>=0.23.0->langsmith>=0.3.45->langchain-core<1.0.0,>=0.3.70->langchain-huggingface) (3.10)\n",
            "Requirement already satisfied: h11>=0.16 in /usr/local/lib/python3.12/dist-packages (from httpcore==1.*->httpx<1,>=0.23.0->langsmith>=0.3.45->langchain-core<1.0.0,>=0.3.70->langchain-huggingface) (0.16.0)\n",
            "Requirement already satisfied: annotated-types>=0.6.0 in /usr/local/lib/python3.12/dist-packages (from pydantic>=2.7.4->langchain-core<1.0.0,>=0.3.70->langchain-huggingface) (0.7.0)\n",
            "Requirement already satisfied: pydantic-core==2.33.2 in /usr/local/lib/python3.12/dist-packages (from pydantic>=2.7.4->langchain-core<1.0.0,>=0.3.70->langchain-huggingface) (2.33.2)\n",
            "Requirement already satisfied: typing-inspection>=0.4.0 in /usr/local/lib/python3.12/dist-packages (from pydantic>=2.7.4->langchain-core<1.0.0,>=0.3.70->langchain-huggingface) (0.4.1)\n",
            "Requirement already satisfied: charset_normalizer<4,>=2 in /usr/local/lib/python3.12/dist-packages (from requests->huggingface-hub>=0.33.4->langchain-huggingface) (3.4.3)\n",
            "Requirement already satisfied: urllib3<3,>=1.21.1 in /usr/local/lib/python3.12/dist-packages (from requests->huggingface-hub>=0.33.4->langchain-huggingface) (2.5.0)\n",
            "Requirement already satisfied: sniffio>=1.1 in /usr/local/lib/python3.12/dist-packages (from anyio->httpx<1,>=0.23.0->langsmith>=0.3.45->langchain-core<1.0.0,>=0.3.70->langchain-huggingface) (1.3.1)\n"
          ]
        }
      ],
      "source": [
        "!pip install langchain-huggingface"
      ]
    },
    {
      "cell_type": "markdown",
      "metadata": {
        "id": "PWJCvsuNcVxk"
      },
      "source": [
        "- huggling face มีตัวที่เราสามารถใช้ในการทำ Embedding ได้เยอะมาก\n",
        "- Embidding ของ OpenAI ดีแต่ Cost แพง\n",
        "- ตอนที่ทำ Embedding เราจะต้องเช็ค Dimention ของการทำให้ กับ Databse ให้ดีๆ ไม่อย่างนั้นแล้วมันจะใช้ด้วยกันไม่ได้"
      ]
    },
    {
      "cell_type": "code",
      "execution_count": null,
      "metadata": {
        "id": "WJOo66xGbtzk"
      },
      "outputs": [],
      "source": [
        "from langchain_huggingface import HuggingFaceEmbeddings\n",
        "# load embedding\n",
        "embeddings = HuggingFaceEmbeddings(model_name = \"sentence-transformers/all-mpnet-base-v2\")\n",
        "embed_model = embeddings"
      ]
    },
    {
      "cell_type": "code",
      "execution_count": 80,
      "metadata": {
        "colab": {
          "base_uri": "https://localhost:8080/"
        },
        "id": "HhdnzeRsbuBF",
        "outputId": "e9fbe39c-bb30-4c64-ec34-002cf783fc7a"
      },
      "outputs": [
        {
          "data": {
            "text/plain": [
              "(2, 768)"
            ]
          },
          "execution_count": 80,
          "metadata": {},
          "output_type": "execute_result"
        }
      ],
      "source": [
        "texts = [\n",
        "    'this is the first chunk of text',\n",
        "    'then another second chunk of text is here'\n",
        "]\n",
        "res = embed_model.embed_documents(texts)\n",
        "len(res),len(res[0])"
      ]
    },
    {
      "cell_type": "markdown",
      "metadata": {
        "id": "Q2lS4WeOeXFt"
      },
      "source": [
        "- อันนี้คือหน้าตาของ res"
      ]
    },
    {
      "cell_type": "code",
      "execution_count": 81,
      "metadata": {
        "colab": {
          "base_uri": "https://localhost:8080/"
        },
        "id": "J4IXF1PVbuXf",
        "outputId": "14c7911a-a39f-44e3-c907-80f5f5f85fca"
      },
      "outputs": [
        {
          "name": "stdout",
          "output_type": "stream",
          "text": [
            "[[0.029332498088479042, -0.07257118821144104, -0.009480789303779602, 0.05665912479162216, -0.030785875394940376, 0.05276385694742203, -0.014731492847204208, 0.045453235507011414, -0.042854759842157364, -0.029372259974479675, 0.07532376050949097, -0.019372135400772095, 0.05889400839805603, 0.017502179369330406, -0.013963654637336731, -0.07624389231204987, 0.014086577109992504, 0.04357980191707611, 0.02379731461405754, 0.014782397076487541, 0.0007710226345807314, 0.024369845166802406, -0.0008898050291463733, 0.007719341665506363, 0.03611069917678833, -0.00799168087542057, -0.02602424845099449, 0.02963504195213318, -0.004796313121914864, -0.0731772631406784, -0.013674921356141567, 0.005041286814957857, 0.008380049839615822, -0.07347410172224045, 2.1477560494531645e-06, -0.007493501994758844, -0.011720838025212288, 0.0005514789372682571, -0.020199250429868698, 0.01355812232941389, 0.011640847660601139, 0.02518971636891365, -0.01620784029364586, 0.009631706401705742, -0.010465513914823532, -0.011682207696139812, 0.023040996864438057, 0.06287568807601929, -0.02206866629421711, 0.05786724016070366, 0.009038242511451244, -0.057965219020843506, -0.004311512224376202, -0.009786906652152538, 0.12935663759708405, -0.017378365620970726, -0.0022035869769752026, -0.03750190883874893, 0.026318512856960297, 0.07132936269044876, 0.023516813293099403, 0.020838206633925438, -0.03403407335281372, 0.023618513718247414, 0.009758859872817993, 0.0206734798848629, 0.024967322126030922, -0.03924233838915825, 0.022938232868909836, 0.0032183199655264616, 0.07575298845767975, -0.004678519908338785, 0.03329678624868393, 0.030537698417901993, -0.016006246209144592, -0.05318650230765343, -0.021218780428171158, 0.098198801279068, -0.05159313231706619, 0.003622011747211218, -0.0029277033172547817, 0.028939876705408096, 0.0028217488434165716, 0.01017382089048624, -0.05865168944001198, 0.04834546148777008, -0.057410828769207, -0.014554725959897041, -0.02965826354920864, -0.0250118225812912, 0.017696727067232132, -0.022798355668783188, -0.02049221657216549, 0.017967645078897476, 0.0872533768415451, 0.016262635588645935, -0.06100078299641609, -0.08826329559087753, -0.029196182265877724, -0.022782640531659126, -0.06310351192951202, 0.006006567273288965, 0.008802786469459534, 0.01772870123386383, -0.021446947008371353, -0.023696517571806908, 0.042887598276138306, -0.006386620923876762, -0.0609847716987133, 0.05894675850868225, 0.01739400252699852, -0.033665772527456284, -0.04462466761469841, 0.011393577791750431, -0.028575459495186806, 0.01416503731161356, 0.011985360644757748, -0.03736406937241554, 0.046110253781080246, 0.03490918129682541, -0.011858602985739708, -0.015539504587650299, 0.02121489867568016, 0.026004228740930557, -0.027526356279850006, -0.006431903224438429, 0.009546183049678802, -0.017912928014993668, 0.01566542685031891, -0.026691913604736328, -0.021319882944226265, 0.05299610272049904, 0.018929343670606613, 0.007621609140187502, -0.028130292892456055, 0.0005517684039659798, -0.04715488851070404, -0.04945971444249153, -0.031000740826129913, -0.012039681896567345, -0.003858039854094386, -0.019893266260623932, 0.015583488158881664, -0.0035953770857304335, -0.01030296552926302, 0.04510151222348213, 0.01852583885192871, 0.025220368057489395, 0.03317967429757118, 0.05309121683239937, -0.08084387332201004, 0.05280643329024315, -0.0663745328783989, -0.015981540083885193, -0.019775137305259705, -0.01176133006811142, 0.08931868523359299, -0.047660503536462784, -0.017285529524087906, 0.01521478220820427, 0.039398904889822006, 0.056740593165159225, -0.041378676891326904, -0.002751821419224143, -0.0051470049656927586, 0.03322052210569382, -0.05995793640613556, -0.026711363345384598, -0.034930333495140076, -0.023205460980534554, -0.00932710524648428, 0.007116456050425768, 0.009957895614206791, 0.08238967508077621, 0.018115989863872528, 0.14694002270698547, -0.005269615910947323, -0.0024283058010041714, -0.04854622110724449, 0.07584228366613388, 0.006621367763727903, -0.01839178241789341, -0.01699548400938511, -0.013347519561648369, -0.027682846412062645, 0.027368733659386635, 0.04458974674344063, -0.018114401027560234, 0.007665800862014294, -0.0012072676327079535, -0.04009685292840004, 0.016775110736489296, -0.05330965295433998, 0.006702855695039034, 0.004154573660343885, 0.014033414423465729, -0.0350881926715374, -0.01484856940805912, 0.010642588138580322, -0.021122140809893608, 0.05550685524940491, 0.009085129015147686, 0.0522070974111557, 0.03660411387681961, -0.012767474167048931, -0.05743786692619324, 0.07377521693706512, -0.021778173744678497, 0.04662863165140152, 0.01426332164555788, -0.02967607043683529, 0.05315127968788147, -0.025476153939962387, -0.004264421295374632, -0.027129381895065308, 0.006246129050850868, 0.013904504477977753, -0.02811622805893421, -0.08624756336212158, 0.013820375315845013, 0.0043918476440012455, 0.08633758127689362, -0.018993914127349854, 0.021670544520020485, 0.026674095541238785, -0.03169393539428711, -0.03372501581907272, -0.011983748525381088, -0.010438495315611362, -0.0052223787643015385, -0.051314715296030045, 0.012588215060532093, 0.01775127463042736, 0.04778308421373367, -0.011302357539534569, 0.06474979221820831, -0.0074058836326003075, -0.10893180966377258, -0.024058621376752853, -0.06141267716884613, 0.011046742089092731, -0.01477719098329544, 0.019826363772153854, -0.0032100253738462925, -0.030172772705554962, -0.03535168617963791, -0.01634654402732849, 0.0064289988949894905, 0.01970294676721096, -0.010420199483633041, -0.014894547872245312, -0.025756919756531715, 0.00934840552508831, -0.014137189835309982, 0.03338395059108734, -0.0020784582011401653, 0.021472079679369926, 0.02151680737733841, -0.012887475080788136, -0.022608380764722824, 0.035437364131212234, -0.06015096232295036, -0.05511462688446045, -0.010984748601913452, -0.014180383644998074, 0.02125048078596592, -0.01616622880101204, -0.048879820853471756, -0.031311191618442535, -0.012147153727710247, -0.020364856347441673, 0.058599404990673065, -0.00011696265573846176, 0.00541198393329978, 0.002792677842080593, -0.01733502745628357, -0.05439436435699463, 0.01375528797507286, -0.005188092589378357, 0.0187483262270689, 0.03589700162410736, 0.03840124234557152, -0.01589810475707054, -0.00820731371641159, -0.007992253638803959, 0.0115966172888875, 0.0271470844745636, -0.11475367844104767, -0.05592673271894455, 0.03067850135266781, 0.03219708427786827, -0.01483436580747366, 0.007594795431941748, -0.07403537631034851, 0.014772698283195496, -0.019011054188013077, 0.035899534821510315, 0.06064378470182419, 0.043450746685266495, 0.10656806826591492, -0.02924632839858532, -0.004777423106133938, 0.043261438608169556, -0.017951250076293945, -0.0030066173058003187, 0.10553579777479172, 0.011228419840335846, -0.11224061250686646, 0.01627875305712223, 0.05079198628664017, 0.04915609955787659, 0.0321754552423954, 0.008940791711211205, 0.005399822723120451, -0.05078127980232239, 0.05433947592973709, -0.027622893452644348, -0.05119822174310684, -0.05067688599228859, 0.03880886733531952, -0.015533593483269215, 0.019649488851428032, -0.02912548929452896, 0.00989515334367752, -0.007049703970551491, -0.027732402086257935, -0.011950467713177204, 0.010243487544357777, 0.0019864134956151247, 0.03147433325648308, 0.01185845397412777, 0.0027122213505208492, -0.06049511954188347, 0.026298852637410164, 0.023022012785077095, 0.015669647604227066, -0.023316670209169388, 0.024459358304739, 0.004568096250295639, 0.005835819989442825, -0.03229065611958504, -0.01563253626227379, 0.0562010332942009, -0.0858384519815445, -0.03437824174761772, 0.0019110370194539428, 0.06955239921808243, -0.024019284173846245, -0.07668589055538177, -0.03957642242312431, 0.0518711693584919, 0.036957450211048126, -0.03162149339914322, 0.003716741455718875, -0.06873388588428497, 0.012583435513079166, -0.02120848186314106, -0.0019411161774769425, 0.01026488933712244, -0.07537262886762619, 0.01840239390730858, 0.006525143515318632, 0.010496254079043865, 0.05860427767038345, 0.0407409742474556, 0.007712818682193756, 0.023081371560692787, 0.005634258966892958, -0.034447383135557175, 0.03355984017252922, 0.007318258285522461, 0.03744744881987572, 0.013496656902134418, 0.04356107488274574, -0.00730323838070035, 0.02895641326904297, -0.006224443670362234, 0.028162337839603424, -0.05538894981145859, 0.0025822969619184732, 0.0033158590085804462, -0.05058123916387558, -0.006070602685213089, 0.013654292561113834, 0.01212240383028984, 0.016240021213889122, -0.036203619092702866, -0.039433933794498444, 0.018006183207035065, -0.011949647217988968, 0.018896808847784996, -0.09829816222190857, 0.008233435451984406, 0.009027794934809208, -0.0236640814691782, 0.0199351254850626, -0.04604245722293854, -0.001689138007350266, -0.03016551397740841, 0.009196262806653976, 0.016393952071666718, 0.00023845302348490804, 0.09005165100097656, -0.014478527009487152, -0.013243886642158031, 0.019505219534039497, -0.01669992320239544, 0.00012583368516061455, -0.03345869854092598, 0.06367743760347366, 0.061526231467723846, -0.06392353773117065, 0.057908087968826294, 0.023835524916648865, 0.057870544493198395, -0.013378368690609932, -0.0162969920784235, -0.014033767394721508, -0.014771024696528912, 0.0032298050355166197, -0.06633654981851578, 0.01944308914244175, -0.0021090384107083082, -0.003283271100372076, 0.027694452553987503, 0.002337781246751547, 0.09089088439941406, 0.0011159265413880348, 0.0019839575979858637, 0.005512650590389967, -0.013590635731816292, -0.04403751343488693, -0.05350259691476822, 0.03150942549109459, -0.0447392463684082, -0.05361843854188919, 0.0027077682316303253, 0.014504894614219666, 0.00032397868926636875, -0.04631819203495979, -0.013564597815275192, -0.0336141437292099, 0.07735956460237503, 0.014535559341311455, 0.00966480653733015, 0.07545224577188492, -0.0010213764617219567, 0.0044164895080029964, -0.03928840905427933, 0.014947189949452877, -0.0020732630509883165, -0.05853545293211937, -0.03571426868438721, -0.03297858685255051, -0.0053222947753965855, -0.009827219881117344, -0.004006263334304094, -0.03433686122298241, 0.0008267118246294558, 0.01343410275876522, -0.00520225940272212, 0.03987686708569527, -0.08475596457719803, -0.011724048294126987, -0.060816679149866104, 0.04031384736299515, 0.0037662084214389324, -0.02058510296046734, 0.021594492718577385, -0.02985316701233387, 0.005924760829657316, -0.003433084348216653, -0.01124825794249773, 0.033749353140592575, 0.025571484118700027, -0.011522374115884304, -0.07961178570985794, -0.031933169811964035, 0.030620865523815155, -0.03958221524953842, 0.01660652458667755, 0.0616130568087101, 0.0005569703644141555, -0.030097613111138344, -0.014673721976578236, -0.03488555923104286, 0.009123981930315495, -0.0029850522987544537, 0.01460555475205183, 0.05040612444281578, 0.0024672187864780426, -0.03873395919799805, -0.013309428468346596, 0.08333064615726471, -0.008171623572707176, 0.01963634602725506, -0.01790405809879303, -0.02660558559000492, -0.010333319194614887, 0.008736103773117065, 0.015125312842428684, 0.005931022576987743, -0.002639306942000985, 0.021520722657442093, -0.04211249202489853, -0.0013370695523917675, 0.04308289662003517, 0.015728214755654335, 0.019757768139243126, -0.03487807512283325, 0.006655792705714703, 0.013735800050199032, -0.04839025437831879, 2.029225288424641e-05, -0.0029229086358100176, -0.05046472325921059, -0.03699257969856262, -0.09013969451189041, 0.053952232003211975, 0.035697173327207565, 0.017835110425949097, -0.024489492177963257, 0.0569196417927742, -0.024567287415266037, -0.05648089200258255, 0.017209412530064583, 0.014785396866500378, -0.0037397961132228374, -0.012767007574439049, 0.03139185532927513, -0.006465426646173, -0.014588410966098309, 0.02535746432840824, 0.001565667218528688, -0.028557121753692627, -0.027836205437779427, 0.04980064183473587, 0.02645757794380188, -0.006243962794542313, -0.011024493724107742, 0.0401725098490715, 0.009468930773437023, 0.028939366340637207, 0.024639608338475227, 0.05003919452428818, 0.02271532639861107, -0.009871290996670723, -0.025264937430620193, 0.0033234460279345512, -0.042311105877161026, -0.006291139405220747, 0.03052755631506443, 0.005273949354887009, 0.01704566180706024, 0.04695029556751251, -6.70060653048696e-33, -0.007822465151548386, -0.07411091029644012, -0.03767874464392662, 0.08612046390771866, -0.01793111301958561, -0.00719861825928092, -0.014747233130037785, 0.04114305227994919, -0.017995405942201614, 0.005818573292344809, -0.025525320321321487, -0.0019944938831031322, 0.032009392976760864, 0.025867968797683716, -0.05326005816459656, -0.0007987701101228595, 0.018659813329577446, 0.0005565329338423908, -0.0026316300500184298, -0.021792294457554817, 0.0470682717859745, 0.011380515992641449, 0.04797583818435669, 0.04735010117292404, 0.04126739501953125, -0.03703855723142624, -0.03850480169057846, -0.017017075791954994, 0.019788969308137894, -0.04948414862155914, -0.019370650872588158, -0.062083449214696884, 0.0166626013815403, 0.002183315809816122, -0.01634986698627472, 0.06273153424263, -0.012354949489235878, -0.039868541061878204, 0.0030501559376716614, 0.02746882289648056, -0.048519909381866455, 0.003731807693839073, 0.015522201545536518, -0.020970894023776054, 0.01775912567973137, -0.028633544221520424, 0.037850521504879, -0.03779121860861778, -0.0058461399748921394, -0.010719766840338707, -0.05163121223449707, 0.031245235353708267, -0.010402687825262547, 0.03171937167644501, 0.011225706897675991, 0.06599436700344086, 0.029185807332396507, 0.0023308387026190758, -0.05817802995443344, -0.0047623468562960625, 0.058014094829559326, 0.08514398336410522, -0.04865660518407822, -0.006148835644125938, -0.013050753623247147, 0.04107265919446945, 0.011226914823055267, 0.04096668213605881, -0.0444028303027153, -0.007355173118412495, 0.001421203138306737, -0.006119243334978819, -0.03349873423576355, 0.012294226326048374, 0.020995279774069786, -0.03519582003355026, -0.04986446350812912, 0.029596403241157532, 0.00916335079818964, 0.0015763714909553528, 0.020834071561694145, -0.025462543591856956, -0.004601119086146355, -0.03253579139709473, -0.031487345695495605, -0.00962490402162075, -0.003114250721409917, 0.020292576402425766, 0.0009595700539648533, -0.001697372063063085, 0.018574632704257965, 0.060521338135004044, 0.0010638950625434518, -0.022121530026197433, -0.0020436588674783707, -0.01424508448690176, -0.011734397150576115, 0.014208714477717876, -0.06224703788757324, -0.032253630459308624, -0.10336039215326309, -0.04406019672751427, -0.01435331255197525, 0.00035950541496276855, 0.004732429515570402, 0.0019390161614865065, 0.01938466541469097, 0.0033277070615440607, -0.09267841279506683, -0.011142684146761894, 0.013540712185204029, 0.0009121192269958556, 0.043933331966400146, 0.06084546819329262, -0.010561229661107063, -0.0012119539314880967, 0.022561529651284218, 0.07373633980751038, -0.023332102224230766, -0.06764180213212967, 0.036742500960826874, -0.011984230950474739, -0.019724952057003975, -0.0007514070603065193, -0.03565132990479469, 0.04102452099323273, -0.014232122339308262, 0.023277809843420982, 0.021886350587010384, -0.0020511657930910587, 0.014204807579517365, 0.027229536324739456, 2.6555795784588554e-07, 0.031023021787405014, 0.015079554170370102, 0.06046959385275841, -0.007772295270115137, -0.0012501678429543972, -0.008025004528462887, 0.001486320747062564, 0.05597446486353874, -0.02861255593597889, -0.0016219128156080842, 0.027335740625858307, -0.0324091762304306, 0.03269121050834656, -0.031863484531641006, -0.07551226019859314, 0.03413620963692665, -0.057639408856630325, -0.07720552384853363, -0.02243073843419552, -0.011277766898274422, 0.04569883272051811, 0.008573540486395359, 0.011167867109179497, 0.02109694667160511, 0.023012584075331688, 0.015374424867331982, -0.0037364033050835133, -0.04451819881796837, 0.021376091986894608, -0.012823514640331268, -0.0940813198685646, -0.03708259388804436, -0.05944180116057396, 0.013189883902668953, -0.0012024781899526715, -0.021102026104927063, 0.02112768217921257, 0.04167499020695686, 0.03331447020173073, 0.10340484976768494, -0.011689797975122929, 0.0034379472490400076, -0.014203421771526337, -0.026807373389601707, 0.021934006363153458, 0.007564135827124119, 0.01774231158196926, 0.02569492720067501, -0.03391749784350395, 0.009470080956816673, 0.015387049876153469, 0.04318832606077194, 0.029298841953277588, 0.038724999874830246, -0.012360909953713417, -0.029754042625427246, 0.006711567752063274, -0.011805370450019836, 0.025164909660816193, 0.027994172647595406, -0.03655824437737465, 0.01961061917245388, -0.01225113682448864, 0.03252030164003372, 0.0525166355073452, -0.07191626727581024, 0.0027175985742360353, 1.997194748583318e-34, -0.03499866649508476, -0.07567606121301651, -0.02081250213086605, 0.013292313553392887, 0.0007159788510762155, 0.0117921382188797, 0.033992890268564224, -0.004542636219412088, 0.0183472391217947, -0.05041570961475372, -0.005711699370294809], [0.02617880143225193, 0.009551744908094406, 0.001523291226476431, 0.02730557695031166, 0.001859238720498979, 0.013688293285667896, -0.048105351626873016, 0.01309465803205967, -0.022404711693525314, -0.006847548298537731, 0.05007045343518257, -0.026401711627840996, 0.018204335123300552, 0.027106108143925667, 0.02924394980072975, -0.10118398070335388, 0.012431777082383633, 0.01606201007962227, 0.06889065355062485, -0.002902476815506816, 0.019148433580994606, 0.01845383830368519, -0.003607914550229907, -0.004886708687990904, -0.007328356616199017, 0.004702471662312746, 0.017376312986016273, 0.01630156859755516, -0.026005007326602936, -0.07566691190004349, -0.04301711544394493, 0.005244871135801077, -0.025451214984059334, -0.049355365335941315, 2.0872923869319493e-06, 0.027051925659179688, -0.004601409658789635, -0.003382811788469553, -0.05999515578150749, 0.012559300288558006, -0.050395239144563675, 0.034755829721689224, 0.0031112993601709604, -0.013486401177942753, -0.03620729222893715, -0.027095722034573555, 0.01491593848913908, 0.08031684905290604, -0.029542895033955574, 0.0418291799724102, -0.0035800416953861713, -0.03581634908914566, -0.03250214084982872, -0.030415333807468414, 0.09819618612527847, -0.03228112682700157, -0.022637709975242615, -0.03517109155654907, 0.03985260799527168, 0.07417386770248413, 0.003081125905737281, 0.07455025613307953, -0.01652023382484913, 0.008292317390441895, -0.03551209717988968, 0.044905029237270355, 0.043295394629240036, -0.013345318846404552, -0.004904048051685095, -0.021206846460700035, 0.04648532345890999, 0.01848438009619713, 0.00982503592967987, 0.0016952621517702937, 0.012052907608449459, -0.011878596618771553, -0.04100220650434494, 0.1024441123008728, -0.012516763061285019, 0.023885183036327362, -0.01959039270877838, 0.022456450387835503, -0.0017933727940544486, 0.018934085965156555, -0.04039119556546211, 0.08355704694986343, -0.04077356308698654, -0.007664940319955349, -0.011991911567747593, 0.017058009281754494, -0.002708012703806162, -0.009350868873298168, -0.02389906905591488, -0.0030569022055715322, 0.06063561141490936, 0.009004605934023857, -0.07477216422557831, -0.04896726459264755, 0.011042414233088493, -0.013210680335760117, -0.018817834556102753, -0.011932965368032455, -0.06303438544273376, -0.016513343900442123, 0.033398717641830444, -0.059256453067064285, 0.002793944673612714, 0.019591761752963066, -0.07130462676286697, 0.010345685295760632, 0.07422122359275818, -0.061279214918613434, 0.0018613848369568586, 0.026154058054089546, -0.04006610065698624, -0.026349686086177826, 0.001809630892239511, -0.01126109343022108, 0.03360992297530174, 0.021034827455878258, 0.008113999851047993, -0.037236593663692474, 0.002962641417980194, 0.032303716987371445, 0.017595112323760986, 0.03170180320739746, 0.006765103433281183, 0.019049573689699173, 0.04030720889568329, -0.0023674501571804285, -0.01983431726694107, 0.03243745490908623, 0.01709795370697975, 0.02609836496412754, -0.022711684927344322, -0.006311682052910328, -0.0358952172100544, -0.0038145699072629213, 0.0029226294718682766, -0.024243425577878952, -0.05097382888197899, 0.00478376867249608, -0.027266064658761024, 0.004384985193610191, 0.03006168268620968, 0.02919299528002739, 0.013410975225269794, 0.007210986223071814, 0.025752881541848183, 0.05785227194428444, -0.05502789840102196, 0.06803750991821289, -0.1088082417845726, -0.018358295783400536, -0.01341271586716175, 0.01102379523217678, 0.05625128000974655, -0.018689261749386787, -0.014050517231225967, -0.002120318589732051, 0.05420717969536781, 0.05860232934355736, -0.055902596563100815, -0.012625282630324364, -0.02407757006585598, 0.03718535602092743, -0.04740084335207939, -0.04780685901641846, -0.012860811315476894, 0.030355148017406464, -0.005985779222100973, -0.009987965226173401, -0.03528067097067833, 0.060977257788181305, 0.013048331253230572, 0.08957860618829727, -0.0500374510884285, 0.02592034637928009, -0.023348132148385048, 0.05022658407688141, -0.03795844689011574, 0.051661115139722824, -0.02602715790271759, 0.011772098951041698, -0.012895297259092331, 0.05514548346400261, 0.028773926198482513, -0.07916956394910812, -0.001934031373821199, -0.059563249349594116, -0.05057333782315254, 0.01052053738385439, -0.02707790397107601, -0.017245182767510414, 0.0028045279905200005, -0.021663976833224297, 0.023632511496543884, -0.0007848094101063907, 0.008004368282854557, -0.014190892688930035, 0.020661048591136932, 0.020241914317011833, 0.045011114329099655, 0.038524329662323, -0.019196446985006332, -0.08855477720499039, 0.035060953348875046, -0.012175236828625202, 0.051221903413534164, 0.04643668979406357, 0.01967969909310341, 0.05496843904256821, -0.030212510377168655, 0.026963606476783752, -0.0008472402114421129, -0.05251973867416382, 0.01725679449737072, -0.018450498580932617, -0.09283120185136795, 0.002759512746706605, -0.0014078146778047085, 0.11952454596757889, 0.0064161391928792, 0.026659026741981506, 0.008999590761959553, -0.0029282202012836933, 0.015557732433080673, -0.014780784025788307, -0.03184491768479347, -0.01820232719182968, -0.01687527820467949, 0.00344414496794343, 0.0530213862657547, -0.002680797828361392, -0.009918552823364735, 0.0035292317625135183, -0.056441351771354675, -0.12134625762701035, -0.037017956376075745, -0.05307445675134659, 0.00901531521230936, 0.007556027267128229, 0.03631044179201126, 0.03292832896113396, -0.012745438143610954, -0.043982937932014465, 0.033269815146923065, 0.030593326315283775, 0.022457700222730637, -0.01284292433410883, 0.005219337064772844, 0.018746228888630867, 0.0020996700040996075, -0.014699427410960197, 0.05352792888879776, 0.0010076076723635197, -0.02308184839785099, 0.031583789736032486, 0.022993184626102448, 0.017603568732738495, 0.027043256908655167, -0.0606832355260849, -0.04075201600790024, 0.030636122450232506, -0.027857335284352303, 0.027175914496183395, -0.04439077153801918, -0.015670964494347572, 0.005805220454931259, 0.023210305720567703, -0.016075216233730316, 0.017429940402507782, 0.008527351543307304, -0.017018625512719154, 0.008796239271759987, -0.03041299618780613, -0.06030932813882828, 0.002402968006208539, -0.014300487004220486, 0.029502371326088905, 0.03516102954745293, 0.03774063289165497, -0.026265308260917664, -0.03787770867347717, 0.009878192096948624, 0.022740187123417854, 0.02577037550508976, -0.10297767072916031, -0.08587685972452164, -0.0008774991729296744, -0.003693485399708152, -0.0014008692232891917, 0.0226764976978302, -0.03795434162020683, 0.042125899344682693, -0.02235717885196209, 0.028587734326720238, 0.03176374360918999, 0.044852472841739655, 0.0790710300207138, 0.03156372904777527, 0.0209147147834301, 0.01922604814171791, -0.01578027755022049, -0.011060288175940514, 0.039794888347387314, 0.0009897345444187522, -0.055345628410577774, -0.0015420382842421532, 0.01149512268602848, 0.04774237051606178, 0.021195609122514725, 0.019507238641381264, 0.01806805096566677, -0.043862469494342804, -0.013554309494793415, 0.007230379153043032, -0.08632587641477585, -0.024355189874768257, 0.009443924762308598, -0.01076324563473463, 0.028292013332247734, -0.007790098898112774, 0.03174887225031853, -0.00811941921710968, -0.03904084488749504, -0.001968515571206808, 0.011509167030453682, -0.005421911831945181, -0.0015875949757173657, 0.00354094710201025, 0.05001075565814972, -0.042918138206005096, -0.004081612452864647, 0.013933341950178146, -0.00981821771711111, -0.003270108252763748, 0.012585016898810863, -0.025212828069925308, -0.01627526804804802, -0.007217153906822205, 0.00969091709703207, 0.01754067838191986, -0.1051991879940033, -0.06524631381034851, -0.019825810566544533, 0.039671674370765686, 0.007983461022377014, -0.06803737580776215, -0.03397226333618164, 0.05191255360841751, 0.01957378350198269, -0.03252580016851425, -0.0334823839366436, -0.036156248301267624, 0.01871337741613388, -0.011751214973628521, 0.017913341522216797, 0.031205635517835617, -0.08616606891155243, 0.04503420367836952, 0.06270842254161835, 0.016998199746012688, 0.040219422429800034, 0.018744727596640587, -0.005769164301455021, 0.03829679265618324, 0.017006991431117058, -0.0759754329919815, -0.010722584091126919, -0.013971312902867794, -0.02829345129430294, 0.00021857567480765283, 0.036100856959819794, -0.002709126565605402, 0.04795338213443756, 0.03280160576105118, -0.002343899104744196, -0.02682303637266159, 0.007513865828514099, -0.003591800108551979, -0.039984330534935, -0.0010998307261615992, 0.010009792633354664, -0.020181257277727127, -0.01101138535887003, -0.001303314114920795, -0.0525440089404583, 0.00010425637447042391, 0.0005349681014195085, -0.0005203654291108251, -0.03613262251019478, 0.017613835632801056, 0.03002704493701458, -0.022814031690359116, 0.04689696058630943, -0.0663919672369957, 0.008222212083637714, -0.013571830466389656, -0.004119737073779106, 0.016887100413441658, 0.02633870393037796, 0.04829889535903931, -0.07711363583803177, -0.014690937474370003, 0.025576896965503693, -0.04219408705830574, -0.02904064953327179, -0.019199643284082413, 0.04893805831670761, 0.008618369698524475, -0.09110206365585327, 0.029103528708219528, 0.03556402400135994, 0.06402159482240677, -0.012986318208277225, -0.01674492098391056, -0.06642014533281326, -0.018013834953308105, 0.04934277385473251, -0.052353791892528534, 0.01087571308016777, 0.032071880996227264, -0.007184955757111311, -0.03481964394450188, -0.007448785938322544, 0.0734519362449646, -0.04720805585384369, 0.00665736198425293, 0.0312616340816021, -0.07102500647306442, 0.029415568336844444, -0.02282819338142872, -0.007495339494198561, -0.022163091227412224, -0.03663717210292816, 0.03030886873602867, -0.0005664076888933778, 0.030718570575118065, -0.048028767108917236, -0.02864951640367508, -0.054449379444122314, 0.07672783732414246, 0.009502875618636608, 0.05337375029921532, 0.05544571205973625, -0.03800225257873535, -0.011900107376277447, -0.08093757182359695, 0.004003801383078098, -0.03172146528959274, 0.01002412848174572, 0.006594611331820488, -0.002537892898544669, 0.014131145551800728, -0.007707554847002029, -0.013895208947360516, -0.00896800309419632, -0.004884670488536358, -0.034759677946567535, -0.03200048580765724, 0.03978273645043373, -0.03847416862845421, 0.0140135008841753, -0.010138070210814476, -0.0003417443367652595, 0.02351774089038372, -0.06170625239610672, 0.06105000525712967, 0.0018843113211914897, 0.01760716736316681, 0.008003371767699718, -0.010702298954129219, 0.023283544927835464, -0.017921457067131996, 0.013760226778686047, -0.08195514976978302, -0.04887112230062485, -0.01352477353066206, -0.016777195036411285, 0.03228767588734627, 0.02721359208226204, -0.009750818833708763, 0.01390237919986248, -0.003820684738457203, -0.02184848114848137, -0.0040200212970376015, -0.013241570442914963, 0.003910911735147238, 0.04517759010195732, -0.027952222153544426, 0.01286822184920311, -0.009819862432777882, 0.055271878838539124, 0.020134788006544113, 0.02689940482378006, -0.07082600146532059, -0.04510069265961647, -0.03849660977721214, 0.006745446473360062, 0.007969784550368786, 0.030096769332885742, -0.015458380803465843, -0.0060720378533005714, -0.010110778734087944, -0.029020367190241814, -0.024436870589852333, -0.004015763755887747, 0.047397512942552567, -0.03682078421115875, -0.010660921223461628, 0.017226319760084152, -0.07153653353452682, -0.02877245843410492, 0.031793683767318726, -0.01738262176513672, -0.0428040511906147, -0.05951397866010666, 0.047630831599235535, 0.006182640325278044, -0.017706474289298058, -0.002364923246204853, 0.0991118922829628, -0.019031928852200508, -0.037105582654476166, -0.027419371530413628, 0.025246892124414444, -0.025411348789930344, -0.030856620520353317, 0.022556614130735397, -0.04019482061266899, -0.02362465113401413, -0.039174459874629974, 0.0004993820330128074, -0.02778737060725689, -0.03150077536702156, 0.023366043344140053, 0.022524558007717133, 0.008839763700962067, 0.005005153361707926, 0.0391237735748291, 0.012780527584254742, -0.012135970406234264, 0.039139848202466965, 0.055433239787817, 0.02487928979098797, 0.02264978364109993, -0.006733711343258619, 0.02564837411046028, -0.05033499002456665, 0.017440466210246086, 0.017062222585082054, 0.11989427357912064, -0.0012352124322205782, 0.06916426122188568, -6.89411053304757e-33, -0.022950012236833572, -0.035406675189733505, -0.0069297319278120995, 0.022365568205714226, -0.0744200125336647, 0.026786642149090767, -0.01343492604792118, 0.04747696593403816, 0.018471505492925644, 0.026935940608382225, -0.03268285095691681, -0.010784303769469261, 0.02370106428861618, 0.034842196851968765, 0.022367533296346664, -0.022587889805436134, 0.025501010939478874, 0.0023357518948614597, 0.0331735834479332, -0.004162025637924671, 0.010387638583779335, 0.011414042674005032, 0.060560762882232666, 0.01636826992034912, -0.005237320438027382, 0.004033948294818401, -0.009871356189250946, -0.04479867219924927, 0.0502600260078907, 0.013393156230449677, -0.012220388278365135, 0.013884195126593113, 0.014970263466238976, 0.014053701423108578, -0.046567827463150024, 0.08320146799087524, 0.016318680718541145, -0.03268852457404137, -0.019910162314772606, -0.0019273286452516913, -0.02802940271794796, -0.005316069815307856, 0.05836625397205353, -0.010462789796292782, -0.023069342598319054, -0.043955832719802856, 0.02970447577536106, -0.05897272750735283, -0.010272949002683163, 0.038907162845134735, -0.07196233421564102, 0.031872525811195374, -0.008290950208902359, -0.00030558049911633134, -0.035018742084503174, 0.10032286494970322, 0.02483006939291954, -0.021281694993376732, -0.027002966031432152, 0.0170294176787138, 0.03453980013728142, 0.05713235214352608, -0.05150895565748215, -0.05232248082756996, -0.01286414172500372, 0.019351862370967865, 0.006467203609645367, 0.005369740072637796, -0.04275799170136452, 0.013906099833548069, 0.01128800492733717, 0.02730744704604149, -0.024072714149951935, -0.0006860507419332862, 0.0315534882247448, -0.0372324213385582, -0.045755866914987564, 0.004600003361701965, -0.04249365255236626, 0.021957265213131905, 0.034752875566482544, 0.04096032679080963, -0.026989126577973366, -0.02887619473040104, -0.0065642655827105045, 0.014489118941128254, -0.0008110719500109553, 0.010928774252533913, -0.006984523497521877, 0.01586725190281868, 0.0006687605055049062, 0.05235010012984276, -0.017413480207324028, -0.03446459770202637, 0.0017386359395459294, 0.009481462650001049, -0.00040540844202041626, -0.012082084082067013, -0.05996377766132355, -0.00924418680369854, -0.010977617464959621, -0.008935504592955112, 0.004518183413892984, -0.022022360935807228, 0.022460132837295532, 0.02364623360335827, 0.055049773305654526, 0.01746920309960842, -0.0833531841635704, 0.007179789245128632, -0.011025596410036087, -0.018887514248490334, 0.026726368814706802, 0.004925306886434555, 0.022091930732131004, -0.0027293008752167225, 0.016758564859628677, 0.04946553707122803, -0.028224701061844826, -0.05977751687169075, 1.866722413979005e-05, 0.002755961613729596, 0.00573244784027338, 0.03320520743727684, -0.016421550884842873, 0.08222471922636032, -0.010405217297375202, -0.0194719098508358, 0.049114152789115906, -0.07053812593221664, -0.004121426027268171, -0.013083655387163162, 2.6949732045977726e-07, 0.03733750432729721, 0.0006226450786925852, 0.07692993432283401, -0.01624077372252941, 0.004330517258495092, -0.0025208035949617624, -0.029650991782546043, 0.04495690017938614, -0.11588284373283386, 0.0349920354783535, -0.011354424990713596, -0.03218032792210579, 0.03139646351337433, -0.0374332070350647, -0.07722048461437225, 0.010286589153110981, -0.07822532206773758, -0.05730173736810684, -0.011459254659712315, -0.06030886992812157, 0.08599201589822769, 0.00990851316601038, 0.03265491500496864, 0.023499492555856705, 0.011509311385452747, 0.032743655145168304, 0.008766408078372478, 0.0027455815579742193, 0.0359598807990551, -0.010180518962442875, -0.07929637283086777, -0.008005136623978615, -0.010067757219076157, -0.013909303583204746, -0.002930175978690386, -0.03308966010808945, 0.046276889741420746, 0.028185442090034485, 0.054432887583971024, 0.08120608329772949, 0.06390288472175598, 0.002900172956287861, -0.024909155443310738, -0.005103189963847399, 0.01044805534183979, 0.012744306586682796, -0.0032705781050026417, 0.04216443747282028, -0.0282762311398983, -0.00749286450445652, 0.031250495463609695, 0.03659679740667343, 0.00199356977827847, 0.003852306865155697, 0.005663247313350439, -0.03247332200407982, 0.019008755683898926, -0.045345645397901535, 0.00161644141189754, 0.08652834594249725, -0.03512496128678322, 0.06349457800388336, -0.03854360058903694, 0.01409897580742836, 0.050463560968637466, -0.07487518340349197, -0.024180961772799492, 1.6786884701263986e-34, -0.01644311472773552, -0.06596382707357407, -0.008375964127480984, 0.06114764139056206, -0.005317397881299257, 0.02006436511874199, 0.009372621774673462, -0.0043311151675879955, 0.05793065205216408, -0.031034573912620544, -0.003948199562728405]]\n"
          ]
        }
      ],
      "source": [
        "print(res)"
      ]
    },
    {
      "cell_type": "markdown",
      "metadata": {
        "id": "wPI4xB1Uqoi8"
      },
      "source": [
        "## Create database"
      ]
    },
    {
      "cell_type": "code",
      "execution_count": 82,
      "metadata": {
        "id": "b9dRgIpGbuf8"
      },
      "outputs": [],
      "source": [
        "import time\n",
        "from pinecone import Pinecone"
      ]
    },
    {
      "cell_type": "code",
      "execution_count": null,
      "metadata": {
        "colab": {
          "base_uri": "https://localhost:8080/"
        },
        "id": "9cQCOP1nbulv",
        "outputId": "749ad92d-784c-416b-c2db-42ca82bef386"
      },
      "outputs": [
        {
          "data": {
            "text/plain": [
              "{'dimension': 768,\n",
              " 'index_fullness': 0.0,\n",
              " 'metric': 'dotproduct',\n",
              " 'namespaces': {'': {'vector_count': 1694}},\n",
              " 'total_vector_count': 1694,\n",
              " 'vector_type': 'dense'}"
            ]
          },
          "execution_count": 83,
          "metadata": {},
          "output_type": "execute_result"
        }
      ],
      "source": [
        "pc = Pinecone(api_key = pinecone_api)\n",
        "index_name = \"us-places-ragv99\"     # If we have been create Vector database with this name we cannot crete again we have to delete it first\n",
        "existing_indexes = [\n",
        "    index_info[\"name\"] for index_info in pc.list_indexes()\n",
        "]\n",
        "\n",
        "    # if does not exist, create index\n",
        "if index_name not in existing_indexes:\n",
        "    pc.create_index(\n",
        "        index_name,\n",
        "        dimension = 768, # dimensionality of HF embedding (The dimention that have to equally with dimention than we embeddings)\n",
        "        metric = 'dotproduct',\n",
        "        spec = spec\n",
        "    )\n",
        "    # wait for index to be initialized\n",
        "    while not pc.describe_index(index_name).status['ready']:\n",
        "        time.sleep(1)\n",
        "# connect to index\n",
        "index = pc.Index(index_name)\n",
        "time.sleep(1)\n",
        "# view index stats\n",
        "index.describe_index_stats()"
      ]
    },
    {
      "cell_type": "markdown",
      "metadata": {
        "id": "npvCLjhTo-6W"
      },
      "source": [
        "- ถ้าหากว่ามันสร้างสำเร็จมันจะขึ้นประมาณนี้\n",
        "<img src='img/01.png'>"
      ]
    },
    {
      "cell_type": "code",
      "execution_count": 84,
      "metadata": {
        "id": "hikULH8zbuss"
      },
      "outputs": [],
      "source": [
        "# from tqdm.auto import tqdm\n",
        "# import numpy as np\n",
        "# import re\n",
        "# import unicodedata"
      ]
    },
    {
      "cell_type": "code",
      "execution_count": 85,
      "metadata": {
        "id": "U9vH3UquddCW"
      },
      "outputs": [],
      "source": [
        "# data = dataset.to_pandas() # this makes it easier to iterate over the dataset\n",
        "# batch_size = 100\n",
        "\n",
        "# # Helper functioin to convert numpy types to Python native types and handle nulls\n",
        "# def convert_to_native_types(obj):\n",
        "#     if obj is None:\n",
        "#         return \"\"      # Convert None to empty string\n",
        "#     elif isinstance(obj,np.ndarray):\n",
        "#         return obj.tolist()\n",
        "#     elif isinstance(obj, np.integer):\n",
        "#         return int(obj)\n",
        "#     elif isinstance(obj, np.floating):\n",
        "#         return float(obj)\n",
        "#     elif isinstance(obj, (list,tuple)):\n",
        "#         return [convert_to_native_types(item) for item in obj]\n",
        "#     elif isinstance(obj, dict):\n",
        "#         return {k: convert_to_native_types(v) for k,v in obj.items()}\n",
        "#     else:\n",
        "#         return obj\n",
        "\n",
        "# # Function to create ASCII-compatible IDs\n",
        "# def create_safe_id(destination, name, idx):\n",
        "#     # Normalize and remove accents\n",
        "#     destination = unicodedata.normalize('NFKD', str(destination)).encode('ASCII','ignore').decode('ASCII')\n",
        "#     name = unicodedata.normalize('NFKD', str(name)).encode('ASCII','ignore').decode('ASCII')\n",
        "#     # Replace any remaining non-alphanumeric characters with underscores\n",
        "#     destination = re.sub(r'[^a-zA-Z0-9]','_',destination)\n",
        "#     name = re.sub(r'[^a-zA-Z0-9]','_',name)\n",
        "#     # Create ID with sanitized values\n",
        "#     return f\"{destination}_{name}_{idx}\"\n",
        "\n",
        "\n",
        "# # Store valid recordss\n",
        "# valid_ids = []\n",
        "# valid_embeds = []\n",
        "# valid_metadata = []\n",
        "\n",
        "# for i in tqdm(range(0, len(data), batch_size)):\n",
        "#     i_end = min(len(data), i+batch_size)\n",
        "#     # get batch of data\n",
        "#     batch = data.iloc[i:i_end]\n",
        "#     for j, (idx,row) in enumerate(batch.iterrows()):\n",
        "#         try:\n",
        "#             # Check if essential fields exist and are not None\n",
        "#             if (row['DESCRIPTION'] is  None or 'description' not in row['DESCRIPTION'] or row['DESCRIPTION']['description'] in None):\n",
        "#                 continue\n",
        "#             # Generate ASCII-safe ID\n",
        "#             record_id = create_safe_id(row['DESTINATION'], row['NAME'], idx)\n",
        "#             # Create text for embedding\n",
        "#             text_to_embed = f\"Name: {row['NAME']}\\nLocation: {row['DESTINATION']}\\nDescription: {row['DESCRIPTION']['description']}\"\n",
        "#             # Get embedding\n",
        "#             embed = embed_model.embed_documents([text_to_embed])[0]\n",
        "#             # Prepare metadata with safe defaults\n",
        "#             metadata_entry = convert_to_native_types({\n",
        "#                 'text': row['DESCRIPTION'].get('description',\"\"),\n",
        "#                 'name': row['NAME'] or \"\",\n",
        "#                 'location': row['DESTINATION'] or \"\",\n",
        "#                 'rating': row['RATING'] if row['RATING'] is not None else 0.0,\n",
        "#                 'categories': row['DESCRIPTION'].get('categories',[]) if row['DESCRIPTION'] else [],\n",
        "#                 'reviews': row['REVIEWS'] if row['REVIEWS'] is not None else [],\n",
        "#                 'url': row['URL'] or \"\"\n",
        "#             })\n",
        "#             # Add to valid records\n",
        "#             valid_ids.append(record_id)\n",
        "#             valid_embeds.append(embed)\n",
        "#             valid_metadata.append(metadata_entry)\n",
        "#         except Exception as e:\n",
        "#             print(f\"Error processing row {idx}: {e}\")\n",
        "#             continue\n",
        "#     # If we have valid records in this batch, upsert them\n",
        "#     if valid_ids:\n",
        "#         # Upsert in smaller sub-batches to avoid overflow issues\n",
        "#         sub_batch_size = 50\n",
        "#         for k in range(0, len(valid_ids), sub_batch_size):\n",
        "#             k_end = min(len(valid_ids), k+sub_batch_size)\n",
        "#             try:\n",
        "#                 index.upsert(\n",
        "#                     vectors = zip(\n",
        "#                         valid_ids[k:k_end],\n",
        "#                         valid_embeds[k:k_end],\n",
        "#                         valid_metadata[k:k_end]\n",
        "#                     )\n",
        "#                 )\n",
        "#                 print(f\"Successfully upserted {k_end - k} records\")\n",
        "#             except Exception as e:\n",
        "#                 print(f\"Error upserting batch {k}-{k_end}: {e}\")\n",
        "#                 # Debug the first problematic ID\n",
        "#                 if len(valid_ids[k:k_end]) > 0:\n",
        "#                     print(f\"First ID in batch: {valid_ids[k]}\")\n",
        "#         # Clear lists for next batch\n",
        "#         valid_ids = []\n",
        "#         valid_embeds = []\n",
        "#         valid_metadata = []\n",
        "\n"
      ]
    },
    {
      "cell_type": "markdown",
      "metadata": {
        "id": "TGfDg1Zu49qO"
      },
      "source": [
        "- เราควรทำ Data science ก่อนมาทำอันนี้\n",
        "- ก่อนที่จะทำอันนี้เราควรเช็คค่า Type ต่างๆ"
      ]
    },
    {
      "cell_type": "code",
      "execution_count": null,
      "metadata": {
        "colab": {
          "base_uri": "https://localhost:8080/",
          "height": 917,
          "referenced_widgets": [
            "d158a3506f3f4ca98790cdaf3d17dec1",
            "48788b9337134963af015f2f71eb4bfe",
            "fc3e1f73085e4605a87b8e88a876d9ac",
            "4fe6f5a38a7048b3bdc5092846337da6",
            "395f2c79451b4cf6aed81d36fbc05801",
            "3ed121a7a8074559a94b4a903379788c",
            "4699dd813b6b48e99158b2841dbe160e",
            "05191340c8724f75bbe80ae198418dc1",
            "73b732f45ff840f29193d93c7ed82929",
            "47ccee9a4e0f4a57a42672e300f6b5fa",
            "428f32ae5dfe467995f4097126f578af"
          ]
        },
        "id": "Gq3gWFzGdc77",
        "outputId": "4fdebd43-a852-46b4-b51e-9ed627a7ad5c"
      },
      "outputs": [
        {
          "data": {
            "application/vnd.jupyter.widget-view+json": {
              "model_id": "d158a3506f3f4ca98790cdaf3d17dec1",
              "version_major": 2,
              "version_minor": 0
            },
            "text/plain": [
              "  0%|          | 0/27 [00:00<?, ?it/s]"
            ]
          },
          "metadata": {},
          "output_type": "display_data"
        },
        {
          "name": "stdout",
          "output_type": "stream",
          "text": [
            "Successfully upserted 50 records\n",
            "Successfully upserted 23 records\n",
            "Successfully upserted 50 records\n",
            "Successfully upserted 20 records\n",
            "Successfully upserted 38 records\n",
            "Successfully upserted 50 records\n",
            "Successfully upserted 28 records\n",
            "Successfully upserted 50 records\n",
            "Successfully upserted 1 records\n",
            "Successfully upserted 50 records\n",
            "Successfully upserted 10 records\n",
            "Successfully upserted 50 records\n",
            "Successfully upserted 29 records\n",
            "Successfully upserted 50 records\n",
            "Successfully upserted 4 records\n",
            "Successfully upserted 50 records\n",
            "Successfully upserted 11 records\n",
            "Successfully upserted 50 records\n",
            "Successfully upserted 30 records\n",
            "Successfully upserted 50 records\n",
            "Successfully upserted 32 records\n",
            "Successfully upserted 50 records\n",
            "Successfully upserted 13 records\n",
            "Successfully upserted 50 records\n",
            "Successfully upserted 40 records\n",
            "Successfully upserted 50 records\n",
            "Successfully upserted 18 records\n",
            "Successfully upserted 50 records\n",
            "Successfully upserted 50 records\n",
            "Successfully upserted 25 records\n",
            "Successfully upserted 50 records\n",
            "Successfully upserted 9 records\n",
            "Successfully upserted 50 records\n",
            "Successfully upserted 3 records\n",
            "Successfully upserted 50 records\n",
            "Successfully upserted 32 records\n",
            "Successfully upserted 50 records\n",
            "Successfully upserted 9 records\n",
            "Successfully upserted 49 records\n",
            "Successfully upserted 50 records\n",
            "Successfully upserted 22 records\n",
            "Successfully upserted 50 records\n",
            "Successfully upserted 19 records\n",
            "Successfully upserted 41 records\n",
            "Successfully upserted 50 records\n",
            "Successfully upserted 24 records\n",
            "Successfully upserted 50 records\n",
            "Successfully upserted 4 records\n",
            "Successfully upserted 10 records\n",
            "Skipped rows with missing/invalid DESCRIPTION: 1006\n"
          ]
        }
      ],
      "source": [
        "from tqdm.auto import tqdm\n",
        "import numpy as np\n",
        "import pandas as pd\n",
        "import math\n",
        "import re, unicodedata\n",
        "\n",
        "data = dataset.to_pandas()\n",
        "batch_size = 100\n",
        "\n",
        "def is_missing(x):\n",
        "    # handles None and NaN\n",
        "    return x is None or (isinstance(x, float) and math.isnan(x))\n",
        "\n",
        "def convert_to_native_types(obj):\n",
        "    if obj is None:\n",
        "        return \"\"     # Convert None to empty string\n",
        "    if isinstance(obj, np.ndarray):\n",
        "        return obj.tolist()\n",
        "    if isinstance(obj, np.integer):\n",
        "        return int(obj)\n",
        "    if isinstance(obj, np.floating):\n",
        "        return \"\" if np.isnan(obj) else float(obj)\n",
        "    if isinstance(obj, (list, tuple)):\n",
        "        return [convert_to_native_types(v) for v in obj]\n",
        "    if isinstance(obj, dict):\n",
        "        return {k: convert_to_native_types(v) for k, v in obj.items()}\n",
        "    return obj\n",
        "\n",
        "# ขั้นตอนของการ Clean ข้อมูลเวลาที่เราเอาข้อมูลใส่เข้าไปใน Vector database มันไม่ควรจะเป็นข้อมูลในลักษณะของ Null\n",
        "def create_safe_id(destination, name, idx):\n",
        "    destination = unicodedata.normalize('NFKD', str(destination or \"\")).encode('ASCII','ignore').decode('ASCII')\n",
        "    name        = unicodedata.normalize('NFKD', str(name or \"\")).encode('ASCII','ignore').decode('ASCII')\n",
        "    destination = re.sub(r'[^a-zA-Z0-9]+','_', destination).strip('_')\n",
        "    name        = re.sub(r'[^a-zA-Z0-9]+','_', name).strip('_')\n",
        "    return f\"{destination}_{name}_{idx}\"\n",
        "\n",
        "# Store valid recordss\n",
        "valid_ids = []\n",
        "valid_embeds = []\n",
        "valid_metadata = []\n",
        "skipped = 0\n",
        "\n",
        "for i in tqdm(range(0, len(data), batch_size)):\n",
        "    batch = data.iloc[i:min(len(data), i+batch_size)]\n",
        "    for idx, row in batch.iterrows():\n",
        "        try:\n",
        "            desc_obj = row.get('DESCRIPTION', None)\n",
        "\n",
        "            # Must be a dict and contain a non-empty string 'description'\n",
        "            if not isinstance(desc_obj, dict):\n",
        "                skipped += 1\n",
        "                continue\n",
        "            desc_text = desc_obj.get('description', \"\")\n",
        "            if not isinstance(desc_text, str) or not desc_text.strip():\n",
        "                skipped += 1\n",
        "                continue\n",
        "\n",
        "            name = row.get('NAME', \"\") or \"\"\n",
        "            dest = row.get('DESTINATION', \"\") or \"\"\n",
        "            rating = row.get('RATING', 0.0)\n",
        "            reviews = row.get('REVIEWS', [])\n",
        "            url = row.get('URL', \"\") or \"\"\n",
        "            categories = desc_obj.get('categories', [])\n",
        "            if not isinstance(categories, list):\n",
        "                categories = []\n",
        "\n",
        "            text_to_embed = f\"Name: {name}\\nLocation: {dest}\\nDescription: {desc_text}\"\n",
        "            embed = embed_model.embed_documents([text_to_embed])[0]\n",
        "\n",
        "            record_id = create_safe_id(dest, name, idx)\n",
        "\n",
        "            metadata_entry = convert_to_native_types({\n",
        "                'text': desc_text,\n",
        "                'name': name,\n",
        "                'location': dest,\n",
        "                'rating': 0.0 if is_missing(rating) else float(rating),\n",
        "                'categories': categories,\n",
        "                'reviews': reviews if isinstance(reviews, list) else [],\n",
        "                'url': url\n",
        "            })\n",
        "\n",
        "            valid_ids.append(record_id)\n",
        "            valid_embeds.append(embed)\n",
        "            valid_metadata.append(metadata_entry)\n",
        "\n",
        "        except Exception as e:\n",
        "            print(f\"Error processing row {idx}: {e}\")\n",
        "\n",
        "    # upsert per outer batch\n",
        "    if valid_ids:\n",
        "        sub_batch_size = 50\n",
        "        for k in range(0, len(valid_ids), sub_batch_size):\n",
        "            k_end = min(len(valid_ids), k+sub_batch_size)\n",
        "            try:\n",
        "                payload = list(zip(\n",
        "                    valid_ids[k:k_end],\n",
        "                    valid_embeds[k:k_end],\n",
        "                    valid_metadata[k:k_end]\n",
        "                ))\n",
        "                index.upsert(vectors=payload)\n",
        "                print(f\"Successfully upserted {k_end - k} records\")\n",
        "            except Exception as e:\n",
        "                print(f\"Error upserting batch {k}-{k_end}: {e}\")\n",
        "                if k < len(valid_ids):\n",
        "                    print(f\"First ID in batch: {valid_ids[k]}\")\n",
        "        # clear for next outer batch\n",
        "        valid_ids.clear(); valid_embeds.clear(); valid_metadata.clear()\n",
        "\n",
        "print(f\"Skipped rows with missing/invalid DESCRIPTION: {skipped}\")\n"
      ]
    },
    {
      "cell_type": "code",
      "execution_count": 87,
      "metadata": {
        "id": "RKUU-4HDdc1X"
      },
      "outputs": [],
      "source": [
        "# 2:07:43"
      ]
    },
    {
      "cell_type": "code",
      "execution_count": 88,
      "metadata": {
        "colab": {
          "base_uri": "https://localhost:8080/"
        },
        "collapsed": true,
        "id": "XkQUc6lVGNay",
        "outputId": "aa246b8a-750c-4626-a377-87cbd822ce60"
      },
      "outputs": [
        {
          "name": "stdout",
          "output_type": "stream",
          "text": [
            "Requirement already satisfied: langchain-pinecone in /usr/local/lib/python3.12/dist-packages (0.2.12)\n",
            "Requirement already satisfied: langchain-core<1.0.0,>=0.3.34 in /usr/local/lib/python3.12/dist-packages (from langchain-pinecone) (0.3.76)\n",
            "Requirement already satisfied: pinecone<8.0.0,>=6.0.0 in /usr/local/lib/python3.12/dist-packages (from pinecone[asyncio]<8.0.0,>=6.0.0->langchain-pinecone) (7.3.0)\n",
            "Requirement already satisfied: numpy>=1.26.4 in /usr/local/lib/python3.12/dist-packages (from langchain-pinecone) (2.0.2)\n",
            "Requirement already satisfied: langchain-openai>=0.3.11 in /usr/local/lib/python3.12/dist-packages (from langchain-pinecone) (0.3.33)\n",
            "Requirement already satisfied: httpx>=0.28.0 in /usr/local/lib/python3.12/dist-packages (from langchain-pinecone) (0.28.1)\n",
            "Requirement already satisfied: simsimd>=5.9.11 in /usr/local/lib/python3.12/dist-packages (from langchain-pinecone) (6.5.3)\n",
            "Requirement already satisfied: langsmith>=0.3.45 in /usr/local/lib/python3.12/dist-packages (from langchain-core<1.0.0,>=0.3.34->langchain-pinecone) (0.4.27)\n",
            "Requirement already satisfied: tenacity!=8.4.0,<10.0.0,>=8.1.0 in /usr/local/lib/python3.12/dist-packages (from langchain-core<1.0.0,>=0.3.34->langchain-pinecone) (8.5.0)\n",
            "Requirement already satisfied: jsonpatch<2.0,>=1.33 in /usr/local/lib/python3.12/dist-packages (from langchain-core<1.0.0,>=0.3.34->langchain-pinecone) (1.33)\n",
            "Requirement already satisfied: PyYAML>=5.3 in /usr/local/lib/python3.12/dist-packages (from langchain-core<1.0.0,>=0.3.34->langchain-pinecone) (6.0.2)\n",
            "Requirement already satisfied: typing-extensions>=4.7 in /usr/local/lib/python3.12/dist-packages (from langchain-core<1.0.0,>=0.3.34->langchain-pinecone) (4.15.0)\n",
            "Requirement already satisfied: packaging>=23.2 in /usr/local/lib/python3.12/dist-packages (from langchain-core<1.0.0,>=0.3.34->langchain-pinecone) (24.2)\n",
            "Requirement already satisfied: pydantic>=2.7.4 in /usr/local/lib/python3.12/dist-packages (from langchain-core<1.0.0,>=0.3.34->langchain-pinecone) (2.11.7)\n",
            "Requirement already satisfied: jsonpointer>=1.9 in /usr/local/lib/python3.12/dist-packages (from jsonpatch<2.0,>=1.33->langchain-core<1.0.0,>=0.3.34->langchain-pinecone) (3.0.0)\n",
            "Requirement already satisfied: certifi>=2019.11.17 in /usr/local/lib/python3.12/dist-packages (from pinecone<8.0.0,>=6.0.0->pinecone[asyncio]<8.0.0,>=6.0.0->langchain-pinecone) (2025.8.3)\n",
            "Requirement already satisfied: pinecone-plugin-assistant<2.0.0,>=1.6.0 in /usr/local/lib/python3.12/dist-packages (from pinecone<8.0.0,>=6.0.0->pinecone[asyncio]<8.0.0,>=6.0.0->langchain-pinecone) (1.8.0)\n",
            "Requirement already satisfied: pinecone-plugin-interface<0.0.8,>=0.0.7 in /usr/local/lib/python3.12/dist-packages (from pinecone<8.0.0,>=6.0.0->pinecone[asyncio]<8.0.0,>=6.0.0->langchain-pinecone) (0.0.7)\n",
            "Requirement already satisfied: python-dateutil>=2.5.3 in /usr/local/lib/python3.12/dist-packages (from pinecone<8.0.0,>=6.0.0->pinecone[asyncio]<8.0.0,>=6.0.0->langchain-pinecone) (2.9.0.post0)\n",
            "Requirement already satisfied: urllib3>=1.26.5 in /usr/local/lib/python3.12/dist-packages (from pinecone<8.0.0,>=6.0.0->pinecone[asyncio]<8.0.0,>=6.0.0->langchain-pinecone) (2.5.0)\n",
            "Requirement already satisfied: requests<3.0.0,>=2.32.3 in /usr/local/lib/python3.12/dist-packages (from pinecone-plugin-assistant<2.0.0,>=1.6.0->pinecone<8.0.0,>=6.0.0->pinecone[asyncio]<8.0.0,>=6.0.0->langchain-pinecone) (2.32.4)\n",
            "Requirement already satisfied: aiohttp>=3.9.0 in /usr/local/lib/python3.12/dist-packages (from pinecone[asyncio]<8.0.0,>=6.0.0->langchain-pinecone) (3.12.15)\n",
            "Requirement already satisfied: aiohttp-retry<3.0.0,>=2.9.1 in /usr/local/lib/python3.12/dist-packages (from pinecone[asyncio]<8.0.0,>=6.0.0->langchain-pinecone) (2.9.1)\n",
            "Requirement already satisfied: charset_normalizer<4,>=2 in /usr/local/lib/python3.12/dist-packages (from requests<3.0.0,>=2.32.3->pinecone-plugin-assistant<2.0.0,>=1.6.0->pinecone<8.0.0,>=6.0.0->pinecone[asyncio]<8.0.0,>=6.0.0->langchain-pinecone) (3.4.3)\n",
            "Requirement already satisfied: idna<4,>=2.5 in /usr/local/lib/python3.12/dist-packages (from requests<3.0.0,>=2.32.3->pinecone-plugin-assistant<2.0.0,>=1.6.0->pinecone<8.0.0,>=6.0.0->pinecone[asyncio]<8.0.0,>=6.0.0->langchain-pinecone) (3.10)\n",
            "Requirement already satisfied: aiohappyeyeballs>=2.5.0 in /usr/local/lib/python3.12/dist-packages (from aiohttp>=3.9.0->pinecone[asyncio]<8.0.0,>=6.0.0->langchain-pinecone) (2.6.1)\n",
            "Requirement already satisfied: aiosignal>=1.4.0 in /usr/local/lib/python3.12/dist-packages (from aiohttp>=3.9.0->pinecone[asyncio]<8.0.0,>=6.0.0->langchain-pinecone) (1.4.0)\n",
            "Requirement already satisfied: attrs>=17.3.0 in /usr/local/lib/python3.12/dist-packages (from aiohttp>=3.9.0->pinecone[asyncio]<8.0.0,>=6.0.0->langchain-pinecone) (25.3.0)\n",
            "Requirement already satisfied: frozenlist>=1.1.1 in /usr/local/lib/python3.12/dist-packages (from aiohttp>=3.9.0->pinecone[asyncio]<8.0.0,>=6.0.0->langchain-pinecone) (1.7.0)\n",
            "Requirement already satisfied: multidict<7.0,>=4.5 in /usr/local/lib/python3.12/dist-packages (from aiohttp>=3.9.0->pinecone[asyncio]<8.0.0,>=6.0.0->langchain-pinecone) (6.6.4)\n",
            "Requirement already satisfied: propcache>=0.2.0 in /usr/local/lib/python3.12/dist-packages (from aiohttp>=3.9.0->pinecone[asyncio]<8.0.0,>=6.0.0->langchain-pinecone) (0.3.2)\n",
            "Requirement already satisfied: yarl<2.0,>=1.17.0 in /usr/local/lib/python3.12/dist-packages (from aiohttp>=3.9.0->pinecone[asyncio]<8.0.0,>=6.0.0->langchain-pinecone) (1.20.1)\n",
            "Requirement already satisfied: anyio in /usr/local/lib/python3.12/dist-packages (from httpx>=0.28.0->langchain-pinecone) (4.10.0)\n",
            "Requirement already satisfied: httpcore==1.* in /usr/local/lib/python3.12/dist-packages (from httpx>=0.28.0->langchain-pinecone) (1.0.9)\n",
            "Requirement already satisfied: h11>=0.16 in /usr/local/lib/python3.12/dist-packages (from httpcore==1.*->httpx>=0.28.0->langchain-pinecone) (0.16.0)\n",
            "Requirement already satisfied: openai<2.0.0,>=1.104.2 in /usr/local/lib/python3.12/dist-packages (from langchain-openai>=0.3.11->langchain-pinecone) (1.107.0)\n",
            "Requirement already satisfied: tiktoken<1,>=0.7 in /usr/local/lib/python3.12/dist-packages (from langchain-openai>=0.3.11->langchain-pinecone) (0.11.0)\n",
            "Requirement already satisfied: distro<2,>=1.7.0 in /usr/local/lib/python3.12/dist-packages (from openai<2.0.0,>=1.104.2->langchain-openai>=0.3.11->langchain-pinecone) (1.9.0)\n",
            "Requirement already satisfied: jiter<1,>=0.4.0 in /usr/local/lib/python3.12/dist-packages (from openai<2.0.0,>=1.104.2->langchain-openai>=0.3.11->langchain-pinecone) (0.10.0)\n",
            "Requirement already satisfied: sniffio in /usr/local/lib/python3.12/dist-packages (from openai<2.0.0,>=1.104.2->langchain-openai>=0.3.11->langchain-pinecone) (1.3.1)\n",
            "Requirement already satisfied: tqdm>4 in /usr/local/lib/python3.12/dist-packages (from openai<2.0.0,>=1.104.2->langchain-openai>=0.3.11->langchain-pinecone) (4.67.1)\n",
            "Requirement already satisfied: annotated-types>=0.6.0 in /usr/local/lib/python3.12/dist-packages (from pydantic>=2.7.4->langchain-core<1.0.0,>=0.3.34->langchain-pinecone) (0.7.0)\n",
            "Requirement already satisfied: pydantic-core==2.33.2 in /usr/local/lib/python3.12/dist-packages (from pydantic>=2.7.4->langchain-core<1.0.0,>=0.3.34->langchain-pinecone) (2.33.2)\n",
            "Requirement already satisfied: typing-inspection>=0.4.0 in /usr/local/lib/python3.12/dist-packages (from pydantic>=2.7.4->langchain-core<1.0.0,>=0.3.34->langchain-pinecone) (0.4.1)\n",
            "Requirement already satisfied: regex>=2022.1.18 in /usr/local/lib/python3.12/dist-packages (from tiktoken<1,>=0.7->langchain-openai>=0.3.11->langchain-pinecone) (2024.11.6)\n",
            "Requirement already satisfied: orjson>=3.9.14 in /usr/local/lib/python3.12/dist-packages (from langsmith>=0.3.45->langchain-core<1.0.0,>=0.3.34->langchain-pinecone) (3.11.3)\n",
            "Requirement already satisfied: requests-toolbelt>=1.0.0 in /usr/local/lib/python3.12/dist-packages (from langsmith>=0.3.45->langchain-core<1.0.0,>=0.3.34->langchain-pinecone) (1.0.0)\n",
            "Requirement already satisfied: zstandard>=0.23.0 in /usr/local/lib/python3.12/dist-packages (from langsmith>=0.3.45->langchain-core<1.0.0,>=0.3.34->langchain-pinecone) (0.24.0)\n",
            "Requirement already satisfied: six>=1.5 in /usr/local/lib/python3.12/dist-packages (from python-dateutil>=2.5.3->pinecone<8.0.0,>=6.0.0->pinecone[asyncio]<8.0.0,>=6.0.0->langchain-pinecone) (1.17.0)\n"
          ]
        }
      ],
      "source": [
        "!pip install -U langchain-pinecone\n"
      ]
    },
    {
      "cell_type": "code",
      "execution_count": 89,
      "metadata": {
        "id": "MASUHxTfGfVP"
      },
      "outputs": [],
      "source": [
        "# import warnings\n",
        "# warnings.filterwarnings(\"ignore\", category=UserWarning)\n"
      ]
    },
    {
      "cell_type": "code",
      "execution_count": 90,
      "metadata": {
        "id": "r8NFzcqhdcx-"
      },
      "outputs": [],
      "source": [
        "from pinecone import Pinecone\n",
        "from langchain_pinecone import PineconeVectorStore\n",
        "\n",
        "# Initialize Pinecone client\n",
        "pc = Pinecone(api_key=pinecone_api)\n",
        "\n",
        "# Connect to index (new API uses .index not .Index)\n",
        "index = pc.Index(\"us-places-ragv99\")   # still works in SDK\n",
        "# or equivalently\n",
        "# index = pc.index(\"us-places-ragv99\")\n",
        "\n",
        "# Create vector store wrapper\n",
        "vectorstore = PineconeVectorStore(\n",
        "    index=index,\n",
        "    embedding=embed_model,    # pass full embedding object, not .embed_query\n",
        "    text_key=\"text\"\n",
        ")\n"
      ]
    },
    {
      "cell_type": "code",
      "execution_count": 91,
      "metadata": {
        "id": "RE9Nm-n2dcir"
      },
      "outputs": [],
      "source": [
        "# query = \"beautiful beach in California\"\n",
        "# results = vectorstore.similarity_search(query, k=3)\n",
        "\n",
        "# for i, doc in enumerate(results, 1):\n",
        "#     print(f\"\\nResult {i}\")\n",
        "#     print(\"Text:\", doc.page_content)\n",
        "#     print(\"Metadata:\", doc.metadata)\n"
      ]
    },
    {
      "cell_type": "code",
      "execution_count": 92,
      "metadata": {
        "colab": {
          "base_uri": "https://localhost:8080/"
        },
        "id": "S5IB1zVodcNm",
        "outputId": "681f39d0-85cf-49eb-ecda-fb6d0ab1e3c2"
      },
      "outputs": [
        {
          "data": {
            "text/plain": [
              "[Document(id='Miami_Vizcaya_Museum_and_Gardens_0', metadata={'categories': [], 'location': 'Miami', 'name': 'Vizcaya Museum and Gardens', 'rating': 4.5, 'reviews': [], 'url': 'https://www.tripadvisor.com/Attraction_Review-g34438-d130345-Reviews-Vizcaya_Museum_and_Gardens-Miami_Florida.html'}, page_content='Built in 1916 as a winter retreat, this lavish villa is a tribute to the Italian Renaissance. The museum contains much of the original furnishings and artwork, and is surrounded by lush, formal gardens.')]"
            ]
          },
          "execution_count": 92,
          "metadata": {},
          "output_type": "execute_result"
        }
      ],
      "source": [
        "query = \"What is Vizcaya Museum and Gardens\"\n",
        "vectorstore.similarity_search(query, k = 1)"
      ]
    },
    {
      "cell_type": "code",
      "execution_count": 93,
      "metadata": {
        "id": "HmYb0DM3dcHO"
      },
      "outputs": [],
      "source": [
        "def augment_prompt(query:str):\n",
        "    # get top 3 results from knowledge base\n",
        "    results = vectorstore.similarity_search(query, k=3)\n",
        "    # get the text from the results\n",
        "    source_knowledge = \"\\n\".join([x.page_content for x in results])\n",
        "    # feed into an augmented prompt\n",
        "    augmented_prompt = f\"\"\"Using the contexts below, answer the query\n",
        "\n",
        "    Contexts:\n",
        "    {source_knowledge}\n",
        "\n",
        "    Query : {query}\"\"\"\n",
        "    return augmented_prompt"
      ]
    },
    {
      "cell_type": "code",
      "execution_count": 94,
      "metadata": {
        "colab": {
          "base_uri": "https://localhost:8080/"
        },
        "id": "YDk1L9wcdbmc",
        "outputId": "6f0dad2b-28ef-4e16-8632-633041827115"
      },
      "outputs": [
        {
          "name": "stdout",
          "output_type": "stream",
          "text": [
            "Using the contexts below, answer the query\n",
            "\n",
            "    Contexts:\n",
            "    Built in 1916 as a winter retreat, this lavish villa is a tribute to the Italian Renaissance. The museum contains much of the original furnishings and artwork, and is surrounded by lush, formal gardens.\n",
            "Brilliance abounds inside our breathtaking Conservatory & Botanical Gardens. The attention to detail is astounding. The passionate display of nature in all its awe-evoking glory - quite simply, sensational! Let your imagination wander as you assume a leisurely stroll amongst rare natural finds selected distinctively for Bellagio from all over the world. Admire the essence of every season recreated with exceptionally gorgeous plants, flowers and trees thoughtfully arranged to inspire full splendor\n",
            "This must-see museum exhibits creative and colorful blown glass sculptures of renowned artist Dale Chihuly. Eight indoor galleries and lush landscaped gardens feature a mix of new and past significant works. They are awe-inspiring whether you visit during the day, or in the evening when the sculptures are lit up. The highlight here is a 100-foot-long glass sculpture suspended in a glass conservatory—one of his largest ever.\n",
            "\n",
            "Located at the base of the iconic Space Needle, you might want to buy a combined ticket for cost savings or get a Seattle City Pass. \n",
            "\n",
            "– Tripadvisor\n",
            "\n",
            "    Query : What is Vizcaya Museum and Gardens\n"
          ]
        }
      ],
      "source": [
        "print(augment_prompt(query))"
      ]
    },
    {
      "cell_type": "code",
      "execution_count": 95,
      "metadata": {
        "colab": {
          "base_uri": "https://localhost:8080/"
        },
        "id": "vw0RdZXFKcVd",
        "outputId": "18e59aca-27e6-41df-d4c3-0240efdeb3d6"
      },
      "outputs": [
        {
          "name": "stdout",
          "output_type": "stream",
          "text": [
            "The Vizcaya Museum and Gardens is a lavish villa built in 1916 as a winter retreat, showcasing the Italian Renaissance style. It features the original furnishings and artwork, and is surrounded by lush, formal gardens. The museum is a tribute to the Italian Renaissance and offers a glimpse into the past, with its well-preserved architecture and beautiful gardens.\n"
          ]
        }
      ],
      "source": [
        "# create a new user prompt\n",
        "prompt = HumanMessage(\n",
        "    content = augment_prompt(query)\n",
        ")\n",
        "# add to messages\n",
        "messages.append(prompt)\n",
        "\n",
        "res = chat(messages)\n",
        "print(res.content )"
      ]
    },
    {
      "cell_type": "code",
      "execution_count": 96,
      "metadata": {
        "colab": {
          "base_uri": "https://localhost:8080/"
        },
        "id": "m8SgA-CuKyTa",
        "outputId": "5745ea22-e83d-4d8a-e739-109586723fee"
      },
      "outputs": [
        {
          "name": "stdout",
          "output_type": "stream",
          "text": [
            "I don't have a specific review of the Miami Seaquarium in the provided contexts. However, I can suggest that the Vizcaya Museum and Gardens, mentioned in the context, is a different attraction located in Miami, and it seems to be a historic estate with beautiful gardens and artwork.\n",
            "\n",
            "If you're looking for information about the Miami Seaquarium, I can tell you that it's a popular marine park located in Miami, Florida, known for its dolphin and sea lion shows, as well as its shark, ray, and sea turtle exhibits. However, I don't have a specific review or rating to provide.\n",
            "\n",
            "If you'd like, I can try to provide more general information about the Miami Seaquarium, or I can try to find a review from a external source. Let me know how I can assist you further!\n"
          ]
        }
      ],
      "source": [
        "# LLMs not connect RAG\n",
        "prompt = HumanMessage(\n",
        "    content = \"Give me a review of Miami Seaquarium?\"\n",
        ")\n",
        "res = chat(messages + [prompt])\n",
        "print(res.content)"
      ]
    },
    {
      "cell_type": "code",
      "execution_count": 97,
      "metadata": {
        "colab": {
          "base_uri": "https://localhost:8080/"
        },
        "id": "eUUcgYTILOyj",
        "outputId": "b206dd87-5eb0-4495-f439-6d7859c160c1"
      },
      "outputs": [
        {
          "name": "stdout",
          "output_type": "stream",
          "text": [
            "Based on the provided context, here's a review of Miami Seaquarium:\n",
            "\n",
            "Miami Seaquarium is a 38-acre tropical paradise that offers a unique and exciting experience for visitors of all ages. The attraction features a world-class marine-life entertainment park with eight different marine animal shows and daily presentations. Some of the highlights include:\n",
            "\n",
            "* Dolphin shows and interaction programs at Dolphin Harbor\n",
            "* Sea lion exhibits and performances\n",
            "* Endangered sea turtles and manatees in a safe haven\n",
            "* Killer whale and dolphin performances\n",
            "\n",
            "The context describes Miami Seaquarium as a place of \"inspiration, education, and fun!\" where visitors can enjoy a hands-on experience with dolphins and other marine animals. The attraction seems to prioritize the welfare and conservation of marine life, making it a great destination for families and animal lovers.\n",
            "\n",
            "Overall, Miami Seaquarium appears to be a must-visit attraction in South Florida, offering an unforgettable experience with its stunning skyline views, spectacular marine life shows, and interactive programs.\n"
          ]
        }
      ],
      "source": [
        "# LLMs connect RAG\n",
        "prompt = HumanMessage(\n",
        "    content = augment_prompt(\n",
        "        \"Give me a review of Miami Seaquarium?\"\n",
        "    )\n",
        ")\n",
        "res = chat(messages + [prompt])\n",
        "print(res.content)"
      ]
    }
  ],
  "metadata": {
    "colab": {
      "provenance": []
    },
    "kernelspec": {
      "display_name": "Python 3",
      "name": "python3"
    },
    "language_info": {
      "name": "python"
    },
    "widgets": {
      "application/vnd.jupyter.widget-state+json": {
        "05191340c8724f75bbe80ae198418dc1": {
          "model_module": "@jupyter-widgets/base",
          "model_module_version": "1.2.0",
          "model_name": "LayoutModel",
          "state": {
            "_model_module": "@jupyter-widgets/base",
            "_model_module_version": "1.2.0",
            "_model_name": "LayoutModel",
            "_view_count": null,
            "_view_module": "@jupyter-widgets/base",
            "_view_module_version": "1.2.0",
            "_view_name": "LayoutView",
            "align_content": null,
            "align_items": null,
            "align_self": null,
            "border": null,
            "bottom": null,
            "display": null,
            "flex": null,
            "flex_flow": null,
            "grid_area": null,
            "grid_auto_columns": null,
            "grid_auto_flow": null,
            "grid_auto_rows": null,
            "grid_column": null,
            "grid_gap": null,
            "grid_row": null,
            "grid_template_areas": null,
            "grid_template_columns": null,
            "grid_template_rows": null,
            "height": null,
            "justify_content": null,
            "justify_items": null,
            "left": null,
            "margin": null,
            "max_height": null,
            "max_width": null,
            "min_height": null,
            "min_width": null,
            "object_fit": null,
            "object_position": null,
            "order": null,
            "overflow": null,
            "overflow_x": null,
            "overflow_y": null,
            "padding": null,
            "right": null,
            "top": null,
            "visibility": null,
            "width": null
          }
        },
        "395f2c79451b4cf6aed81d36fbc05801": {
          "model_module": "@jupyter-widgets/base",
          "model_module_version": "1.2.0",
          "model_name": "LayoutModel",
          "state": {
            "_model_module": "@jupyter-widgets/base",
            "_model_module_version": "1.2.0",
            "_model_name": "LayoutModel",
            "_view_count": null,
            "_view_module": "@jupyter-widgets/base",
            "_view_module_version": "1.2.0",
            "_view_name": "LayoutView",
            "align_content": null,
            "align_items": null,
            "align_self": null,
            "border": null,
            "bottom": null,
            "display": null,
            "flex": null,
            "flex_flow": null,
            "grid_area": null,
            "grid_auto_columns": null,
            "grid_auto_flow": null,
            "grid_auto_rows": null,
            "grid_column": null,
            "grid_gap": null,
            "grid_row": null,
            "grid_template_areas": null,
            "grid_template_columns": null,
            "grid_template_rows": null,
            "height": null,
            "justify_content": null,
            "justify_items": null,
            "left": null,
            "margin": null,
            "max_height": null,
            "max_width": null,
            "min_height": null,
            "min_width": null,
            "object_fit": null,
            "object_position": null,
            "order": null,
            "overflow": null,
            "overflow_x": null,
            "overflow_y": null,
            "padding": null,
            "right": null,
            "top": null,
            "visibility": null,
            "width": null
          }
        },
        "3ed121a7a8074559a94b4a903379788c": {
          "model_module": "@jupyter-widgets/base",
          "model_module_version": "1.2.0",
          "model_name": "LayoutModel",
          "state": {
            "_model_module": "@jupyter-widgets/base",
            "_model_module_version": "1.2.0",
            "_model_name": "LayoutModel",
            "_view_count": null,
            "_view_module": "@jupyter-widgets/base",
            "_view_module_version": "1.2.0",
            "_view_name": "LayoutView",
            "align_content": null,
            "align_items": null,
            "align_self": null,
            "border": null,
            "bottom": null,
            "display": null,
            "flex": null,
            "flex_flow": null,
            "grid_area": null,
            "grid_auto_columns": null,
            "grid_auto_flow": null,
            "grid_auto_rows": null,
            "grid_column": null,
            "grid_gap": null,
            "grid_row": null,
            "grid_template_areas": null,
            "grid_template_columns": null,
            "grid_template_rows": null,
            "height": null,
            "justify_content": null,
            "justify_items": null,
            "left": null,
            "margin": null,
            "max_height": null,
            "max_width": null,
            "min_height": null,
            "min_width": null,
            "object_fit": null,
            "object_position": null,
            "order": null,
            "overflow": null,
            "overflow_x": null,
            "overflow_y": null,
            "padding": null,
            "right": null,
            "top": null,
            "visibility": null,
            "width": null
          }
        },
        "428f32ae5dfe467995f4097126f578af": {
          "model_module": "@jupyter-widgets/controls",
          "model_module_version": "1.5.0",
          "model_name": "DescriptionStyleModel",
          "state": {
            "_model_module": "@jupyter-widgets/controls",
            "_model_module_version": "1.5.0",
            "_model_name": "DescriptionStyleModel",
            "_view_count": null,
            "_view_module": "@jupyter-widgets/base",
            "_view_module_version": "1.2.0",
            "_view_name": "StyleView",
            "description_width": ""
          }
        },
        "4699dd813b6b48e99158b2841dbe160e": {
          "model_module": "@jupyter-widgets/controls",
          "model_module_version": "1.5.0",
          "model_name": "DescriptionStyleModel",
          "state": {
            "_model_module": "@jupyter-widgets/controls",
            "_model_module_version": "1.5.0",
            "_model_name": "DescriptionStyleModel",
            "_view_count": null,
            "_view_module": "@jupyter-widgets/base",
            "_view_module_version": "1.2.0",
            "_view_name": "StyleView",
            "description_width": ""
          }
        },
        "47ccee9a4e0f4a57a42672e300f6b5fa": {
          "model_module": "@jupyter-widgets/base",
          "model_module_version": "1.2.0",
          "model_name": "LayoutModel",
          "state": {
            "_model_module": "@jupyter-widgets/base",
            "_model_module_version": "1.2.0",
            "_model_name": "LayoutModel",
            "_view_count": null,
            "_view_module": "@jupyter-widgets/base",
            "_view_module_version": "1.2.0",
            "_view_name": "LayoutView",
            "align_content": null,
            "align_items": null,
            "align_self": null,
            "border": null,
            "bottom": null,
            "display": null,
            "flex": null,
            "flex_flow": null,
            "grid_area": null,
            "grid_auto_columns": null,
            "grid_auto_flow": null,
            "grid_auto_rows": null,
            "grid_column": null,
            "grid_gap": null,
            "grid_row": null,
            "grid_template_areas": null,
            "grid_template_columns": null,
            "grid_template_rows": null,
            "height": null,
            "justify_content": null,
            "justify_items": null,
            "left": null,
            "margin": null,
            "max_height": null,
            "max_width": null,
            "min_height": null,
            "min_width": null,
            "object_fit": null,
            "object_position": null,
            "order": null,
            "overflow": null,
            "overflow_x": null,
            "overflow_y": null,
            "padding": null,
            "right": null,
            "top": null,
            "visibility": null,
            "width": null
          }
        },
        "48788b9337134963af015f2f71eb4bfe": {
          "model_module": "@jupyter-widgets/controls",
          "model_module_version": "1.5.0",
          "model_name": "HTMLModel",
          "state": {
            "_dom_classes": [],
            "_model_module": "@jupyter-widgets/controls",
            "_model_module_version": "1.5.0",
            "_model_name": "HTMLModel",
            "_view_count": null,
            "_view_module": "@jupyter-widgets/controls",
            "_view_module_version": "1.5.0",
            "_view_name": "HTMLView",
            "description": "",
            "description_tooltip": null,
            "layout": "IPY_MODEL_3ed121a7a8074559a94b4a903379788c",
            "placeholder": "​",
            "style": "IPY_MODEL_4699dd813b6b48e99158b2841dbe160e",
            "value": "100%"
          }
        },
        "4fe6f5a38a7048b3bdc5092846337da6": {
          "model_module": "@jupyter-widgets/controls",
          "model_module_version": "1.5.0",
          "model_name": "HTMLModel",
          "state": {
            "_dom_classes": [],
            "_model_module": "@jupyter-widgets/controls",
            "_model_module_version": "1.5.0",
            "_model_name": "HTMLModel",
            "_view_count": null,
            "_view_module": "@jupyter-widgets/controls",
            "_view_module_version": "1.5.0",
            "_view_name": "HTMLView",
            "description": "",
            "description_tooltip": null,
            "layout": "IPY_MODEL_47ccee9a4e0f4a57a42672e300f6b5fa",
            "placeholder": "​",
            "style": "IPY_MODEL_428f32ae5dfe467995f4097126f578af",
            "value": " 27/27 [10:17&lt;00:00, 16.91s/it]"
          }
        },
        "73b732f45ff840f29193d93c7ed82929": {
          "model_module": "@jupyter-widgets/controls",
          "model_module_version": "1.5.0",
          "model_name": "ProgressStyleModel",
          "state": {
            "_model_module": "@jupyter-widgets/controls",
            "_model_module_version": "1.5.0",
            "_model_name": "ProgressStyleModel",
            "_view_count": null,
            "_view_module": "@jupyter-widgets/base",
            "_view_module_version": "1.2.0",
            "_view_name": "StyleView",
            "bar_color": null,
            "description_width": ""
          }
        },
        "d158a3506f3f4ca98790cdaf3d17dec1": {
          "model_module": "@jupyter-widgets/controls",
          "model_module_version": "1.5.0",
          "model_name": "HBoxModel",
          "state": {
            "_dom_classes": [],
            "_model_module": "@jupyter-widgets/controls",
            "_model_module_version": "1.5.0",
            "_model_name": "HBoxModel",
            "_view_count": null,
            "_view_module": "@jupyter-widgets/controls",
            "_view_module_version": "1.5.0",
            "_view_name": "HBoxView",
            "box_style": "",
            "children": [
              "IPY_MODEL_48788b9337134963af015f2f71eb4bfe",
              "IPY_MODEL_fc3e1f73085e4605a87b8e88a876d9ac",
              "IPY_MODEL_4fe6f5a38a7048b3bdc5092846337da6"
            ],
            "layout": "IPY_MODEL_395f2c79451b4cf6aed81d36fbc05801"
          }
        },
        "fc3e1f73085e4605a87b8e88a876d9ac": {
          "model_module": "@jupyter-widgets/controls",
          "model_module_version": "1.5.0",
          "model_name": "FloatProgressModel",
          "state": {
            "_dom_classes": [],
            "_model_module": "@jupyter-widgets/controls",
            "_model_module_version": "1.5.0",
            "_model_name": "FloatProgressModel",
            "_view_count": null,
            "_view_module": "@jupyter-widgets/controls",
            "_view_module_version": "1.5.0",
            "_view_name": "ProgressView",
            "bar_style": "success",
            "description": "",
            "description_tooltip": null,
            "layout": "IPY_MODEL_05191340c8724f75bbe80ae198418dc1",
            "max": 27,
            "min": 0,
            "orientation": "horizontal",
            "style": "IPY_MODEL_73b732f45ff840f29193d93c7ed82929",
            "value": 27
          }
        }
      }
    }
  },
  "nbformat": 4,
  "nbformat_minor": 0
}
